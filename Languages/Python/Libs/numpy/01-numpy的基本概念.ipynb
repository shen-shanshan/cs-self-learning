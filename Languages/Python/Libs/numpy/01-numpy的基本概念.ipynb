{
 "cells": [
  {
   "cell_type": "markdown",
   "id": "4106ec48-1bb3-4f3b-9cc7-5e032d1832d6",
   "metadata": {},
   "source": [
    "# NumPy 介绍"
   ]
  },
  {
   "cell_type": "markdown",
   "id": "a23af43d-413d-452d-a245-1c73799d8a01",
   "metadata": {},
   "source": [
    "## 什么是 NumPy?\r\n",
    "\r\n",
    "NumPy是Python中科学计算的基础包。它是一个Python库，提供多维数组对象，各种派生对象（如掩码数组和矩阵），以及用于数组快速操作的各种API，有包括数学、逻辑、形状操作、排序、选择、输入输出、离散傅立叶变换、基本线性代数，基本统计运算和随机模拟等等。\r\n",
    "\r\n",
    "NumPy包的核心是 *ndarray* 对象。它封装了python原生的同数据类型的 *n* 维数组，为了保证其性能优良，其中有许多操作都是代码在本地进行编译后执行的。\r\n",
    "\r\n",
    "NumPy数组 和 原生Python Array（数组）之间有几个重要的区别：\r\n",
    "\r\n",
    "- NumPy 数组在创建时具有固定的大小，与Python的原生数组对象（可以动态增长）不同。更改ndarray的大小将创建一个新数组并同大小元素的数组。\r\n",
    "- NumPy 数组有助于对大量数据进行高级数学和其他类型的操作。通常，这些操作的执行效率更高，比使用Python原生数组的代码更少。\r\n",
    "- 越来越多的基于Python的科学和数学软件包使用NumPy数组; 虽然这些工具通常都支持Python的原生数组作为参数，但它们在处理之前会还是会将输入的数组转换为NumPy的数组，而且也通常输出为NumPy数组。换句话说，为了高效地使用当今科学/数学基于Python的工具（大部分的科学计算工具），你只知道如何使用Python的原生数组类型是不够的 - 还需要知道如何使用 NumPy 数组。\r\n",
    "\r\n",
    "关于数组大小和速度的要点在科学计算中尤为重要。举一个简单的例子，考虑将1维数组中的每个元素与相同长度的另一个序列中的相应元素相乘的情况。如果数据存储在两个Python 列表 ``a`` 和 ``b`` 中，我们可以迭代每个元素，如下所示：\r\n",
    "\r\n",
    "``` python\r\n",
    "c = []\r\n",
    "for i in range(len(a)):\r\n",
    "    c.append(a[i]*b[i])\r\n",
    "```\r\n",
    "\r\n",
    "确实符合我们的要求，但如果``a``和``b``每一个都包含数以百万计的数字，我们会付出Python中循环的效率低下的代价。我们可以通过在C中写入以下代码，更快地完成相同的任务（为了清楚起见，我们忽略了变量声明和初始化，内存分配等）。\r\n",
    "\r\n",
    "```c\r\n",
    "for (i = 0; i < rows; i++): {\r\n",
    "  c[i] = a[i]*b[i];\r\n",
    "}\r\n",
    "```\r\n",
    "\r\n",
    "这节省了解释Python代码和操作Python对象所涉及的所有开销，但牺牲了用Python编写代码所带来的好处。此外，编码工作需要增加的维度，我们的数据。例如，对于二维数组，C代码(如前所述)会扩展为这样：\r\n",
    "\r\n",
    "```c\r\n",
    "for (i = 0; i < rows; i++): {\r\n",
    "  for (j = 0; j < columns; j++): {\r\n",
    "    c[i][j] = a[i][j]*b[i][j];\r\n",
    "  }\r\n",
    "}\r\n",
    "```\r\n",
    "\r\n",
    "NumPy 为我们提供了两全其美的解决方案：当涉及到 *ndarray* 时，逐个元素的操作是“默认模式”，但逐个元素的操作由预编译的C代码快速执行。在NumPy中：\r\n",
    "\r\n",
    "```python\r\n",
    "c = a * b\r\n",
    "```\r\n",
    "\r\n",
    "以近C速度执行前面的示例\n",
    "最后一个例子说明了NumPy的两个特征，它们是NumPy的大部分功能的基础：矢量化和广播。所做的事情，但是我们期望基于Python的代码具有简单性。的确，NumPy的语法更为简单！"
   ]
  },
  {
   "cell_type": "markdown",
   "id": "c41a13ca-c15e-45c9-b3c5-369c251f614d",
   "metadata": {},
   "source": [
    "\n",
    "## 为什么 NumPy 这么快？\r\n",
    "\r\n",
    "矢量化描述了代码中没有任何显式的循环，索引等 - 这些当然是预编译的C代码中“幕后”优化的结果。矢量化代码有许多优点，其中包括：\r\n",
    "\r\n",
    "- 矢量化代码更简洁，更易于阅读\r\n",
    "- 更少的代码行通常意味着更少的错误\r\n",
    "- 代码更接近于标准的数学符号（通常，更容易正确编码数学结构）\r\n",
    "- 矢量化导致产生更多 “Pythonic” 代码。如果没有矢量化，我们的代码就会被低效且难以阅读的``for``循环所困扰。\r\n",
    "\r\n",
    "广播是用于描述操作的隐式逐元素行为的术语; 一般来说，在NumPy中，所有操作，不仅仅是算术运算，而是逻辑，位，功能等，都以这种隐式的逐元素方式表现，即它们进行广播。此外，在上面的例子中，``a``并且``b``可以是相同形状的多维数组，或者标量和数组，或者甚至是具有不同形状的两个数组，条件是较小的数组可以“y.doc.broa"
   ]
  },
  {
   "cell_type": "markdown",
   "id": "1d00818a-a7b3-4e1a-b248-0275249bdea3",
   "metadata": {},
   "source": [
    "\r\n",
    "\r\n",
    "## 还有谁在使用 NumPy？\r\n",
    "\r\n",
    "NumPy完全支持面向对象的方法，我们再夸奖一次 *ndarray* 。 我们知道 *ndarray* 是一个类，拥有许多方法和属性。它的许多方法都由最外层的NumPy命名空间中的函数镜像，允许程序员在他们喜欢的范例中进行编码。这种灵活性使NumPy数组方言和NumPy *ndarray* 类成为在Python中使用的多维数据交换的 *首选* 对象。\r"
   ]
  },
  {
   "cell_type": "markdown",
   "id": "f7fba468-38b4-4b30-8c02-8f33d5b1b794",
   "metadata": {},
   "source": [
    "# numpy安装\n",
    "\n",
    "### 使用pip安装\n",
    "\n",
    "如果你已经安装了Python，那么可以使用Python包管理器pip来安装numpy。在命令行中执行以下命令：\n",
    "\n",
    "```\n",
    "pip install numpy\n",
    "```\n",
    "\n",
    "### 使用conda安装\n",
    "\n",
    "如果你使用Anaconda发行版来管理Python环境，可以使用conda来安装numpy。在命令行中执行以下命令：\n",
    "\n",
    "```\n",
    "conda install numpy\n",
    "```\n",
    "\n",
    "特殊的，你可以在notebook里面通过在命令前面添加!来直接终端命令，例如"
   ]
  },
  {
   "cell_type": "code",
   "execution_count": 1,
   "id": "87db994a-0c4b-4384-809f-94d20bd29cbb",
   "metadata": {},
   "outputs": [
    {
     "name": "stdout",
     "output_type": "stream",
     "text": [
      "Looking in indexes: https://pypi.tuna.tsinghua.edu.cn/simple\n",
      "Requirement already satisfied: numpy in e:\\wk_1080ti\\miniconda\\envs\\deepshare\\lib\\site-packages (1.26.0)\n"
     ]
    }
   ],
   "source": [
    "!pip install numpy"
   ]
  },
  {
   "cell_type": "code",
   "execution_count": null,
   "id": "f903e1a3-021f-4dde-87f4-e8c754eaac60",
   "metadata": {},
   "outputs": [],
   "source": [
    "!conda install numpy"
   ]
  }
 ],
 "metadata": {
  "kernelspec": {
   "display_name": "Python 3 (ipykernel)",
   "language": "python",
   "name": "python3"
  },
  "language_info": {
   "codemirror_mode": {
    "name": "ipython",
    "version": 3
   },
   "file_extension": ".py",
   "mimetype": "text/x-python",
   "name": "python",
   "nbconvert_exporter": "python",
   "pygments_lexer": "ipython3",
   "version": "3.9.18"
  }
 },
 "nbformat": 4,
 "nbformat_minor": 5
}
