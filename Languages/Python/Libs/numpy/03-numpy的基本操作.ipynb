{
 "cells": [
  {
   "cell_type": "code",
   "execution_count": 1,
   "id": "75e54868-f693-434d-acf1-d3f5309e953f",
   "metadata": {},
   "outputs": [],
   "source": [
    "import numpy as np"
   ]
  },
  {
   "cell_type": "markdown",
   "id": "3f1cd054-0b88-4e4a-9bf5-dd55a23882af",
   "metadata": {},
   "source": [
    "## Numpy的基本操作\n",
    "\n",
    "在本节中，我们将从数组的基本统计属性入手，进一步了解Numpy数组的特性。主要内容包括以下几个方面：\n",
    "\n",
    "- 尺寸相关\n",
    "- 最大值、最小值、中位数和分位数\n",
    "- 平均值、求和和标准差等\n",
    "\n",
    "这些都是描述性统计相关的指标，对于整体了解一个数组非常有帮助。其中，我们经常使用的是尺寸相关的\"shape\"属性，以及最大值、最小值、平均值和求和等。\n",
    "\n",
    "在本节中，我们将使用一个随机生成的数组作为操作对象，并指定种子(seed)，以确保每次运行时结果都是一样的。在训练模型时，通常需要指定种子(seed)，以便在相同的条件下进行调参。\n",
    "\n",
    "首先，让我们创建一个随机数生成器(generator)："
   ]
  },
  {
   "cell_type": "code",
   "execution_count": 2,
   "id": "45b8941f-9719-4da9-a890-d81c8f942ae8",
   "metadata": {},
   "outputs": [],
   "source": [
    "# 创建一个随机数生成器\n",
    "rng = np.random.default_rng(seed=42)"
   ]
  },
  {
   "cell_type": "markdown",
   "id": "b4f49d33-5ae9-425f-b151-177df65bbe21",
   "metadata": {},
   "source": [
    "然后，我们使用均匀分布生成一个3行4列的数组："
   ]
  },
  {
   "cell_type": "code",
   "execution_count": 3,
   "id": "0349a610-8070-4ddd-9a8d-78bc81724513",
   "metadata": {},
   "outputs": [
    {
     "data": {
      "text/plain": [
       "array([[0.77395605, 0.43887844, 0.85859792, 0.69736803],\n",
       "       [0.09417735, 0.97562235, 0.7611397 , 0.78606431],\n",
       "       [0.12811363, 0.45038594, 0.37079802, 0.92676499]])"
      ]
     },
     "execution_count": 3,
     "metadata": {},
     "output_type": "execute_result"
    }
   ],
   "source": [
    "# 生成一个均匀分布的数组\n",
    "arr = rng.uniform(0, 1, (3, 4))\n",
    "arr"
   ]
  },
  {
   "cell_type": "markdown",
   "id": "908ecc11-45b6-4874-91ce-9a3aaec78d69",
   "metadata": {},
   "source": [
    "### 尺寸相关\n",
    "\n",
    "在本小节中，我们将介绍数组的维度、形状和数据量等尺寸相关的属性。其中，形状(`shape`)属性是我们经常使用的。\n",
    "\n",
    "首先，让我们看看数组的维度："
   ]
  },
  {
   "cell_type": "code",
   "execution_count": 5,
   "id": "7126d366-0495-434c-9a82-cb375d6e40de",
   "metadata": {},
   "outputs": [
    {
     "data": {
      "text/plain": [
       "2"
      ]
     },
     "execution_count": 5,
     "metadata": {},
     "output_type": "execute_result"
    }
   ],
   "source": [
    "# 维度，数组是二维的（两个维度）\n",
    "arr.ndim"
   ]
  },
  {
   "cell_type": "code",
   "execution_count": 6,
   "id": "826921ca-8d96-4698-b6bf-42414826e4eb",
   "metadata": {},
   "outputs": [
    {
     "data": {
      "text/plain": [
       "(3, 4)"
      ]
     },
     "execution_count": 6,
     "metadata": {},
     "output_type": "execute_result"
    }
   ],
   "source": [
    "# 形状，返回一个元组\n",
    "arr.shape"
   ]
  },
  {
   "cell_type": "code",
   "execution_count": 8,
   "id": "cb7027b6-fdeb-4574-a50b-82af91f21c36",
   "metadata": {},
   "outputs": [
    {
     "data": {
      "text/plain": [
       "12"
      ]
     },
     "execution_count": 8,
     "metadata": {},
     "output_type": "execute_result"
    }
   ],
   "source": [
    "# 数据量\n",
    "arr.size"
   ]
  },
  {
   "cell_type": "markdown",
   "id": "7213015a-0fc4-4add-9634-db5575be26f3",
   "metadata": {},
   "source": [
    "### 最值和分位数\n",
    "\n",
    "在本小节中，我们将介绍数组的最大值、最小值、中位数和其他分位数等属性。其中，最大值和最小值是我们经常使用的。\n",
    "\n",
    "首先，让我们查看数组的最大值："
   ]
  },
  {
   "cell_type": "code",
   "execution_count": 9,
   "id": "c028f649-193d-4e33-9359-e5a7478e689e",
   "metadata": {},
   "outputs": [
    {
     "data": {
      "text/plain": [
       "array([[0.77395605, 0.43887844, 0.85859792, 0.69736803],\n",
       "       [0.09417735, 0.97562235, 0.7611397 , 0.78606431],\n",
       "       [0.12811363, 0.45038594, 0.37079802, 0.92676499]])"
      ]
     },
     "execution_count": 9,
     "metadata": {},
     "output_type": "execute_result"
    }
   ],
   "source": [
    "arr"
   ]
  },
  {
   "cell_type": "code",
   "execution_count": 10,
   "id": "808bde2c-6e62-4d5b-b1af-52763bff94a9",
   "metadata": {},
   "outputs": [
    {
     "data": {
      "text/plain": [
       "0.9756223516367559"
      ]
     },
     "execution_count": 10,
     "metadata": {},
     "output_type": "execute_result"
    }
   ],
   "source": [
    "arr.max()"
   ]
  },
  {
   "cell_type": "markdown",
   "id": "c383df6e-0d6e-4db4-872a-8888a62cd53f",
   "metadata": {},
   "source": [
    "我们还可以按指定的维度查找最大值，比如按列查找："
   ]
  },
  {
   "cell_type": "code",
   "execution_count": 11,
   "id": "9504486a-9015-418e-ad4e-82905466fba4",
   "metadata": {},
   "outputs": [
    {
     "data": {
      "text/plain": [
       "array([0.77395605, 0.97562235, 0.85859792, 0.92676499])"
      ]
     },
     "execution_count": 11,
     "metadata": {},
     "output_type": "execute_result"
    }
   ],
   "source": [
    "arr.max(axis=0)"
   ]
  },
  {
   "cell_type": "markdown",
   "id": "8ba482b4-98a8-4bc7-aa3d-8809a1414103",
   "metadata": {},
   "source": [
    "类似地，我们也可以按行查找最大值："
   ]
  },
  {
   "cell_type": "code",
   "execution_count": 10,
   "id": "82f83695-1469-4ec0-93ca-f31a883ba1f6",
   "metadata": {},
   "outputs": [
    {
     "data": {
      "text/plain": [
       "array([0.85859792, 0.97562235, 0.92676499])"
      ]
     },
     "execution_count": 10,
     "metadata": {},
     "output_type": "execute_result"
    }
   ],
   "source": [
    "arr.max(axis=1)"
   ]
  },
  {
   "cell_type": "markdown",
   "id": "69ab8c40-6688-4801-b084-9393fa761605",
   "metadata": {},
   "source": [
    "在进行计算时，有时我们需要保持原有的维度。例如，如果我们按行查找最小值，并保持行的维度不变："
   ]
  },
  {
   "cell_type": "code",
   "execution_count": 12,
   "id": "8b23130f-e8bc-4f56-b346-3fb0a87c7251",
   "metadata": {},
   "outputs": [
    {
     "data": {
      "text/plain": [
       "array([[0.43887844],\n",
       "       [0.09417735],\n",
       "       [0.12811363]])"
      ]
     },
     "execution_count": 12,
     "metadata": {},
     "output_type": "execute_result"
    }
   ],
   "source": [
    "arr.min(axis=1, keepdims=True)"
   ]
  },
  {
   "cell_type": "markdown",
   "id": "694d8e01-fa70-4d8c-a523-aa79b0313ad1",
   "metadata": {},
   "source": [
    "同样地，我们也可以按列查找最小值并保持维度不变："
   ]
  },
  {
   "cell_type": "code",
   "execution_count": 12,
   "id": "c44a0fde-3199-450f-bea1-26584e24ff5d",
   "metadata": {},
   "outputs": [
    {
     "data": {
      "text/plain": [
       "array([[0.09417735, 0.43887844, 0.37079802, 0.69736803]])"
      ]
     },
     "execution_count": 12,
     "metadata": {},
     "output_type": "execute_result"
    }
   ],
   "source": [
    "arr.min(axis=0, keepdims=True)"
   ]
  },
  {
   "cell_type": "markdown",
   "id": "01aa9834-9f97-48e8-9f2b-c929df813042",
   "metadata": {},
   "source": [
    "如果我们不保持维度不变，可以使用`keepdims=False`："
   ]
  },
  {
   "cell_type": "code",
   "execution_count": 13,
   "id": "a136779b-beb0-486d-860d-77b27bfb967a",
   "metadata": {},
   "outputs": [
    {
     "data": {
      "text/plain": [
       "array([0.09417735, 0.43887844, 0.37079802, 0.69736803])"
      ]
     },
     "execution_count": 13,
     "metadata": {},
     "output_type": "execute_result"
    }
   ],
   "source": [
    "arr.min(axis=0, keepdims=False)"
   ]
  },
  {
   "cell_type": "markdown",
   "id": "a43bd0e7-e2c7-4b4d-a6ac-b52a153d4b8e",
   "metadata": {},
   "source": [
    "### 平均值、求和和标准差\n",
    "\n",
    "在本小节中，我们将介绍数组的平均值、累计求和、方差和标准差等统计指标。其中，平均值是我们经常使用的。\n",
    "\n",
    "首先，让我们查看数组的平均值："
   ]
  },
  {
   "cell_type": "code",
   "execution_count": 13,
   "id": "73b5571a-52de-4fff-a166-bd38bea23224",
   "metadata": {},
   "outputs": [
    {
     "data": {
      "text/plain": [
       "array([[0.77395605, 0.43887844, 0.85859792, 0.69736803],\n",
       "       [0.09417735, 0.97562235, 0.7611397 , 0.78606431],\n",
       "       [0.12811363, 0.45038594, 0.37079802, 0.92676499]])"
      ]
     },
     "execution_count": 13,
     "metadata": {},
     "output_type": "execute_result"
    }
   ],
   "source": [
    "arr"
   ]
  },
  {
   "cell_type": "code",
   "execution_count": 14,
   "id": "3437f9fd-ba09-4aa0-a893-44e4e692dec8",
   "metadata": {},
   "outputs": [
    {
     "data": {
      "text/plain": [
       "0.6051555606435642"
      ]
     },
     "execution_count": 14,
     "metadata": {},
     "output_type": "execute_result"
    }
   ],
   "source": [
    "np.average(arr) #np.mean()"
   ]
  },
  {
   "cell_type": "markdown",
   "id": "0e8621b9-511b-42ad-b7ba-bf04000262d3",
   "metadata": {},
   "source": [
    "我们还可以按指定的维度计算平均值，例如按列计算："
   ]
  },
  {
   "cell_type": "code",
   "execution_count": 15,
   "id": "c05f7d34-7dae-4708-98b4-aa51fff5ee60",
   "metadata": {},
   "outputs": [
    {
     "data": {
      "text/plain": [
       "array([0.33208234, 0.62162891, 0.66351188, 0.80339911])"
      ]
     },
     "execution_count": 15,
     "metadata": {},
     "output_type": "execute_result"
    }
   ],
   "source": [
    "np.average(arr, axis=0)"
   ]
  },
  {
   "cell_type": "markdown",
   "id": "ee4d1eea-3eb8-4398-b773-fddfd7db74a3",
   "metadata": {},
   "source": [
    "接下来，让我们计算数组的求和："
   ]
  },
  {
   "cell_type": "code",
   "execution_count": 16,
   "id": "bb538148-1eec-4ade-9b95-0f0c79d46447",
   "metadata": {},
   "outputs": [
    {
     "data": {
      "text/plain": [
       "array([2.76880044, 2.61700371, 1.87606258])"
      ]
     },
     "execution_count": 16,
     "metadata": {},
     "output_type": "execute_result"
    }
   ],
   "source": [
    "np.sum(arr, axis=1)"
   ]
  },
  {
   "cell_type": "markdown",
   "id": "122586f3-9d10-46b0-abda-b72d3bd36235",
   "metadata": {},
   "source": [
    "如果我们想保持维度不变，可以使用`keepdims=True`："
   ]
  },
  {
   "cell_type": "code",
   "execution_count": 17,
   "id": "bfba9d55-9165-47f9-bc3f-9917066ac458",
   "metadata": {},
   "outputs": [
    {
     "data": {
      "text/plain": [
       "array([[2.76880044],\n",
       "       [2.61700371],\n",
       "       [1.87606258]])"
      ]
     },
     "execution_count": 17,
     "metadata": {},
     "output_type": "execute_result"
    }
   ],
   "source": [
    "np.sum(arr, axis=1, keepdims=True)"
   ]
  },
  {
   "cell_type": "code",
   "execution_count": 15,
   "id": "90f6949b-60c5-4b27-ad99-05bfc97dcc0e",
   "metadata": {},
   "outputs": [
    {
     "data": {
      "text/plain": [
       "array([[0.77395605, 0.43887844, 0.85859792, 0.69736803],\n",
       "       [0.09417735, 0.97562235, 0.7611397 , 0.78606431],\n",
       "       [0.12811363, 0.45038594, 0.37079802, 0.92676499]])"
      ]
     },
     "execution_count": 15,
     "metadata": {},
     "output_type": "execute_result"
    }
   ],
   "source": [
    "arr"
   ]
  },
  {
   "cell_type": "markdown",
   "id": "7854e726-3f60-42a0-9186-e0c9ca493bc5",
   "metadata": {},
   "source": [
    "我们还可以按列进行累计求和："
   ]
  },
  {
   "cell_type": "code",
   "execution_count": 18,
   "id": "c12d45ee-ea5b-4341-a3e5-6d019c3a82e8",
   "metadata": {},
   "outputs": [
    {
     "data": {
      "text/plain": [
       "array([[0.77395605, 0.43887844, 0.85859792, 0.69736803],\n",
       "       [0.8681334 , 1.41450079, 1.61973762, 1.48343233],\n",
       "       [0.99624703, 1.86488673, 1.99053565, 2.41019732]])"
      ]
     },
     "execution_count": 18,
     "metadata": {},
     "output_type": "execute_result"
    }
   ],
   "source": [
    "np.cumsum(arr, axis=0)"
   ]
  },
  {
   "cell_type": "markdown",
   "id": "3c16fbaa-6d66-4473-b16c-f8b7aa738b11",
   "metadata": {},
   "source": [
    "同样地，我们也可以按行进行累计求和："
   ]
  },
  {
   "cell_type": "code",
   "execution_count": 19,
   "id": "89361720-4801-49a7-acb3-eaafa4dafa59",
   "metadata": {},
   "outputs": [
    {
     "data": {
      "text/plain": [
       "array([[0.77395605, 1.21283449, 2.07143241, 2.76880044],\n",
       "       [0.09417735, 1.0697997 , 1.8309394 , 2.61700371],\n",
       "       [0.12811363, 0.57849957, 0.94929759, 1.87606258]])"
      ]
     },
     "execution_count": 19,
     "metadata": {},
     "output_type": "execute_result"
    }
   ],
   "source": [
    "np.cumsum(arr, axis=1)"
   ]
  },
  {
   "cell_type": "markdown",
   "id": "b648f019-70fa-4e38-9e7e-c43d732e2639",
   "metadata": {},
   "source": [
    "最后，让我们计算数组的标准差："
   ]
  },
  {
   "cell_type": "code",
   "execution_count": 20,
   "id": "0e16ddac-9eec-4721-9144-2fa6ccdbea63",
   "metadata": {},
   "outputs": [
    {
     "data": {
      "text/plain": [
       "0.28783096517727075"
      ]
     },
     "execution_count": 20,
     "metadata": {},
     "output_type": "execute_result"
    }
   ],
   "source": [
    "np.std(arr)"
   ]
  },
  {
   "cell_type": "markdown",
   "id": "4e20789b-7938-4e78-8ee8-cf7f643aee9a",
   "metadata": {},
   "source": [
    "我们还可以按列计算标准差："
   ]
  },
  {
   "cell_type": "code",
   "execution_count": 21,
   "id": "017fd503-fbdc-4270-8135-df67dd8c1ac8",
   "metadata": {},
   "outputs": [
    {
     "data": {
      "text/plain": [
       "array([0.3127589 , 0.25035525, 0.21076935, 0.09444968])"
      ]
     },
     "execution_count": 21,
     "metadata": {},
     "output_type": "execute_result"
    }
   ],
   "source": [
    "np.std(arr, axis=0)"
   ]
  },
  {
   "cell_type": "markdown",
   "id": "44aba9e3-9879-403f-885a-14d47120877d",
   "metadata": {},
   "source": [
    "另外，我们还可以计算数组的方差："
   ]
  },
  {
   "cell_type": "code",
   "execution_count": 22,
   "id": "262dd4fe-9734-4920-a789-c7a69e80bee4",
   "metadata": {},
   "outputs": [
    {
     "data": {
      "text/plain": [
       "array([0.02464271, 0.1114405 , 0.0839356 ])"
      ]
     },
     "execution_count": 22,
     "metadata": {},
     "output_type": "execute_result"
    }
   ],
   "source": [
    "np.var(arr, axis=1)"
   ]
  },
  {
   "cell_type": "code",
   "execution_count": null,
   "id": "d58a2e59-ac67-428f-984f-9774274f5ad7",
   "metadata": {},
   "outputs": [],
   "source": []
  }
 ],
 "metadata": {
  "kernelspec": {
   "display_name": "Python 3 (ipykernel)",
   "language": "python",
   "name": "python3"
  },
  "language_info": {
   "codemirror_mode": {
    "name": "ipython",
    "version": 3
   },
   "file_extension": ".py",
   "mimetype": "text/x-python",
   "name": "python",
   "nbconvert_exporter": "python",
   "pygments_lexer": "ipython3",
   "version": "3.9.18"
  }
 },
 "nbformat": 4,
 "nbformat_minor": 5
}
