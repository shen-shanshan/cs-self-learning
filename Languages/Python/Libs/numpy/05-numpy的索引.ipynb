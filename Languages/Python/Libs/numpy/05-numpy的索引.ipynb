{
 "cells": [
  {
   "cell_type": "code",
   "execution_count": 3,
   "id": "9605d83b-a2c0-4f97-bd4a-58e05088e605",
   "metadata": {},
   "outputs": [],
   "source": [
    "import numpy as np"
   ]
  },
  {
   "cell_type": "markdown",
   "id": "a67b2ba4-01b4-4e4e-99dc-563189f470f3",
   "metadata": {},
   "source": [
    "## 切片与索引\n",
    "\n",
    "在这一节中，我们将深入了解 NumPy 数组的切片和索引功能。这是整个教程中最关键的部分，因为它揭示了 NumPy（以及 Python 语言）的强大功能。这种优雅的操作方式可能不是独一无二的，但在历史上绝对是开创性的。\n",
    "\n",
    "本节内容将涵盖以下几个主题：\n",
    "\n",
    "- 切片\n",
    "- 索引\n",
    "- 拼接、重复、分拆\n",
    "\n",
    "切片和索引是这些主题中的核心，因为它们是基础且频繁使用的。我们强烈建议您熟练掌握这些技能。其他主题相对简单，只需记住一个 API 即可。\n",
    "\n",
    "### 切片和索引\n",
    "\n",
    "🌟 重点提示：切片和索引是在现有数组上操作以获取所需「部分」元素的方法。其核心是根据 `start:stop:step` 模式按维度操作数组。\n",
    "\n",
    "理解这部分内容的关键在于将处理过程按维度分解，并且对于不需要处理的维度统一使用 `:` 或 `...` 来表示。分析操作时，首先需要注意逗号「`,`」的位置。处理的维度与 `arange`、`linspace` 等函数的使用方法相同。\n",
    "\n",
    "⚠️ 注意：索引支持负数，即可以从数组的末尾开始计数。\n",
    "\n",
    "以下是一些基本的索引和切片操作示例："
   ]
  },
  {
   "cell_type": "code",
   "execution_count": 4,
   "id": "f7358b84-13a4-4354-97f6-c7ffc40a244a",
   "metadata": {},
   "outputs": [
    {
     "name": "stdout",
     "output_type": "stream",
     "text": [
      "[[ 1 15 13  8]\n",
      " [ 8 17  1 13]\n",
      " [ 4  1 10 19]\n",
      " [14 15 14 15]\n",
      " [10  2 16  9]]\n"
     ]
    }
   ],
   "source": [
    "rng = np.random.default_rng(42)  # 创建一个随机数生成器实例\n",
    "arr = rng.integers(0, 20, (5, 4))  # 创建一个 5x4 的数组，元素是 0 到 20 的整数\n",
    "print(arr)"
   ]
  },
  {
   "cell_type": "markdown",
   "id": "0cbefbfb-6476-4bae-93fa-510187855bf2",
   "metadata": {},
   "source": [
    "接下来，让我们看看如何使用切片和索引来访问和操作数组中的数据。"
   ]
  },
  {
   "cell_type": "code",
   "execution_count": 4,
   "id": "b1b982e6-6a2e-452b-9289-f56807ed2d4e",
   "metadata": {},
   "outputs": [
    {
     "name": "stdout",
     "output_type": "stream",
     "text": [
      "[ 1 15 13  8]\n"
     ]
    }
   ],
   "source": [
    "# 获取第 0 行的所有元素\n",
    "print(arr[0])"
   ]
  },
  {
   "cell_type": "code",
   "execution_count": 5,
   "id": "2d82c306-d243-47fc-9f92-d3eba7bd19e1",
   "metadata": {},
   "outputs": [
    {
     "name": "stdout",
     "output_type": "stream",
     "text": [
      "15\n"
     ]
    }
   ],
   "source": [
    "# 获取第 0 行第 1 个元素\n",
    "print(arr[0, 1])"
   ]
  },
  {
   "cell_type": "code",
   "execution_count": 6,
   "id": "fe78541f-6b8f-4afe-9a95-ac4524ba8eb0",
   "metadata": {},
   "outputs": [
    {
     "name": "stdout",
     "output_type": "stream",
     "text": [
      "[[ 8 17  1 13]\n",
      " [ 4  1 10 19]]\n"
     ]
    }
   ],
   "source": [
    "# 获取第 1 到第 2 行的所有元素（不包括第 3 行）\n",
    "print(arr[1:3])"
   ]
  },
  {
   "cell_type": "code",
   "execution_count": 7,
   "id": "709607a6-920b-42bb-983c-55dff306c2e5",
   "metadata": {},
   "outputs": [
    {
     "name": "stdout",
     "output_type": "stream",
     "text": [
      "[[ 8 17  1 13]\n",
      " [14 15 14 15]]\n"
     ]
    }
   ],
   "source": [
    "# 获取第 1 行和第 3 行的所有元素（离散索引）\n",
    "print(arr[[1, 3]])"
   ]
  },
  {
   "cell_type": "code",
   "execution_count": 8,
   "id": "1e12db0a-2347-46dd-8551-4aba29a41e1f",
   "metadata": {},
   "outputs": [
    {
     "name": "stdout",
     "output_type": "stream",
     "text": [
      "[17  1]\n"
     ]
    }
   ],
   "source": [
    "# 获取第 1 到第 2 行的第 1 列元素\n",
    "print(arr[1:3, 1])"
   ]
  },
  {
   "cell_type": "code",
   "execution_count": 9,
   "id": "9ba83928-bd6b-4e84-9ee5-948ee51e2207",
   "metadata": {},
   "outputs": [
    {
     "name": "stdout",
     "output_type": "stream",
     "text": [
      "[ 8 14]\n"
     ]
    }
   ],
   "source": [
    "# 获取第 1 行和第 3 行的第 0 列元素（离散索引）\n",
    "print(arr[[1, 3], [0]])"
   ]
  },
  {
   "cell_type": "code",
   "execution_count": 10,
   "id": "fc980d95-f4d3-4fce-85f7-6f7ddc118df1",
   "metadata": {},
   "outputs": [
    {
     "name": "stdout",
     "output_type": "stream",
     "text": [
      "[[14 15 14 15]\n",
      " [10  2 16  9]]\n"
     ]
    }
   ],
   "source": [
    "# 获取第 3 行到最后一行的所有元素\n",
    "print(arr[3:])"
   ]
  },
  {
   "cell_type": "code",
   "execution_count": 11,
   "id": "f65a75ed-0b0b-440c-b45d-893d5189e024",
   "metadata": {},
   "outputs": [
    {
     "name": "stdout",
     "output_type": "stream",
     "text": [
      "[[15 13]\n",
      " [17  1]\n",
      " [ 1 10]]\n"
     ]
    }
   ],
   "source": [
    "# 获取从开始到第 3 行的第 1 到第 2 列的元素\n",
    "print(arr[:3, 1:3])"
   ]
  },
  {
   "cell_type": "code",
   "execution_count": 12,
   "id": "015561a5-ef8f-4cb2-8315-3ca4ea5c9a80",
   "metadata": {},
   "outputs": [
    {
     "name": "stdout",
     "output_type": "stream",
     "text": [
      "[[ 8 17  1 13]\n",
      " [14 15 14 15]]\n"
     ]
    }
   ],
   "source": [
    "# 使用步长来获取元素，这里我们从第 1 行到第 4 行，每隔 2 行取一次，即第 1 行和第 3 行\n",
    "print(arr[1:4:2])"
   ]
  },
  {
   "cell_type": "code",
   "execution_count": 8,
   "id": "575b2d19-94bb-4cc4-9736-c521dca03260",
   "metadata": {},
   "outputs": [
    {
     "data": {
      "text/plain": [
       "array([[ 1, 15, 13,  8],\n",
       "       [ 8, 17,  1, 13],\n",
       "       [ 4,  1, 10, 19],\n",
       "       [14, 15, 14, 15],\n",
       "       [10,  2, 16,  9]], dtype=int64)"
      ]
     },
     "execution_count": 8,
     "metadata": {},
     "output_type": "execute_result"
    }
   ],
   "source": [
    "arr"
   ]
  },
  {
   "cell_type": "code",
   "execution_count": 13,
   "id": "e75b561d-945c-4e98-986c-e15599444dae",
   "metadata": {},
   "outputs": [
    {
     "name": "stdout",
     "output_type": "stream",
     "text": [
      "[[ 8  1]\n",
      " [14 14]]\n"
     ]
    }
   ],
   "source": [
    "# 我们也可以在列上使用步长，这里我们取第 1 行和第 3 行的第 0 列和第 2 列\n",
    "print(arr[1:4:2, 0:3:2])"
   ]
  },
  {
   "cell_type": "code",
   "execution_count": 14,
   "id": "d0b247bf-0576-4fff-9d43-53f4639c2012",
   "metadata": {},
   "outputs": [
    {
     "name": "stdout",
     "output_type": "stream",
     "text": [
      "[15 17  1 15  2]\n"
     ]
    }
   ],
   "source": [
    "# 使用 ... 来代表多个冒号，这里我们获取第一列的所有元素\n",
    "print(arr[..., 1])"
   ]
  },
  {
   "cell_type": "code",
   "execution_count": 15,
   "id": "d42a5fcb-4d53-483c-8c2c-380cac4088ec",
   "metadata": {},
   "outputs": [
    {
     "name": "stdout",
     "output_type": "stream",
     "text": [
      "[15 17  1 15  2]\n"
     ]
    }
   ],
   "source": [
    "# 直接使用冒号来获取第一列的所有元素，这是常见的用法\n",
    "print(arr[:, 1])"
   ]
  },
  {
   "cell_type": "markdown",
   "id": "ee338ee3-8f08-42b5-9131-cb39f8950c8c",
   "metadata": {},
   "source": [
    "### 拼接\n",
    "\n",
    "在数据处理中，我们经常需要将多个数组合并成一个更大的数组。这可以通过拼接或堆叠完成。NumPy 提供了多种方法来实现这一点，我们将重点介绍 `np.concatenate` 和 `np.stack`，这两个函数提供了合并数组的基本功能。\n",
    "\n",
    "#### `np.concatenate`\n",
    "\n",
    "`np.concatenate` 是 NumPy 中最常用的数组拼接函数之一。它可以沿着指定的轴连接数组序列。"
   ]
  },
  {
   "cell_type": "code",
   "execution_count": 16,
   "id": "263cfdef-efc3-4edd-9baf-17e095f787de",
   "metadata": {},
   "outputs": [
    {
     "name": "stdout",
     "output_type": "stream",
     "text": [
      "(4, 3)\n"
     ]
    }
   ],
   "source": [
    "# 创建两个形状相同的数组\n",
    "arr1 = rng.random((2, 3))\n",
    "arr2 = rng.random((2, 3))\n",
    "\n",
    "# 默认情况下，`np.concatenate` 沿着第一个轴（axis=0，即行）进行连接\n",
    "concatenated_arr = np.concatenate((arr1, arr2))\n",
    "print(concatenated_arr.shape)"
   ]
  },
  {
   "cell_type": "code",
   "execution_count": 17,
   "id": "06bc6496-b78e-4a92-b0f9-d66d048b6429",
   "metadata": {},
   "outputs": [
    {
     "name": "stdout",
     "output_type": "stream",
     "text": [
      "(2, 6)\n"
     ]
    }
   ],
   "source": [
    "# 可以指定 `axis` 参数来沿着不同的轴拼接数组，这里是沿着列（axis=1）\n",
    "concatenated_arr_axis1 = np.concatenate((arr1, arr2), axis=1)\n",
    "print(concatenated_arr_axis1.shape)"
   ]
  },
  {
   "cell_type": "markdown",
   "id": "7eecda91-f6fb-4d23-9725-951f5ca24862",
   "metadata": {},
   "source": [
    "这将输出一个新数组，其中第二个数组的列被添加到第一个数组的右侧。"
   ]
  },
  {
   "cell_type": "markdown",
   "id": "7371e6b3-4167-4949-8dd4-fc25ca02f9d5",
   "metadata": {},
   "source": [
    "#### `np.stack`\n",
    "\n",
    "`np.stack` 是另一个用于堆叠数组的函数，不同于 `np.concatenate`，`np.stack` 会创建一个新的轴。"
   ]
  },
  {
   "cell_type": "code",
   "execution_count": 18,
   "id": "2e0000dd-1286-4d8c-aa17-8a963e8652f9",
   "metadata": {},
   "outputs": [
    {
     "name": "stdout",
     "output_type": "stream",
     "text": [
      "[[[0.37079802 0.92676499 0.64386512]\n",
      "  [0.82276161 0.4434142  0.22723872]]\n",
      "\n",
      " [[0.55458479 0.06381726 0.82763117]\n",
      "  [0.6316644  0.75808774 0.35452597]]]\n",
      "Shape of stacked array: (2, 2, 3)\n"
     ]
    }
   ],
   "source": [
    "# 使用 `np.stack` 来堆叠两个数组，它会在结果中添加一个新的轴\n",
    "stacked_arr = np.stack((arr1, arr2))\n",
    "print(stacked_arr)\n",
    "print(\"Shape of stacked array:\", stacked_arr.shape)"
   ]
  },
  {
   "cell_type": "code",
   "execution_count": 19,
   "id": "796a1700-77b7-4a83-aa7e-0525959542fa",
   "metadata": {},
   "outputs": [
    {
     "name": "stdout",
     "output_type": "stream",
     "text": [
      "[[[0.37079802 0.55458479]\n",
      "  [0.92676499 0.06381726]\n",
      "  [0.64386512 0.82763117]]\n",
      "\n",
      " [[0.82276161 0.6316644 ]\n",
      "  [0.4434142  0.75808774]\n",
      "  [0.22723872 0.35452597]]]\n",
      "Shape of stacked array along axis 2: (2, 3, 2)\n"
     ]
    }
   ],
   "source": [
    "# 可以指定 `axis` 参数来沿着不同的轴堆叠数组，这里我们沿着最内侧的轴（axis=2）进行堆叠\n",
    "stacked_arr_axis2 = np.stack((arr1, arr2), axis=2)\n",
    "print(stacked_arr_axis2)\n",
    "print(\"Shape of stacked array along axis 2:\", stacked_arr_axis2.shape)"
   ]
  },
  {
   "cell_type": "markdown",
   "id": "e4557419-e657-4767-a8db-23fc317109fa",
   "metadata": {},
   "source": [
    "### 重复\n",
    "\n",
    "有时我们需要将数组中的元素沿着指定的轴重复某些次数，`np.repeat` 函数正是为此设计的。"
   ]
  },
  {
   "cell_type": "code",
   "execution_count": 9,
   "id": "660d4cad-158b-4684-9fea-0eed21fd7afd",
   "metadata": {},
   "outputs": [
    {
     "name": "stdout",
     "output_type": "stream",
     "text": [
      "[[5 3 1 9]\n",
      " [7 6 4 8]\n",
      " [5 4 4 2]]\n"
     ]
    }
   ],
   "source": [
    "# 创建一个 3x4 的随机整数数组\n",
    "arr = rng.integers(0, 10, (3, 4))\n",
    "print(arr)"
   ]
  },
  {
   "cell_type": "code",
   "execution_count": 10,
   "id": "bacf6ca2-9fbf-4943-8737-b4550fcca12c",
   "metadata": {},
   "outputs": [
    {
     "name": "stdout",
     "output_type": "stream",
     "text": [
      "[[5 3 1 9]\n",
      " [5 3 1 9]\n",
      " [7 6 4 8]\n",
      " [7 6 4 8]\n",
      " [5 4 4 2]\n",
      " [5 4 4 2]]\n"
     ]
    }
   ],
   "source": [
    "# 沿着 axis=0 重复每一行两次\n",
    "repeated_arr_axis0 = np.repeat(arr, 2, axis=0)\n",
    "print(repeated_arr_axis0)"
   ]
  },
  {
   "cell_type": "code",
   "execution_count": 23,
   "id": "02e9939e-d58b-423d-8b03-0226e8fd9d80",
   "metadata": {},
   "outputs": [
    {
     "name": "stdout",
     "output_type": "stream",
     "text": [
      "[[5 5 5 1 1 1 7 7 7 6 6 6]\n",
      " [9 9 9 7 7 7 3 3 3 9 9 9]\n",
      " [4 4 4 3 3 3 9 9 9 3 3 3]]\n"
     ]
    }
   ],
   "source": [
    "# 沿着 axis=1 重复每一列三次\n",
    "repeated_arr_axis1 = np.repeat(arr, 3, axis=1)\n",
    "print(repeated_arr_axis1)"
   ]
  },
  {
   "cell_type": "markdown",
   "id": "0e6577e6-6fc2-45e9-92c9-e0fbb533b737",
   "metadata": {},
   "source": [
    "### 分拆\n",
    "\n",
    "与拼接相反，分拆是将一个大数组分割成多个小数组的过程。`np.split` 提供了一个通用的分割方法。"
   ]
  },
  {
   "cell_type": "code",
   "execution_count": 11,
   "id": "cbff4edd-832f-4234-95c8-a6f4656964b4",
   "metadata": {},
   "outputs": [
    {
     "name": "stdout",
     "output_type": "stream",
     "text": [
      "[[10 55 88  7]\n",
      " [85 82 28 63]\n",
      " [17 76 70 36]\n",
      " [ 7 97 45 89]\n",
      " [68 78 76 20]\n",
      " [37 47 50  5]]\n"
     ]
    }
   ],
   "source": [
    "# 创建一个 6x4 的随机整数数组\n",
    "arr = rng.integers(1, 100, (6, 4))\n",
    "print(arr)"
   ]
  },
  {
   "cell_type": "code",
   "execution_count": 12,
   "id": "3189b0f3-db18-4864-9068-35a0ddc4c88c",
   "metadata": {},
   "outputs": [
    {
     "name": "stdout",
     "output_type": "stream",
     "text": [
      "[array([[10, 55, 88,  7],\n",
      "       [85, 82, 28, 63]], dtype=int64), array([[17, 76, 70, 36],\n",
      "       [ 7, 97, 45, 89]], dtype=int64), array([[68, 78, 76, 20],\n",
      "       [37, 47, 50,  5]], dtype=int64)]\n"
     ]
    }
   ],
   "source": [
    "# 默认情况下，`np.split` 沿着第一个轴（axis=0）分割数组，这里我们将其分割成 3 个相同大小的小数组\n",
    "split_arr = np.split(arr, 3)\n",
    "print(split_arr)"
   ]
  },
  {
   "cell_type": "code",
   "execution_count": 26,
   "id": "cf7f3a47-b021-4cb1-a494-cc5a11089eab",
   "metadata": {},
   "outputs": [
    {
     "name": "stdout",
     "output_type": "stream",
     "text": [
      "[array([[ 8, 47],\n",
      "       [46, 13],\n",
      "       [33, 23],\n",
      "       [94, 44],\n",
      "       [63, 70],\n",
      "       [77, 83]], dtype=int64), array([[79, 19],\n",
      "       [68, 48],\n",
      "       [56, 67],\n",
      "       [16, 83],\n",
      "       [10, 31],\n",
      "       [44, 80]], dtype=int64)]\n"
     ]
    }
   ],
   "source": [
    "# 我们也可以沿着列（axis=1）分割数组，这里我们将其分割成 2 个相同大小的小数组\n",
    "split_arr_axis1 = np.split(arr, 2, axis=1)\n",
    "print(split_arr_axis1)"
   ]
  },
  {
   "cell_type": "markdown",
   "id": "055554c1-a755-483d-bc83-27026fa6d8a0",
   "metadata": {},
   "source": [
    "### 条件筛选\n",
    "\n",
    "在处理数组时，我们经常根据条件选择或修改元素。`np.where` 是一个非常有用的函数，它返回满足条件的元素的索引。"
   ]
  },
  {
   "cell_type": "code",
   "execution_count": 13,
   "id": "3c464301-ec2b-42c9-a748-acecac615e8d",
   "metadata": {},
   "outputs": [
    {
     "name": "stdout",
     "output_type": "stream",
     "text": [
      "[[55 16 74 68]\n",
      " [92 74 37 96]\n",
      " [41 33 90 37]\n",
      " [ 8 47 79 19]\n",
      " [46 13 68 48]\n",
      " [33 23 56 67]]\n"
     ]
    }
   ],
   "source": [
    "# 创建一个 6x4 的随机整数数组\n",
    "arr = rng.integers(1, 100, (6, 4))\n",
    "print(arr)"
   ]
  },
  {
   "cell_type": "code",
   "execution_count": 14,
   "id": "38710028-1e0e-4f4b-8ddd-de2c02724ebb",
   "metadata": {},
   "outputs": [
    {
     "name": "stdout",
     "output_type": "stream",
     "text": [
      "[[ True False  True  True]\n",
      " [ True  True False  True]\n",
      " [False False  True False]\n",
      " [False False  True False]\n",
      " [False False  True False]\n",
      " [False False  True  True]]\n"
     ]
    }
   ],
   "source": [
    "# 使用条件筛选来创建一个布尔数组\n",
    "condition = arr > 50\n",
    "print(condition)"
   ]
  },
  {
   "cell_type": "code",
   "execution_count": 16,
   "id": "238e3237-383f-4585-b538-537154959fe8",
   "metadata": {},
   "outputs": [
    {
     "name": "stdout",
     "output_type": "stream",
     "text": [
      "(array([0, 0, 0, 1, 1, 1, 2, 3, 4, 5, 5], dtype=int64), array([0, 2, 3, 0, 1, 3, 2, 2, 2, 2, 3], dtype=int64))\n"
     ]
    }
   ],
   "source": [
    "# 使用 `np.where` 来找到满足条件的元素的索引\n",
    "indices = np.where(arr > 50)\n",
    "print(indices)"
   ]
  },
  {
   "cell_type": "code",
   "execution_count": 17,
   "id": "62729ca5-5ce4-4292-8662-3411f2df883e",
   "metadata": {},
   "outputs": [
    {
     "name": "stdout",
     "output_type": "stream",
     "text": [
      "[[55 -1 74 68]\n",
      " [92 74 -1 96]\n",
      " [-1 -1 90 -1]\n",
      " [-1 -1 79 -1]\n",
      " [-1 -1 68 -1]\n",
      " [-1 -1 56 67]]\n"
     ]
    }
   ],
   "source": [
    "# 使用 `np.where` 进行条件赋值，将所有小于等于 50 的元素替换为 -1\n",
    "new_arr = np.where(arr > 50, arr, -1)\n",
    "print(new_arr)"
   ]
  },
  {
   "cell_type": "markdown",
   "id": "1771e2ef-58e4-48de-b543-fca4d60824f7",
   "metadata": {},
   "source": [
    "### 提取\n",
    "\n",
    "有时我们需要从数组中提取满足特定条件的元素。"
   ]
  },
  {
   "cell_type": "code",
   "execution_count": 18,
   "id": "1976cf9b-9e09-400a-a6a5-f55b7f6009c5",
   "metadata": {},
   "outputs": [
    {
     "name": "stdout",
     "output_type": "stream",
     "text": [
      "[55 74 68 92 74 96 90 79 68 56 67]\n"
     ]
    }
   ],
   "source": [
    "# 使用 `np.extract` 来提取大于 50 的元素\n",
    "extracted_elements = np.extract(arr > 50, arr)\n",
    "print(extracted_elements)"
   ]
  },
  {
   "cell_type": "code",
   "execution_count": 19,
   "id": "40349cbf-8159-4c8b-8467-a4195b087790",
   "metadata": {},
   "outputs": [
    {
     "name": "stdout",
     "output_type": "stream",
     "text": [
      "[ 8 13 16 19 23 33 37 41 46 47 48 55 56 67 68 74 79 90 92 96]\n"
     ]
    }
   ],
   "source": [
    "# 使用 `np.unique` 来获取数组中所有唯一的元素\n",
    "unique_elements = np.unique(arr)\n",
    "print(unique_elements)"
   ]
  },
  {
   "cell_type": "markdown",
   "id": "05d2ef64-04a3-48eb-a255-5a7b0351ef7c",
   "metadata": {},
   "source": [
    "### 最值 Index\n",
    "\n",
    "在数据分析中，我们经常需要找到最大或最小元素的位置。`np.argmax` 和 `np.argmin` 可以帮助我们找到这些元素的索引。"
   ]
  },
  {
   "cell_type": "code",
   "execution_count": 20,
   "id": "4af312e0-ab96-4aa0-bcd1-9a22ecc99c24",
   "metadata": {},
   "outputs": [
    {
     "name": "stdout",
     "output_type": "stream",
     "text": [
      "[[55 16 74 68]\n",
      " [92 74 37 96]\n",
      " [41 33 90 37]\n",
      " [ 8 47 79 19]\n",
      " [46 13 68 48]\n",
      " [33 23 56 67]]\n"
     ]
    }
   ],
   "source": [
    "# 显示数组\n",
    "print(arr)"
   ]
  },
  {
   "cell_type": "code",
   "execution_count": 21,
   "id": "815dbe6f-3bcc-4eca-8ba8-5dc670370b84",
   "metadata": {},
   "outputs": [
    {
     "name": "stdout",
     "output_type": "stream",
     "text": [
      "7\n"
     ]
    }
   ],
   "source": [
    "# 找到整个数组中最大元素的索引\n",
    "index_of_max = np.argmax(arr)\n",
    "print(index_of_max)"
   ]
  },
  {
   "cell_type": "code",
   "execution_count": 24,
   "id": "1bbffa2b-23da-4dde-acbe-0ff415381bf7",
   "metadata": {},
   "outputs": [
    {
     "name": "stdout",
     "output_type": "stream",
     "text": [
      "[1 1 2 1]\n"
     ]
    }
   ],
   "source": [
    "# 沿着列找到每列最大元素的索引\n",
    "indices_of_max_in_columns = np.argmax(arr, axis=0)\n",
    "print(indices_of_max_in_columns)"
   ]
  },
  {
   "cell_type": "code",
   "execution_count": 25,
   "id": "21652ade-8702-4156-a2e1-7f8cfb9f207a",
   "metadata": {},
   "outputs": [
    {
     "name": "stdout",
     "output_type": "stream",
     "text": [
      "[1 2 1 0 1 1]\n"
     ]
    }
   ],
   "source": [
    "# 沿着行找到每行最小元素的索引\n",
    "indices_of_min_in_rows = np.argmin(arr, axis=1)\n",
    "print(indices_of_min_in_rows)"
   ]
  },
  {
   "cell_type": "code",
   "execution_count": null,
   "id": "bf21832b-5239-4b68-b57e-7de02bf971fe",
   "metadata": {},
   "outputs": [],
   "source": []
  }
 ],
 "metadata": {
  "kernelspec": {
   "display_name": "Python 3 (ipykernel)",
   "language": "python",
   "name": "python3"
  },
  "language_info": {
   "codemirror_mode": {
    "name": "ipython",
    "version": 3
   },
   "file_extension": ".py",
   "mimetype": "text/x-python",
   "name": "python",
   "nbconvert_exporter": "python",
   "pygments_lexer": "ipython3",
   "version": "3.9.18"
  }
 },
 "nbformat": 4,
 "nbformat_minor": 5
}
