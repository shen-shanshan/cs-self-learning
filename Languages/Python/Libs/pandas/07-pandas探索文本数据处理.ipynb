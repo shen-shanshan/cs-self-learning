{
 "cells": [
  {
   "cell_type": "markdown",
   "id": "f0e8faef-ca5d-436a-8219-a63bf8d6ec87",
   "metadata": {},
   "source": [
    "# pandas中的文本处理\n",
    "\n",
    "Pandas 是一个强大的 Python 数据分析工具，它不仅在数据处理方面表现卓越，还提供了丰富的文本操作工具。本章将重点介绍 Pandas 中的文本操作，帮助你更好地处理字符串类型的数据。\n",
    "\n"
   ]
  },
  {
   "cell_type": "code",
   "execution_count": 9,
   "id": "f9f41d11-579f-43ae-827e-ab97cfb0e064",
   "metadata": {},
   "outputs": [],
   "source": [
    "import numpy as np\n",
    "import pandas as pd"
   ]
  },
  {
   "cell_type": "markdown",
   "id": "3d80fd04-3022-475b-aafd-952fdd66c6c4",
   "metadata": {},
   "source": [
    "## str对象\n",
    "\n",
    "### str对象的设计意图\n",
    "\n",
    "Pandas 的 `str` 对象是定义在 `Index` 或 `Series` 上的属性，专门用于处理每个元素的文本内容。它内部定义了大量的方法，使得对序列的文本处理变得简单便捷。例如，将字母转换为大写："
   ]
  },
  {
   "cell_type": "code",
   "execution_count": 10,
   "id": "7c683e84-375b-439f-958f-b1cab286104b",
   "metadata": {},
   "outputs": [
    {
     "name": "stdout",
     "output_type": "stream",
     "text": [
      "ABCD\n"
     ]
    }
   ],
   "source": [
    "var = 'abcd'\n",
    "print(str.upper(var))  # Python内置str模块"
   ]
  },
  {
   "cell_type": "markdown",
   "id": "c50b8838-cee7-4574-bbc1-14e93dd4710c",
   "metadata": {},
   "source": [
    "在 Pandas 中，同样的功能可以这样实现："
   ]
  },
  {
   "cell_type": "code",
   "execution_count": 11,
   "id": "2cc767d6-6e76-4375-983c-9d25613ea309",
   "metadata": {},
   "outputs": [
    {
     "name": "stdout",
     "output_type": "stream",
     "text": [
      "0    ABCD\n",
      "1     EFG\n",
      "2      HI\n",
      "dtype: object\n"
     ]
    }
   ],
   "source": [
    "s = pd.Series(['abcd', 'efg', 'hi'])\n",
    "print(s.str.upper())"
   ]
  },
  {
   "cell_type": "markdown",
   "id": "3403d7d9-8bcb-467f-96c1-053da51ec1d2",
   "metadata": {},
   "source": [
    "### 索引器\n",
    "\n",
    "`str` 对象允许你像操作普通字符串一样操作 Pandas 序列中的字符串。例如，获取字符串的某个字符："
   ]
  },
  {
   "cell_type": "code",
   "execution_count": 12,
   "id": "2aa255d2-9cf0-48ff-89a6-987a5d5b11fa",
   "metadata": {},
   "outputs": [
    {
     "name": "stdout",
     "output_type": "stream",
     "text": [
      "b\n"
     ]
    }
   ],
   "source": [
    "print(var[1])  # 获取第二个字符"
   ]
  },
  {
   "cell_type": "markdown",
   "id": "07f172ee-bc17-4933-9b22-2d9ea5cf33f9",
   "metadata": {},
   "source": [
    "同样的操作在 Pandas 中如下："
   ]
  },
  {
   "cell_type": "code",
   "execution_count": 13,
   "id": "81c6cd31-d88b-4956-b44e-9b789b3530a8",
   "metadata": {},
   "outputs": [
    {
     "name": "stdout",
     "output_type": "stream",
     "text": [
      "0    b\n",
      "1    f\n",
      "2    i\n",
      "dtype: object\n"
     ]
    }
   ],
   "source": [
    "print(s.str[1])  # 获取每个字符串的第二个字符"
   ]
  },
  {
   "cell_type": "markdown",
   "id": "fc5263db-6c35-49c9-9853-1f20126b8ff2",
   "metadata": {},
   "source": [
    "### string类型\n",
    "\n",
    "Pandas 1.0.0 版本引入了 `string` 类型，这是一种专门用于存储字符串的数据类型。它的引入是为了区分字符串和混合类型（例如同时存储浮点、字符串、字典等）的 `object` 类型。一个重要的区别是，`string` 类型支持缺失值表示。\n",
    "\n",
    "例如，当你有一个包含不同类型元素的序列时，`str` 对象的表现可能会有所不同："
   ]
  },
  {
   "cell_type": "code",
   "execution_count": 14,
   "id": "acffed2e-4b06-4b4e-98d0-9109892cc062",
   "metadata": {},
   "outputs": [
    {
     "data": {
      "text/plain": [
       "0      a\n",
       "1    NaN\n",
       "2      c\n",
       "dtype: object"
      ]
     },
     "execution_count": 14,
     "metadata": {},
     "output_type": "execute_result"
    }
   ],
   "source": [
    "s = pd.Series(['a', np.nan, 'c'])\n",
    "s"
   ]
  },
  {
   "cell_type": "code",
   "execution_count": 15,
   "id": "a5446845-c1da-423a-816c-9a9da80a6a83",
   "metadata": {},
   "outputs": [
    {
     "name": "stdout",
     "output_type": "stream",
     "text": [
      "0    1.0\n",
      "1    NaN\n",
      "2    1.0\n",
      "dtype: float64\n",
      "0       1\n",
      "1    <NA>\n",
      "2       1\n",
      "dtype: Int64\n"
     ]
    }
   ],
   "source": [
    "print(s.str.len())  # 使用 object 类型\n",
    "print(s.astype('string').str.len())  # 使用 string 类型"
   ]
  },
  {
   "cell_type": "markdown",
   "id": "377610e7-47b6-47b4-92b1-b8c764f6bb16",
   "metadata": {},
   "source": [
    "需要注意的是，对于全数字的序列，即使其类型为 `object`，也不能直接使用 `str` 属性。但可以用 `astype` 转换为 `string` 类型："
   ]
  },
  {
   "cell_type": "code",
   "execution_count": 16,
   "id": "843edacb-1ec6-4d6e-a190-70621153442e",
   "metadata": {},
   "outputs": [
    {
     "name": "stdout",
     "output_type": "stream",
     "text": [
      "0    1\n",
      "1    2\n",
      "2    3\n",
      "dtype: string\n"
     ]
    }
   ],
   "source": [
    "s = pd.Series([123, 233, 311])\n",
    "print(s.astype('string').str[0])"
   ]
  },
  {
   "cell_type": "markdown",
   "id": "b051a2ca-556d-415f-a464-7455f398c492",
   "metadata": {},
   "source": [
    "## 文本处理的五类操作\n",
    "\n",
    "文本处理通常包括拆分、合并、匹配、替换和提取五类操作。由于我们需要去除正则表达式相关内容，所以这里只介绍非正则表达式的操作。\n",
    "\n",
    "### 拆分\n",
    "\n",
    "`str.split` 方法可以将字符串拆分为多个部分："
   ]
  },
  {
   "cell_type": "code",
   "execution_count": 17,
   "id": "70811c2a-4700-4377-816e-a1f1404c8d01",
   "metadata": {},
   "outputs": [
    {
     "name": "stdout",
     "output_type": "stream",
     "text": [
      "0    [a, b, c]\n",
      "1    [d, e, f]\n",
      "dtype: object\n"
     ]
    }
   ],
   "source": [
    "s = pd.Series(['a-b-c', 'd-e-f'])\n",
    "print(s.str.split('-'))"
   ]
  },
  {
   "cell_type": "markdown",
   "id": "d6fceb18-86a9-4b30-9164-1edc95f7f9c0",
   "metadata": {},
   "source": [
    "### 合并\n",
    "\n",
    "`str.join` 方法可以合并字符串列表："
   ]
  },
  {
   "cell_type": "code",
   "execution_count": 9,
   "id": "99dec589-1cce-4cb3-b99d-9ac2a7532c13",
   "metadata": {},
   "outputs": [
    {
     "name": "stdout",
     "output_type": "stream",
     "text": [
      "0    a-b-c\n",
      "1    d-e-f\n",
      "dtype: object\n"
     ]
    }
   ],
   "source": [
    "s = pd.Series([['a', 'b', 'c'], ['d', 'e', 'f']])\n",
    "print(s.str.join('-'))"
   ]
  },
  {
   "cell_type": "markdown",
   "id": "7a23557d-e8b5-4dff-bc80-1bf4371f8bfc",
   "metadata": {},
   "source": [
    "### 匹配\n",
    "\n",
    "`str.contains` 方法可以检查字符串是否包含某个子串："
   ]
  },
  {
   "cell_type": "code",
   "execution_count": 10,
   "id": "f8e970e1-067c-4608-8296-eb746c937caf",
   "metadata": {},
   "outputs": [
    {
     "name": "stdout",
     "output_type": "stream",
     "text": [
      "0     True\n",
      "1    False\n",
      "2    False\n",
      "dtype: bool\n"
     ]
    }
   ],
   "source": [
    "s = pd.Series(['my cat', 'he is fat', 'railway station'])\n",
    "print(s.str.contains('cat'))"
   ]
  },
  {
   "cell_type": "markdown",
   "id": "9cf90326-22a0-44bd-a41f-7935b0903aee",
   "metadata": {},
   "source": [
    "### 替换\n",
    "\n",
    "`str.replace` 方法用于替换字符串中的某些部分："
   ]
  },
  {
   "cell_type": "code",
   "execution_count": 18,
   "id": "8cb3e859-4f5d-42d6-aaec-2fb2b0c701ab",
   "metadata": {},
   "outputs": [
    {
     "name": "stdout",
     "output_type": "stream",
     "text": [
      "0    a-1-b\n",
      "1      c-?\n",
      "dtype: object\n"
     ]
    }
   ],
   "source": [
    "s = pd.Series(['a_1_b', 'c_?'])\n",
    "print(s.str.replace('_', '-'))"
   ]
  },
  {
   "cell_type": "markdown",
   "id": "8918bf10-b90e-4db8-9768-a598fc6235b5",
   "metadata": {},
   "source": [
    "### 提取\n",
    "\n",
    "`str.extract` 方法用于提取符合特定模式的字符串,这里支持使用正则表达式来对提取,如果对正则表达式不熟悉,可以看这个[教程](https://www.runoob.com/python/python-reg-expressions.html)"
   ]
  },
  {
   "cell_type": "code",
   "execution_count": 12,
   "id": "6c27fe88-1721-4580-8c6c-22144016f6f0",
   "metadata": {},
   "outputs": [
    {
     "name": "stdout",
     "output_type": "stream",
     "text": [
      "     0\n",
      "0  100\n",
      "1  300\n"
     ]
    }
   ],
   "source": [
    "s = pd.Series(['100-200', '300-400'])\n",
    "print(s.str.extract('(\\d+)'))"
   ]
  }
 ],
 "metadata": {
  "kernelspec": {
   "display_name": "Python 3 (ipykernel)",
   "language": "python",
   "name": "python3"
  },
  "language_info": {
   "codemirror_mode": {
    "name": "ipython",
    "version": 3
   },
   "file_extension": ".py",
   "mimetype": "text/x-python",
   "name": "python",
   "nbconvert_exporter": "python",
   "pygments_lexer": "ipython3",
   "version": "3.9.18"
  }
 },
 "nbformat": 4,
 "nbformat_minor": 5
}
