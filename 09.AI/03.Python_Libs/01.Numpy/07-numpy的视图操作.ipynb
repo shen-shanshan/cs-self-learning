{
 "cells": [
  {
   "cell_type": "code",
   "execution_count": 12,
   "id": "c2057109-6deb-4cc9-9729-bba56663c9c5",
   "metadata": {},
   "outputs": [],
   "source": [
    "import numpy as np"
   ]
  },
  {
   "cell_type": "markdown",
   "id": "5a53e3ba-cb06-4be1-aab6-eedf3efe450e",
   "metadata": {},
   "source": [
    "## Numpy中的视图操作\n",
    "\n",
    "本节主要介绍Numpy中的视图操作。视图操作是指在不复制数组的情况下创建数组的新视图，这意味着新数组与原始数组共享相同的数据存储空间。视图操作在处理大型数组时非常有用，因为它们可以节省内存并提高性能。\n",
    "\n",
    "### 什么是视图操作？\n",
    "\n",
    "视图操作允许我们以不同的方式查看和操作数组的数据，而不会创建新的数组对象。通过创建数组的视图，我们可以改变数组的维度、形状、步长和数据类型，以满足不同的需求。\n",
    "\n",
    "### 创建数组的视图\n",
    "\n",
    "⭐ 在Numpy中，我们可以使用多种方式创建数组的视图。下面介绍了一些常用的方法：\n",
    "\n",
    "#### 切片操作\n",
    "\n",
    "使用切片操作可以创建原始数组的一个子数组视图。切片操作通过指定起始索引、结束索引和步长来选择数组的子集。下面是一个简单的示例："
   ]
  },
  {
   "cell_type": "code",
   "execution_count": 13,
   "id": "5ab98e28-df2a-4589-a547-ae189ac49c01",
   "metadata": {},
   "outputs": [
    {
     "name": "stdout",
     "output_type": "stream",
     "text": [
      "[2 3 4]\n"
     ]
    }
   ],
   "source": [
    "arr = np.array([1, 2, 3, 4, 5])\n",
    "view = arr[1:4]  # 创建 arr 的一个视图，包含索引 1 到 3 的元素\n",
    "print(view)  # 输出: [2 3 4]"
   ]
  },
  {
   "cell_type": "code",
   "execution_count": 15,
   "id": "7ced21d5-5e43-47c4-87a7-aefb773f4c05",
   "metadata": {},
   "outputs": [
    {
     "data": {
      "text/plain": [
       "array([1, 2, 3, 4, 5])"
      ]
     },
     "execution_count": 15,
     "metadata": {},
     "output_type": "execute_result"
    }
   ],
   "source": [
    "arr"
   ]
  },
  {
   "cell_type": "code",
   "execution_count": 16,
   "id": "1f3f8cfb-4e4c-4edb-a94a-6cd9de7656a1",
   "metadata": {},
   "outputs": [],
   "source": [
    "view[0]=99"
   ]
  },
  {
   "cell_type": "code",
   "execution_count": 17,
   "id": "c5dd2dbe-ece5-4870-ab00-4ff443845062",
   "metadata": {},
   "outputs": [
    {
     "data": {
      "text/plain": [
       "array([ 1, 99,  3,  4,  5])"
      ]
     },
     "execution_count": 17,
     "metadata": {},
     "output_type": "execute_result"
    }
   ],
   "source": [
    "arr"
   ]
  },
  {
   "cell_type": "markdown",
   "id": "9a625884-08b2-4dd5-9dc7-41e89ed58eee",
   "metadata": {},
   "source": [
    "在这个示例中，我们使用切片操作 `arr[1:4]` 创建了原始数组 `arr` 的一个视图 `view`，该视图包含了索引 1 到 3 的元素。通过打印视图，我们可以看到输出结果为 `[2 3 4]`。"
   ]
  },
  {
   "cell_type": "markdown",
   "id": "e77eaa8f-ae06-4fd0-87f2-671abd210599",
   "metadata": {},
   "source": [
    "#### reshape操作\n",
    "\n",
    "使用reshape操作可以改变数组的形状，而不改变数组的数据。reshape操作返回一个新的数组视图，该视图具有与原始数组相同的数据，但具有不同的形状。下面是一个示例："
   ]
  },
  {
   "cell_type": "code",
   "execution_count": 3,
   "id": "bf7f6923-540f-4cec-8b3a-40a60e389821",
   "metadata": {},
   "outputs": [
    {
     "name": "stdout",
     "output_type": "stream",
     "text": [
      "[[1 2 3]\n",
      " [4 5 6]]\n"
     ]
    }
   ],
   "source": [
    "arr = np.array([1, 2, 3, 4, 5, 6])\n",
    "view = arr.reshape(2, 3)  # 创建一个 2x3 的数组视图\n",
    "print(view)"
   ]
  },
  {
   "cell_type": "markdown",
   "id": "b6eeeb95-02f3-4932-b46f-e74d268642df",
   "metadata": {},
   "source": [
    "在这个示例中，我们使用reshape操作 `arr.reshape(2, 3)` 创建了原始数组 `arr` 的一个 2x3 的数组视图 `view`。"
   ]
  },
  {
   "cell_type": "markdown",
   "id": "d6ed4bdb-8731-4e3c-bfd9-d6ef6fa4eaaf",
   "metadata": {},
   "source": [
    "#### transpose操作\n",
    "\n",
    "使用transpose操作可以交换数组的维度，返回一个新的数组视图。transpose操作不会改变数组的数据，只会改变数据的排列方式。下面是一个示例："
   ]
  },
  {
   "cell_type": "code",
   "execution_count": 4,
   "id": "bbb676f9-0ee0-4e84-9326-db107d4f0255",
   "metadata": {},
   "outputs": [
    {
     "name": "stdout",
     "output_type": "stream",
     "text": [
      "[[1 4]\n",
      " [2 5]\n",
      " [3 6]]\n"
     ]
    }
   ],
   "source": [
    "arr = np.array([[1, 2, 3], [4, 5, 6]])\n",
    "view = arr.transpose()  # 创建 arr 的转置视图\n",
    "print(view)"
   ]
  },
  {
   "cell_type": "markdown",
   "id": "55314477-5be8-4bca-9873-a5b6db459994",
   "metadata": {},
   "source": [
    "在这个示例中，我们使用transpose操作 `arr.transpose()` 创建了原始数组 `arr` 的转置视图 `view`。"
   ]
  },
  {
   "cell_type": "markdown",
   "id": "0419ee0e-9dc5-43ad-a1e7-c3e4d7a2451f",
   "metadata": {},
   "source": [
    "#### flatten操作\n",
    "\n",
    "使用flatten操作可以将多维数组转换为一维数组，返回一个新的数组视图。flatten操作不会改变数组的数据，只会改变数据的排列方式。下面是一个示例："
   ]
  },
  {
   "cell_type": "code",
   "execution_count": 5,
   "id": "339b82f0-5b83-4ff7-88b7-a135fee0d21b",
   "metadata": {},
   "outputs": [
    {
     "name": "stdout",
     "output_type": "stream",
     "text": [
      "[1 2 3 4 5 6]\n"
     ]
    }
   ],
   "source": [
    "arr = np.array([[1, 2, 3], [4, 5, 6]])\n",
    "view = arr.flatten()  # 创建 arr 的一维数组视图\n",
    "print(view)  # 输出: [1 2 3 4 5 6]"
   ]
  },
  {
   "cell_type": "markdown",
   "id": "0b1bc259-2026-4069-836e-304b8412e393",
   "metadata": {},
   "source": [
    "在这个示例中，我们使用flatten操作 `arr.flatten()` 创建了原始数组 `arr` 的一维数组视图 `view`。"
   ]
  },
  {
   "cell_type": "markdown",
   "id": "d7ed2f59-465a-4696-8a4c-d8389234015c",
   "metadata": {},
   "source": [
    "#### view操作\n",
    "\n",
    "使用view操作可以创建一个新的数组视图，该视图与原始数组共享相同的数据存储空间。view操作可以改变数组的形状、步长和数据类型。下面是一个示例："
   ]
  },
  {
   "cell_type": "code",
   "execution_count": 6,
   "id": "9516bb4a-70a2-4d6e-b0c7-cc6819347ca5",
   "metadata": {},
   "outputs": [
    {
     "name": "stdout",
     "output_type": "stream",
     "text": [
      "[1 2 3 4 5]\n"
     ]
    }
   ],
   "source": [
    "arr = np.array([1, 2, 3, 4, 5])\n",
    "view = arr.view(dtype=np.int32)  # 创建 arr 的一个视图，数据类型为int32\n",
    "print(view)  # 输出: [1 2 3 4 5]"
   ]
  },
  {
   "cell_type": "markdown",
   "id": "76fb2b32-415d-4ec4-8528-4f64411d2c56",
   "metadata": {},
   "source": [
    "在这个示例中，我们使用view操作 `arr.view(dtype=np.int32)` 创建了原始数组 `arr` 的一个视图 `view`，并指定了数据类型为int32。"
   ]
  },
  {
   "cell_type": "code",
   "execution_count": null,
   "id": "901a2485-0dc1-40f1-a53d-018bf527d9ca",
   "metadata": {},
   "outputs": [],
   "source": []
  }
 ],
 "metadata": {
  "kernelspec": {
   "display_name": "Python 3 (ipykernel)",
   "language": "python",
   "name": "python3"
  },
  "language_info": {
   "codemirror_mode": {
    "name": "ipython",
    "version": 3
   },
   "file_extension": ".py",
   "mimetype": "text/x-python",
   "name": "python",
   "nbconvert_exporter": "python",
   "pygments_lexer": "ipython3",
   "version": "3.9.18"
  }
 },
 "nbformat": 4,
 "nbformat_minor": 5
}
