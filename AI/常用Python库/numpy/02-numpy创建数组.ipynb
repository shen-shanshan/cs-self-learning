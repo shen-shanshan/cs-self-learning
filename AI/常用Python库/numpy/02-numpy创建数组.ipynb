{
 "cells": [
  {
   "cell_type": "code",
   "execution_count": 2,
   "id": "e2afe52c-a873-4b0b-90fa-cdd928de5077",
   "metadata": {},
   "outputs": [],
   "source": [
    "import numpy as np"
   ]
  },
  {
   "cell_type": "markdown",
   "id": "a1a7ea23-d0e9-483a-9324-61f17e27c717",
   "metadata": {},
   "source": [
    "# 创建和生成 NumPy 数组\n",
    "\n",
    "在数据科学和机器学习的工作中，我们常常需要创建和操作数组（array）。NumPy 是 Python 中处理数组的标准库，它提供了丰富的函数和方法来创建和操作数组。掌握如何快速创建数组是非常重要的，因为：\n",
    "\n",
    "- 我们需要创建数组来验证算法、测试函数，或者是进行数据分析。\n",
    "- 在使用诸如 scikit-learn、matplotlib、PyTorch、TensorFlow 等工具库时，我们经常需要构造简单的数据来进行实验或测试。\n",
    "\n",
    "本教程将介绍 NumPy 数组的几种常用创建方式，帮助你快速上手。"
   ]
  },
  {
   "cell_type": "markdown",
   "id": "adc7aa8c-f64f-4d54-bece-a4629e74f078",
   "metadata": {},
   "source": [
    "## 从 Python 列表或元组创建\r\n",
    "\r\n",
    "使用 `np.array()` 函数，我们可以将 Python 的列表（list）或元组（tuple）转换成 NumPy 数组。这是最直接的创建方式。的类型。"
   ]
  },
  {
   "cell_type": "code",
   "execution_count": 4,
   "id": "1cf9c5b0-6535-4907-a435-9b3fcb3bb8b0",
   "metadata": {},
   "outputs": [
    {
     "name": "stdout",
     "output_type": "stream",
     "text": [
      "从列表创建的数组：\n",
      " [1 2 3]\n"
     ]
    }
   ],
   "source": [
    "# 从列表创建\n",
    "list_array = np.array([1, 2, 3])\n",
    "print(\"从列表创建的数组：\\n\", list_array)"
   ]
  },
  {
   "cell_type": "code",
   "execution_count": 5,
   "id": "7d16b66d-6d85-40da-840f-9dbc65fdf559",
   "metadata": {},
   "outputs": [
    {
     "data": {
      "text/plain": [
       "numpy.ndarray"
      ]
     },
     "execution_count": 5,
     "metadata": {},
     "output_type": "execute_result"
    }
   ],
   "source": [
    "type(list_array)"
   ]
  },
  {
   "cell_type": "code",
   "execution_count": 3,
   "id": "80f07fe8-ae53-437b-86c9-550b8d4869b0",
   "metadata": {},
   "outputs": [
    {
     "name": "stdout",
     "output_type": "stream",
     "text": [
      "从列表创建的二维数组：\n",
      " [[1. 2. 3.]\n",
      " [4. 5. 6.]]\n"
     ]
    }
   ],
   "source": [
    "# 从列表创建二维数组\n",
    "list_2d_array = np.array([[1, 2., 3], [4, 5, 6]])\n",
    "print(\"从列表创建的二维数组：\\n\", list_2d_array)"
   ]
  },
  {
   "cell_type": "markdown",
   "id": "90f8d76a-4293-43ad-b5bd-4967fe64e38e",
   "metadata": {},
   "source": [
    "> `2.` 就是 `2.0`，即浮点数类型。"
   ]
  },
  {
   "cell_type": "code",
   "execution_count": 3,
   "id": "2c4653ca-692e-4bb5-8505-414b3f7177d4",
   "metadata": {},
   "outputs": [
    {
     "name": "stdout",
     "output_type": "stream",
     "text": [
      "指定数据类型的数组：\n",
      " [1. 2. 3.]\n"
     ]
    }
   ],
   "source": [
    "# 指定数据类型\n",
    "typed_array = np.array([1, 2, 3], dtype=np.float16)\n",
    "print(\"指定数据类型的数组：\\n\", typed_array)"
   ]
  },
  {
   "cell_type": "markdown",
   "id": "fc622975-0b72-4d80-b366-08f3f0a2bc53",
   "metadata": {},
   "source": [
    "> shift+tab：查看函数文档。"
   ]
  },
  {
   "cell_type": "code",
   "execution_count": 5,
   "id": "74d6caab-a929-4d1a-a87e-acc0d5d6e47e",
   "metadata": {},
   "outputs": [
    {
     "name": "stdout",
     "output_type": "stream",
     "text": [
      "从元组创建的数组：\n",
      " [1.1 2.2]\n"
     ]
    }
   ],
   "source": [
    "# 从元组创建\n",
    "tuple_array = np.array((1.1, 2.2))\n",
    "print(\"从元组创建的数组：\\n\", tuple_array)"
   ]
  },
  {
   "cell_type": "code",
   "execution_count": 6,
   "id": "55ad9b8b-22eb-44d8-9778-1312eaab9249",
   "metadata": {},
   "outputs": [
    {
     "name": "stdout",
     "output_type": "stream",
     "text": [
      "从元组创建的二维数组：\n",
      " [[1.1 2.2 3.3]\n",
      " [4.4 5.5 6.6]]\n"
     ]
    }
   ],
   "source": [
    "# 从元组创建二维数组\n",
    "tuple_2d_array = np.array([(1.1, 2.2, 3.3), (4.4, 5.5, 6.6)])\n",
    "print(\"从元组创建的二维数组：\\n\", tuple_2d_array)"
   ]
  },
  {
   "cell_type": "markdown",
   "id": "74401d68-e22c-4f1b-a837-9583941eb99d",
   "metadata": {},
   "source": [
    "注意事项：\n",
    "\n",
    "- 当列表或元组中的元素类型不一致时，NumPy 会尝试将它们转换成一个公共的类型，通常是更宽泛的类型（如整数会被转换为浮点数）。\n",
    "- 您可以通过指定 `dtype` 参数来设置数组元素的数据类型。"
   ]
  },
  {
   "cell_type": "markdown",
   "id": "4bffcd9e-d01f-4606-9c23-0af8546e2cd4",
   "metadata": {},
   "source": [
    "## 使用 `arange` 生成数组\r\n",
    "\r\n",
    "NumPy 的 `arange` 函数类似于 Python 的 `range` 函数，但它返回的是一个数组而不是列表。这个函数在需要创建数值范围时非常有用。"
   ]
  },
  {
   "cell_type": "code",
   "execution_count": 29,
   "id": "3be4ed13-eace-42e5-93fd-78df9799ff17",
   "metadata": {},
   "outputs": [
    {
     "name": "stdout",
     "output_type": "stream",
     "text": [
      "使用 arange 创建的数组：\n",
      " [ 1  2  3  4  5  6  7  8  9 10 11]\n"
     ]
    }
   ],
   "source": [
    "# 创建一个 0 到 11 的数组\n",
    "arange_array = np.arange(12)\n",
    "print(\"使用 arange 创建的数组：\\n\", arange_array)"
   ]
  },
  {
   "cell_type": "code",
   "execution_count": 20,
   "id": "800982be-aedf-4418-9c24-70a9eec61f4f",
   "metadata": {},
   "outputs": [
    {
     "name": "stdout",
     "output_type": "stream",
     "text": [
      "步长为 2 的数组：\n",
      " [100 102 104 106 108 110 112 114 116 118 120 122]\n"
     ]
    }
   ],
   "source": [
    "# 创建一个步长为 2 的数组\n",
    "stepped_array = np.arange(100, 124, 2)\n",
    "print(\"步长为 2 的数组：\\n\", stepped_array)"
   ]
  },
  {
   "cell_type": "markdown",
   "id": "5e412c5d-c373-488d-83ba-bcf3b8d4bb20",
   "metadata": {},
   "source": [
    "## 使用 `linspace` 和 `logspace` 生成数组\n",
    "\n",
    "`linspace` 和 `logspace` 函数生成的是线性间隔和对数间隔的数组，常用于数值分析和图形绘制。"
   ]
  },
  {
   "cell_type": "code",
   "execution_count": 32,
   "id": "e2e93112-511e-4ad0-a9ba-46b5c12e199b",
   "metadata": {},
   "outputs": [
    {
     "name": "stdout",
     "output_type": "stream",
     "text": [
      "使用 linspace 创建的数组：\n",
      " [0. 1. 2. 3. 4. 5. 6. 7. 8. 9.]\n"
     ]
    }
   ],
   "source": [
    "# 使用 linspace 创建等间隔数值数组\n",
    "linear_space = np.linspace(0, 9, 10)\n",
    "print(\"使用 linspace 创建的数组：\\n\", linear_space)"
   ]
  },
  {
   "cell_type": "code",
   "execution_count": 24,
   "id": "a75d1b31-7d94-47c9-a4c1-55a726cdb55c",
   "metadata": {},
   "outputs": [
    {
     "name": "stdout",
     "output_type": "stream",
     "text": [
      "使用 logspace 创建的数组：\n",
      " [1.00000000e+00 2.71828183e+00 7.38905610e+00 2.00855369e+01\n",
      " 5.45981500e+01 1.48413159e+02 4.03428793e+02 1.09663316e+03\n",
      " 2.98095799e+03 8.10308393e+03]\n"
     ]
    }
   ],
   "source": [
    "# 使用 logspace 创建对数间隔数值数组\n",
    "logarithmic_space = np.logspace(0, 9, 10, base=np.e)\n",
    "print(\"使用 logspace 创建的数组：\\n\", logarithmic_space)"
   ]
  },
  {
   "cell_type": "code",
   "execution_count": 33,
   "id": "5a5fc61b-55db-4bb0-9fa8-22d0cee2a462",
   "metadata": {},
   "outputs": [
    {
     "data": {
      "text/plain": [
       "array([1.00000000e+00, 2.71828183e+00, 7.38905610e+00, 2.00855369e+01,\n",
       "       5.45981500e+01, 1.48413159e+02, 4.03428793e+02, 1.09663316e+03,\n",
       "       2.98095799e+03, 8.10308393e+03])"
      ]
     },
     "execution_count": 33,
     "metadata": {},
     "output_type": "execute_result"
    }
   ],
   "source": [
    "np.exp(linear_space)"
   ]
  },
  {
   "cell_type": "markdown",
   "id": "a5ce3684-e1dc-4f76-b4ed-acdd0b88ab8c",
   "metadata": {},
   "source": [
    "注意事项：\n",
    "\n",
    "- `linspace` 的第三个参数是数组中的元素数量，而不是步长。\n",
    "- `logspace` 的 `base` 参数默认为 10，可以生成不同基数的对数间隔数组。"
   ]
  },
  {
   "cell_type": "markdown",
   "id": "b6ff3282-6e2f-41f5-83c9-6315f4d482e3",
   "metadata": {},
   "source": [
    "## 使用 `ones` 和 `zeros` 创建特殊数组\n",
    "\n",
    "`ones` 和 `zeros` 函数可以快速创建元素全为 1 或 0 的数组。这些函数在初始化参数或重置数据时特别有用。"
   ]
  },
  {
   "cell_type": "code",
   "execution_count": 12,
   "id": "62273af6-4d53-4771-b756-8ae063977ea1",
   "metadata": {},
   "outputs": [
    {
     "name": "stdout",
     "output_type": "stream",
     "text": [
      "全 1 的数组：\n",
      " [[1. 1. 1.]\n",
      " [1. 1. 1.]]\n"
     ]
    }
   ],
   "source": [
    "# 创建全 1 的数组\n",
    "ones_array = np.ones((2, 3))\n",
    "print(\"全 1 的数组：\\n\", ones_array)"
   ]
  },
  {
   "cell_type": "code",
   "execution_count": 13,
   "id": "b49cd42b-3f15-468b-b9e2-44aa9827b426",
   "metadata": {},
   "outputs": [
    {
     "name": "stdout",
     "output_type": "stream",
     "text": [
      "全 0 的三维数组：\n",
      " [[[0. 0. 0. 0.]\n",
      "  [0. 0. 0. 0.]\n",
      "  [0. 0. 0. 0.]]\n",
      "\n",
      " [[0. 0. 0. 0.]\n",
      "  [0. 0. 0. 0.]\n",
      "  [0. 0. 0. 0.]]]\n"
     ]
    }
   ],
   "source": [
    "# 创建全 0 的三维数组\n",
    "zeros_array = np.zeros((2, 3, 4))\n",
    "print(\"全 0 的三维数组：\\n\", zeros_array)"
   ]
  },
  {
   "cell_type": "code",
   "execution_count": 14,
   "id": "c9dddcbc-6215-43ec-b2c7-526cceb14182",
   "metadata": {},
   "outputs": [
    {
     "name": "stdout",
     "output_type": "stream",
     "text": [
      "与给定数组形状相同的全 0 数组：\n",
      " [[[0. 0. 0.]\n",
      "  [0. 0. 0.]\n",
      "  [0. 0. 0.]]\n",
      "\n",
      " [[0. 0. 0.]\n",
      "  [0. 0. 0.]\n",
      "  [0. 0. 0.]]]\n"
     ]
    }
   ],
   "source": [
    "# 创建与另一个数组形状相同的全 0 数组\n",
    "zeros_like_array = np.zeros_like(np.ones((2, 3, 3)))\n",
    "print(\"与给定数组形状相同的全 0 数组：\\n\", zeros_like_array)"
   ]
  },
  {
   "cell_type": "markdown",
   "id": "9f170684-1764-4679-84f6-e65c367dc7b2",
   "metadata": {},
   "source": [
    "注意事项：\n",
    "\n",
    "- 默认情况下，`ones` 和 `zeros` 创建的数组类型为浮点数。您可以通过 `dtype` 参数指定其他类型。"
   ]
  },
  {
   "cell_type": "markdown",
   "id": "1c87be18-278f-4e21-8fb4-ccb64846d563",
   "metadata": {},
   "source": [
    "## 使用 `random` 生成随机数数组\n",
    "\n",
    "NumPy 的 `random` 模块包含了多种产生随机数的函数，非常适合生成测试数据或进行随机化操作。"
   ]
  },
  {
   "cell_type": "code",
   "execution_count": 9,
   "id": "b6c33042-13a0-4595-863a-d525ed521cf2",
   "metadata": {},
   "outputs": [
    {
     "data": {
      "text/plain": [
       "array([[0.67985834, 0.69086849, 0.86309392],\n",
       "       [0.41802867, 0.90849351, 0.07485814]])"
      ]
     },
     "execution_count": 9,
     "metadata": {},
     "output_type": "execute_result"
    }
   ],
   "source": [
    "# 创建一个 2x3 的随机数组，元素值介于 0 到 1 之间\n",
    "np.random.rand(2, 3)"
   ]
  },
  {
   "cell_type": "code",
   "execution_count": 5,
   "id": "9538e5f5-b2dc-4050-8643-19009654b89c",
   "metadata": {},
   "outputs": [
    {
     "data": {
      "text/plain": [
       "array([[2, 8, 3],\n",
       "       [1, 6, 5]])"
      ]
     },
     "execution_count": 5,
     "metadata": {},
     "output_type": "execute_result"
    }
   ],
   "source": [
    "# 创建一个随机整数数组，元素值介于 0 到 10 之间\n",
    "np.random.randint(0, 10, (2, 3))"
   ]
  },
  {
   "cell_type": "code",
   "execution_count": 6,
   "id": "39d85363-faac-44c2-ad81-757296d356a1",
   "metadata": {},
   "outputs": [
    {
     "data": {
      "text/plain": [
       "array([[ 0.07952517,  0.05225985, -0.22883803, -0.23406145],\n",
       "       [-0.67722348,  0.05377112,  0.46357518, -0.34303437]])"
      ]
     },
     "execution_count": 6,
     "metadata": {},
     "output_type": "execute_result"
    }
   ],
   "source": [
    "# 创建一个符合标准正态分布的数组\n",
    "np.random.randn(2, 4)"
   ]
  },
  {
   "cell_type": "code",
   "execution_count": 7,
   "id": "9eb4a58b-fe57-483b-94c4-c2a39975eadc",
   "metadata": {},
   "outputs": [
    {
     "data": {
      "text/plain": [
       "Generator(PCG64) at 0x29232992820"
      ]
     },
     "execution_count": 7,
     "metadata": {},
     "output_type": "execute_result"
    }
   ],
   "source": [
    "# 从 1.17 版本后推荐使用 Generator 的方法来生成随机数\n",
    "# rng 是个 Generator，可用于生成各种分布\n",
    "rng = np.random.default_rng(42)\n",
    "rng"
   ]
  },
  {
   "cell_type": "code",
   "execution_count": 11,
   "id": "6b4a2a63-4725-4384-a350-b45ff1f262d1",
   "metadata": {},
   "outputs": [
    {
     "data": {
      "text/plain": [
       "array([[0.64386512, 0.82276161, 0.4434142 ],\n",
       "       [0.22723872, 0.55458479, 0.06381726]])"
      ]
     },
     "execution_count": 11,
     "metadata": {},
     "output_type": "execute_result"
    }
   ],
   "source": [
    "# 连续均匀分布用法\n",
    "rng.random((2, 3))"
   ]
  },
  {
   "cell_type": "code",
   "execution_count": 34,
   "id": "bccb6353-47ee-4e52-9680-1b9ea660ed9d",
   "metadata": {},
   "outputs": [
    {
     "data": {
      "text/plain": [
       "array([[3.82499429, 3.1735916 , 2.767897  ],\n",
       "       [2.7960358 , 1.51975049, 0.15408917]])"
      ]
     },
     "execution_count": 34,
     "metadata": {},
     "output_type": "execute_result"
    }
   ],
   "source": [
    "# 可以指定上下界\n",
    "rng.uniform(0, 5, (2, 3))"
   ]
  },
  {
   "cell_type": "code",
   "execution_count": 18,
   "id": "0ca5beea-7fcd-4dc4-87a4-382d93f7c457",
   "metadata": {},
   "outputs": [
    {
     "data": {
      "text/plain": [
       "array([0, 4], dtype=int64)"
      ]
     },
     "execution_count": 18,
     "metadata": {},
     "output_type": "execute_result"
    }
   ],
   "source": [
    "# 指定大小和上界\n",
    "rng.integers(10, size=2)"
   ]
  },
  {
   "cell_type": "code",
   "execution_count": 19,
   "id": "37396a4a-08f1-4598-b6be-bca51babe1e0",
   "metadata": {},
   "outputs": [
    {
     "data": {
      "text/plain": [
       "array([[7, 1, 4],\n",
       "       [1, 6, 4]], dtype=int64)"
      ]
     },
     "execution_count": 19,
     "metadata": {},
     "output_type": "execute_result"
    }
   ],
   "source": [
    "# 指定上下界\n",
    "rng.integers(0, 10, (2, 3))"
   ]
  },
  {
   "cell_type": "code",
   "execution_count": 20,
   "id": "42607ae4-838d-4812-bdd7-acada053e3b5",
   "metadata": {},
   "outputs": [
    {
     "data": {
      "text/plain": [
       "array([[-0.82448122,  0.65059279,  0.74325417,  0.54315427],\n",
       "       [-0.66550971,  0.23216132,  0.11668581,  0.2186886 ]])"
      ]
     },
     "execution_count": 20,
     "metadata": {},
     "output_type": "execute_result"
    }
   ],
   "source": [
    "# 标准正态分布用法\n",
    "rng.standard_normal((2, 4))"
   ]
  },
  {
   "cell_type": "code",
   "execution_count": 21,
   "id": "5020911f-d1ad-43df-b836-bc7676368495",
   "metadata": {},
   "outputs": [
    {
     "data": {
      "text/plain": [
       "array([[ 0.87142878,  0.22359555,  0.67891356,  0.06757907,  0.2891194 ],\n",
       "       [ 0.63128823, -1.45715582, -0.31967122, -0.47037265, -0.63887785],\n",
       "       [-0.27514225,  1.49494131, -0.86583112,  0.96827835, -1.68286977]])"
      ]
     },
     "execution_count": 21,
     "metadata": {},
     "output_type": "execute_result"
    }
   ],
   "source": [
    "# 高斯分布用法\n",
    "rng.normal(0, 1, (3, 5))"
   ]
  },
  {
   "cell_type": "markdown",
   "id": "7e276989-4718-4dc4-a2a9-456a5ec00f62",
   "metadata": {},
   "source": [
    "## 从文件读取数组\n",
    "\n",
    "NumPy 还提供了读写磁盘文件的功能。你可以将数组保存到文件中，然后在需要时再加载它们。"
   ]
  },
  {
   "cell_type": "code",
   "execution_count": 35,
   "id": "56105ecd-d9a0-4c98-b5d1-40cfef872726",
   "metadata": {},
   "outputs": [],
   "source": [
    "# 将数组保存到文件\n",
    "np.save('./my_array', np.array([[1, 2, 3], [4, 5, 6]]))"
   ]
  },
  {
   "cell_type": "code",
   "execution_count": 36,
   "id": "3cc56dab-9625-424b-ae03-5d5dd4726aef",
   "metadata": {},
   "outputs": [
    {
     "name": "stdout",
     "output_type": "stream",
     "text": [
      "从文件加载的数组：\n",
      " [[1 2 3]\n",
      " [4 5 6]]\n"
     ]
    }
   ],
   "source": [
    "# 从文件加载数组\n",
    "loaded_array = np.load('my_array.npy')\n",
    "print(\"从文件加载的数组：\\n\", loaded_array)"
   ]
  },
  {
   "cell_type": "markdown",
   "id": "8953e7d5-9a56-4daa-8925-c69010b8de9c",
   "metadata": {},
   "source": [
    "注意事项：\n",
    "\n",
    "- 使用 `np.save` 保存数组时，文件扩展名 `.npy` 会自动添加。使用 `np.load` 加载数组时需要包含此扩展名。"
   ]
  },
  {
   "cell_type": "code",
   "execution_count": null,
   "id": "c7e2aea9-f54c-4c55-bbef-3129846bdca7",
   "metadata": {},
   "outputs": [],
   "source": []
  }
 ],
 "metadata": {
  "kernelspec": {
   "display_name": "Python 3 (ipykernel)",
   "language": "python",
   "name": "python3"
  },
  "language_info": {
   "codemirror_mode": {
    "name": "ipython",
    "version": 3
   },
   "file_extension": ".py",
   "mimetype": "text/x-python",
   "name": "python",
   "nbconvert_exporter": "python",
   "pygments_lexer": "ipython3",
   "version": "3.8.18"
  }
 },
 "nbformat": 4,
 "nbformat_minor": 5
}
