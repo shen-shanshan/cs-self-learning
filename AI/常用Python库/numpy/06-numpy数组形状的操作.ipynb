{
 "cells": [
  {
   "cell_type": "code",
   "execution_count": 2,
   "id": "c46c5dcc-6f00-4379-87cc-a09559b946bb",
   "metadata": {},
   "outputs": [],
   "source": [
    "import numpy as np"
   ]
  },
  {
   "cell_type": "markdown",
   "id": "53651310-3fcd-4ac6-8207-1feacc012404",
   "metadata": {},
   "source": [
    "## 形状和转换\n",
    "\n",
    "在 `numpy` 中，数组（array）通常是多维的。我们通常将一维数组称为向量，二维数组称为矩阵，而超过二维的数组称为张量。由于数组可能具有多个维度，因此改变其形状和转换是非常基础且常见的操作。\n",
    "\n",
    "在本节中，我们将探讨以下三个方面：\n",
    "\n",
    "- 改变形状（Reshaping）\n",
    "- 反序（Reversing）\n",
    "- 转置（Transposing）\n",
    "\n",
    "其中，改变形状和转置是非常常见的操作，值得深入学习和掌握。\n",
    "\n",
    "### 改变形状\n",
    "\n",
    "在本小节中，我们将介绍一些非常高频的 API，特别是用于扩展一维度的 `expand_dims` 和去除一维度的 `squeeze` 函数。这些函数在神经网络的架构中尤其常见。\n",
    "\n",
    "需要特别注意的是，无论是扩展还是压缩维度，改变的维度大小必须是 1。例如，在使用 `squeeze` 函数时，如果指定了具体的维度，那么该维度的大小必须是 1。"
   ]
  },
  {
   "cell_type": "code",
   "execution_count": 6,
   "id": "58e0579d-4e18-4e85-bbc3-ed9f0e559e6a",
   "metadata": {},
   "outputs": [
    {
     "name": "stdout",
     "output_type": "stream",
     "text": [
      "[[ 9 77 65 44]\n",
      " [43 86  9 70]\n",
      " [20 10 53 97]]\n"
     ]
    }
   ],
   "source": [
    "# 创建一个随机整数数组\n",
    "rng = np.random.default_rng(seed=42)  # 创建一个随机数生成器，种子为 42\n",
    "arr = rng.integers(1, 100, (3, 4))  # 生成一个 3x4 的整数数组，数值范围是 1 到 100\n",
    "print(arr)"
   ]
  },
  {
   "cell_type": "markdown",
   "id": "12da5149-73b2-45d4-b1e0-26308ae9c015",
   "metadata": {},
   "source": [
    "#### `np.expand_dims`\n",
    "\n",
    "`np.expand_dims` 函数可以在指定位置增加一个维度。"
   ]
  },
  {
   "cell_type": "code",
   "execution_count": 6,
   "id": "e1c5735e-3f06-44ea-b38a-a363f894fea1",
   "metadata": {},
   "outputs": [
    {
     "name": "stdout",
     "output_type": "stream",
     "text": [
      "(3, 1, 4)\n"
     ]
    }
   ],
   "source": [
    "# 在第二个维度位置增加一个维度\n",
    "arr_expanded = np.expand_dims(arr, axis=1)\n",
    "print(arr_expanded.shape)"
   ]
  },
  {
   "cell_type": "markdown",
   "id": "54b991c6-6ad1-489a-8467-d5c8db911688",
   "metadata": {},
   "source": [
    "输出的形状是 `(3, 1, 4)`，在原来的基础上增加了一个维度。"
   ]
  },
  {
   "cell_type": "code",
   "execution_count": 9,
   "id": "2a39d336-8de0-413a-8d63-3e5088e6a00c",
   "metadata": {},
   "outputs": [
    {
     "name": "stdout",
     "output_type": "stream",
     "text": [
      "(3, 1, 4, 1, 1)\n"
     ]
    }
   ],
   "source": [
    "# 在多个位置增加维度\n",
    "expanded = np.expand_dims(arr, axis=(1, 3, 4))\n",
    "print(expanded.shape)"
   ]
  },
  {
   "cell_type": "markdown",
   "id": "bbbf5e4d-07b7-4b2b-9336-48b49f96fdce",
   "metadata": {},
   "source": [
    "输出的形状是 `(3, 1, 4, 1, 1)`，在指定的多个位置增加了维度。"
   ]
  },
  {
   "cell_type": "code",
   "execution_count": 8,
   "id": "70a0479b-e948-436b-9167-84371eac452e",
   "metadata": {},
   "outputs": [],
   "source": [
    "# 注意：扩充维度时不能跳过已有的维度\n",
    "# 下面的代码会出错，因为没有维度 8 可以扩展\n",
    "# expanded = np.expand_dims(arr, axis=(1, 3, 8))"
   ]
  },
  {
   "cell_type": "markdown",
   "id": "b87b9703-8873-4ef4-bace-557ce3853825",
   "metadata": {},
   "source": [
    "#### `np.squeeze`\n",
    "\n",
    "`np.squeeze` 函数用于移除数组形状中大小为 1 的维度。"
   ]
  },
  {
   "cell_type": "code",
   "execution_count": 10,
   "id": "4b3f8882-8026-4077-b9e5-eab417f7b9a2",
   "metadata": {},
   "outputs": [
    {
     "name": "stdout",
     "output_type": "stream",
     "text": [
      "(3, 4, 1, 1)\n"
     ]
    }
   ],
   "source": [
    "# 移除第二个维度，因为它的大小为 1\n",
    "arr_squeezed = np.squeeze(expanded, axis=1)\n",
    "print(arr_squeezed.shape)"
   ]
  },
  {
   "cell_type": "markdown",
   "id": "9c3df9af-107a-4b8c-8908-78dbb6f45b99",
   "metadata": {},
   "source": [
    "输出的形状是 `(3, 4, 1, 1)`，移除了一个大小为 1 的维度。"
   ]
  },
  {
   "cell_type": "code",
   "execution_count": 11,
   "id": "d250e156-0f2a-4703-a6fa-f7ac82e338c4",
   "metadata": {},
   "outputs": [
    {
     "name": "stdout",
     "output_type": "stream",
     "text": [
      "(3, 4)\n"
     ]
    }
   ],
   "source": [
    "# 移除所有大小为 1 的维度\n",
    "squeezed = np.squeeze(expanded)\n",
    "print(squeezed.shape)"
   ]
  },
  {
   "cell_type": "markdown",
   "id": "95ad5192-ff56-4f88-ab76-27e74b4fd907",
   "metadata": {},
   "source": [
    "输出的形状是 `(3, 4)`，移除了所有大小为 1 的维度。"
   ]
  },
  {
   "cell_type": "markdown",
   "id": "da5b4ded-2ea8-4d83-8457-acd942850afe",
   "metadata": {},
   "source": [
    "#### `np.reshape/arr.reshape`\n",
    "\n",
    "`reshape` 函数可以改变数组的形状而不改变其数据。"
   ]
  },
  {
   "cell_type": "code",
   "execution_count": 13,
   "id": "cdd8d2c1-329d-462e-a152-8cc68e0141a7",
   "metadata": {},
   "outputs": [
    {
     "data": {
      "text/plain": [
       "array([[ 9, 77, 65, 44],\n",
       "       [43, 86,  9, 70],\n",
       "       [20, 10, 53, 97]], dtype=int64)"
      ]
     },
     "execution_count": 13,
     "metadata": {},
     "output_type": "execute_result"
    }
   ],
   "source": [
    "arr"
   ]
  },
  {
   "cell_type": "code",
   "execution_count": 12,
   "id": "4ff41805-186e-4c5c-b1a7-aff1d7ac4525",
   "metadata": {},
   "outputs": [
    {
     "name": "stdout",
     "output_type": "stream",
     "text": [
      "[[[ 9 77 65]\n",
      "  [44 43 86]]\n",
      "\n",
      " [[ 9 70 20]\n",
      "  [10 53 97]]]\n"
     ]
    }
   ],
   "source": [
    "# 将数组重塑为另一个形状\n",
    "arr_reshaped = arr.reshape(2, 2, 3)\n",
    "print(arr_reshaped)"
   ]
  },
  {
   "cell_type": "markdown",
   "id": "1c910767-2295-4f90-b1be-fc3e4904fb98",
   "metadata": {},
   "source": [
    "输出的数组形状是 `(2, 2, 3)`，即重塑为一个三维数组。"
   ]
  },
  {
   "cell_type": "code",
   "execution_count": 14,
   "id": "81cdc15f-806f-47e0-a23c-f734554b2e9b",
   "metadata": {},
   "outputs": [
    {
     "name": "stdout",
     "output_type": "stream",
     "text": [
      "[[ 9 77 65]\n",
      " [44 43 86]\n",
      " [ 9 70 20]\n",
      " [10 53 97]]\n"
     ]
    }
   ],
   "source": [
    "# 使用 -1 可以自动计算该维度的大小\n",
    "arr_reshaped = arr.reshape((4, -1))\n",
    "print(arr_reshaped)"
   ]
  },
  {
   "cell_type": "markdown",
   "id": "c0afdb02-4dc2-4da2-8c33-5738efcf56c6",
   "metadata": {},
   "source": [
    "输出的数组形状是 `(4, 3)`，`-1` 表示自动计算该维度的大小。"
   ]
  },
  {
   "cell_type": "code",
   "execution_count": 16,
   "id": "28f0666f-8563-477a-989c-85484648e2d1",
   "metadata": {},
   "outputs": [],
   "source": [
    "# 如果尝试将数组重塑为元素数量不匹配的形状，将会出错\n",
    "# 下面的代码将会引发错误，因为原数组有 12 个元素，而新形状只能容纳 9 个元素\n",
    "# arr_reshaped = arr.reshape(3, 3)"
   ]
  },
  {
   "cell_type": "code",
   "execution_count": 17,
   "id": "e4b35cb1-a807-422a-8d1d-6a761025b785",
   "metadata": {},
   "outputs": [
    {
     "name": "stdout",
     "output_type": "stream",
     "text": [
      "[[ 9 77 65]\n",
      " [44 43 86]\n",
      " [ 9 70 20]\n",
      " [10 53 97]]\n"
     ]
    }
   ],
   "source": [
    "# 使用 resize 可以改变数组本身的形状\n",
    "# 注意：resize 会直接修改原数组，而不是返回一个新数组\n",
    "# 与 reshape 不同，resize 允许新形状的总元素数量与原数组不同\n",
    "arr.resize((4, 3), refcheck=False)\n",
    "print(arr)"
   ]
  },
  {
   "cell_type": "markdown",
   "id": "dbe8dd09-b74a-4060-9170-227ccf28dc8f",
   "metadata": {},
   "source": [
    "输出的数组形状是 `(4, 3)`，`resize` 还可以填充或截断原数组以匹配新的形状。"
   ]
  },
  {
   "cell_type": "code",
   "execution_count": 18,
   "id": "c84c8a3b-70fe-4cbc-b11d-eb9d3dd0bbea",
   "metadata": {},
   "outputs": [
    {
     "name": "stdout",
     "output_type": "stream",
     "text": [
      "[[ 9 77 65]\n",
      " [44 43 86]\n",
      " [ 9 70 20]\n",
      " [10 53 97]\n",
      " [ 9 77 65]]\n"
     ]
    }
   ],
   "source": [
    "# 使用 np.resize 可以创建一个新数组，它的行为略有不同\n",
    "arr_resized = np.resize(arr, (5, 3))\n",
    "print(arr_resized)"
   ]
  },
  {
   "cell_type": "markdown",
   "id": "69e303d0-37c8-43a7-a9b1-c9b449ce979a",
   "metadata": {},
   "source": [
    "输出的数组形状是 `(5, 3)`。如果新形状的总元素数量少于原数组，则 `np.resize` 会复制原数组中的元素以填充新数组。"
   ]
  },
  {
   "cell_type": "code",
   "execution_count": 19,
   "id": "2ed1b186-7d92-45c4-b177-e610e4b374f8",
   "metadata": {},
   "outputs": [
    {
     "name": "stdout",
     "output_type": "stream",
     "text": [
      "[[ 9 77]\n",
      " [65 44]]\n"
     ]
    }
   ],
   "source": [
    "# 如果新形状的总元素数量多于原数组，则 np.resize 会截断原数组中的元素\n",
    "arr_resized = np.resize(arr, (2, 2))\n",
    "print(arr_resized)"
   ]
  },
  {
   "cell_type": "markdown",
   "id": "10d38140-278e-40db-8a36-7e383640b2f3",
   "metadata": {},
   "source": [
    "输出的数组形状是 `(2, 2)`，多余的元素被截断。"
   ]
  },
  {
   "cell_type": "markdown",
   "id": "8f2fc5b5-2ff5-4745-970a-c92eb329583d",
   "metadata": {},
   "source": [
    "### 反序\n",
    "\n",
    "反序是将数组中的元素顺序颠倒。在 `numpy` 中，我们可以使用切片的方式来实现反序。\n",
    "\n",
    "如果给您一个字符串或数组让您反序，您可能会想到使用 `reversed` 函数，或者编写一个自定义函数，或者利用 Python 列表的切片功能。在 `numpy` 中，我们可以使用类似的切片方法来反序数组。"
   ]
  },
  {
   "cell_type": "code",
   "execution_count": 49,
   "id": "e733accd-514d-4e28-9417-1f904d2e3786",
   "metadata": {},
   "outputs": [
    {
     "name": "stdout",
     "output_type": "stream",
     "text": [
      "loveu\n"
     ]
    }
   ],
   "source": [
    "# 反序字符串\n",
    "s = \"uevol\"\n",
    "s_reversed = s[::-1]\n",
    "print(s_reversed)"
   ]
  },
  {
   "cell_type": "code",
   "execution_count": 50,
   "id": "e600d1e4-afec-4069-bf26-3958da76ab1b",
   "metadata": {},
   "outputs": [
    {
     "name": "stdout",
     "output_type": "stream",
     "text": [
      "[5.2, '1', 1]\n"
     ]
    }
   ],
   "source": [
    "# 反序列表\n",
    "lst = [1, \"1\", 5.2]\n",
    "lst_reversed = lst[::-1]\n",
    "print(lst_reversed)"
   ]
  },
  {
   "cell_type": "code",
   "execution_count": 51,
   "id": "48fe323a-86f9-4553-976d-6ad2d1a29654",
   "metadata": {},
   "outputs": [
    {
     "name": "stdout",
     "output_type": "stream",
     "text": [
      "[[10 53 97]\n",
      " [ 9 70 20]\n",
      " [44 43 86]\n",
      " [ 9 77 65]]\n"
     ]
    }
   ],
   "source": [
    "# 反序 numpy 数组\n",
    "# 默认情况下，使用切片 -1 可以反序数组的最外层维度\n",
    "arr_reversed = arr[::-1]\n",
    "print(arr_reversed)"
   ]
  },
  {
   "cell_type": "code",
   "execution_count": 21,
   "id": "77a8adc7-167f-4343-8da3-e6b5e3f0158e",
   "metadata": {},
   "outputs": [
    {
     "name": "stdout",
     "output_type": "stream",
     "text": [
      "[[97 53 10]\n",
      " [20 70  9]\n",
      " [86 43 44]\n",
      " [65 77  9]]\n"
     ]
    }
   ],
   "source": [
    "# 可以在不同的维度上进行反序操作\n",
    "# 例如，反序所有维度\n",
    "arr_reversed_all_dims = arr[::-1, ::-1]\n",
    "print(arr_reversed_all_dims)"
   ]
  },
  {
   "cell_type": "markdown",
   "id": "6768bfa5-5842-4967-978e-76a1cc1c1fc0",
   "metadata": {},
   "source": [
    "### 转置\n",
    "\n",
    "转置是线性代数中的一个基本操作，它将矩阵的行与列交换。在 `numpy` 中，这个操作可以很容易地通过 `.T` 属性或 `np.transpose` 函数来完成。\n",
    "\n",
    "需要注意的是，一维数组的转置与原数组相同，因为它只有一个维度。"
   ]
  },
  {
   "cell_type": "code",
   "execution_count": 52,
   "id": "d92249f5-5489-4a18-961f-8989e42f0470",
   "metadata": {},
   "outputs": [
    {
     "name": "stdout",
     "output_type": "stream",
     "text": [
      "(2,)\n"
     ]
    }
   ],
   "source": [
    "# 一维数组的转置\n",
    "arr_1d = np.array([1, 2])\n",
    "print(arr_1d.T.shape)"
   ]
  },
  {
   "cell_type": "markdown",
   "id": "a041f687-dbe3-452b-9bae-9e5d342d16a6",
   "metadata": {},
   "source": [
    "输出的形状仍然是 `(2,)`，因为一维数组的转置不会改变其形状。"
   ]
  },
  {
   "cell_type": "code",
   "execution_count": 53,
   "id": "60d34085-6626-4eec-adac-702d60b2641b",
   "metadata": {},
   "outputs": [
    {
     "data": {
      "text/plain": [
       "array([[ 9, 77, 65],\n",
       "       [44, 43, 86],\n",
       "       [ 9, 70, 20],\n",
       "       [10, 53, 97]], dtype=int64)"
      ]
     },
     "execution_count": 53,
     "metadata": {},
     "output_type": "execute_result"
    }
   ],
   "source": [
    "arr"
   ]
  },
  {
   "cell_type": "code",
   "execution_count": 23,
   "id": "9651b9b7-7a3d-41f1-be35-852b5c665e86",
   "metadata": {},
   "outputs": [
    {
     "name": "stdout",
     "output_type": "stream",
     "text": [
      "[[ 9 44  9 10]\n",
      " [77 43 70 53]\n",
      " [65 86 20 97]]\n"
     ]
    }
   ],
   "source": [
    "# 多维数组的转置\n",
    "arr_transposed = arr.T\n",
    "print(arr_transposed)"
   ]
  },
  {
   "cell_type": "markdown",
   "id": "85c1f833-692f-4170-b02d-c3c01153b9e8",
   "metadata": {},
   "source": [
    "输出的数组是原数组的转置，即行和列被交换了"
   ]
  },
  {
   "cell_type": "markdown",
   "id": "3af02a26-2fbc-487b-946d-7fd9a446cef5",
   "metadata": {},
   "source": [
    "#### `arr.T`\n",
    "\n",
    "`arr.T` 是转置的简便方法，适用于二维数组。对于多维数组，它会将所有维度的顺序倒置。"
   ]
  },
  {
   "cell_type": "markdown",
   "id": "9288cc87-347a-4b70-bbfa-6764f3c8a294",
   "metadata": {},
   "source": [
    "#### `np.transpose`\n",
    "\n",
    "`np.transpose` 函数提供了更多的灵活性，允许您指定转置的维度顺序。"
   ]
  },
  {
   "cell_type": "code",
   "execution_count": 25,
   "id": "09b5c279-b0c7-4bdb-94bf-43e70b12c702",
   "metadata": {},
   "outputs": [
    {
     "name": "stdout",
     "output_type": "stream",
     "text": [
      "[[ 9 44  9 10]\n",
      " [77 43 70 53]\n",
      " [65 86 20 97]]\n"
     ]
    }
   ],
   "source": [
    "# 使用 np.transpose 进行转置\n",
    "arr_transposed = np.transpose(arr)\n",
    "print(arr_transposed)"
   ]
  },
  {
   "cell_type": "code",
   "execution_count": null,
   "id": "e180f771-b653-40a6-846a-27c2fb9eadbe",
   "metadata": {},
   "outputs": [],
   "source": []
  }
 ],
 "metadata": {
  "kernelspec": {
   "display_name": "Python 3 (ipykernel)",
   "language": "python",
   "name": "python3"
  },
  "language_info": {
   "codemirror_mode": {
    "name": "ipython",
    "version": 3
   },
   "file_extension": ".py",
   "mimetype": "text/x-python",
   "name": "python",
   "nbconvert_exporter": "python",
   "pygments_lexer": "ipython3",
   "version": "3.9.18"
  }
 },
 "nbformat": 4,
 "nbformat_minor": 5
}
