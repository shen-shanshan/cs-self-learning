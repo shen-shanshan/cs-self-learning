{
 "cells": [
  {
   "cell_type": "code",
   "execution_count": 2,
   "id": "98ad468d-924c-474f-a734-34416ffa7593",
   "metadata": {},
   "outputs": [],
   "source": [
    "import numpy as np"
   ]
  },
  {
   "cell_type": "markdown",
   "id": "b0168fa6-5691-42dc-a298-c16277c3f85c",
   "metadata": {},
   "source": [
    "## NumPy 广播机制\n",
    "\n",
    "NumPy 的广播机制允许不同形状的数组在算术运算中进行兼容。当进行算术运算如加、减、乘、除等操作时，NumPy 试图让这些数组的形状匹配，如果可能的话，会“广播”较小数组的形状以匹配较大数组的形状。这让我们可以在不同形状的数组之间进行数学运算，而无需手动调整它们的大小。\n",
    "\n",
    "### 直观认识\n",
    "\n",
    "想象一下你有一个形状为 (3,) 的一维数组，也就是有3个元素的向量，和一个单独的数字（可以认为是形状为 (1,) 的数组）。如果你想要把这个单独的数字加到向量的每一个元素上，按照数学上的直觉，你可能需要写一个循环，逐个元素地进行加法。但是在NumPy中，你不需要写循环，你只需要简单地执行加法运算，NumPy会自动把那个单独的数字“扩展”或者说“广播”到向量的每一个元素上，然后逐个相加。\n",
    "\n",
    "### 广播的规则\n",
    "\n",
    "NumPy 在进行广播时遵循以下规则：\n",
    "\n",
    "1. 如果所有输入数组的维数不相同，将形状较小的数组的形状在前面补1，直到所有的数组维数都相同。\n",
    "2. 在任何一个维度上，如果一个数组的大小是1，而另一个数组的大小大于1，则第一个数组的形状会沿着这个维度扩展以匹配另一个数组的形状。\n",
    "3. 如果在任何维度上，两个数组的大小不一致且其中一个数组的大小不是1，则无法进行广播，NumPy将会抛出错误。"
   ]
  },
  {
   "cell_type": "markdown",
   "id": "0db3616b-6838-4fb4-8628-b6b23472d23c",
   "metadata": {},
   "source": [
    "接下来，让我们通过代码示例来具体看看广播是如何工作的。\n",
    "\n",
    "首先，我们创建了一个形状为 `(3, 4)` 的随机整数数组 `a`。"
   ]
  },
  {
   "cell_type": "code",
   "execution_count": 3,
   "id": "c87bbbbc-0262-473a-afae-059d5fb3336c",
   "metadata": {},
   "outputs": [],
   "source": [
    "# 创建一个随机数生成器\n",
    "rng = np.random.default_rng(seed=42)"
   ]
  },
  {
   "cell_type": "code",
   "execution_count": 4,
   "id": "20d829c0-29c2-46c2-a56b-2c003423da1d",
   "metadata": {},
   "outputs": [
    {
     "data": {
      "text/plain": [
       "array([[ 9, 77, 65, 44],\n",
       "       [43, 86,  9, 70],\n",
       "       [20, 10, 53, 97]], dtype=int64)"
      ]
     },
     "execution_count": 4,
     "metadata": {},
     "output_type": "execute_result"
    }
   ],
   "source": [
    "# 创建一个 3x4 的随机整数数组\n",
    "a = rng.integers(1, 100, (3, 4))\n",
    "a"
   ]
  },
  {
   "cell_type": "markdown",
   "id": "822a17f3-3e23-447c-b8f9-ae1aafc3b867",
   "metadata": {},
   "source": [
    "这将输出一个形状为 `(3, 4)` 的数组，即有3行4列。\n",
    "\n",
    "现在，我们尝试将数组 `a` 与一个形状为 `(4,)` 的一维数组进行相加。这里，一维数组的形状将会在前面补1，变成 `(1, 4)`。然后，这个一维数组沿着第一个维度（行）广播，以匹配 `a` 的形状 `(3, 4)`。"
   ]
  },
  {
   "cell_type": "code",
   "execution_count": 10,
   "id": "cd7ca16d-e655-462f-804d-fe7e5d716afa",
   "metadata": {},
   "outputs": [
    {
     "data": {
      "text/plain": [
       "(array([[ 10,  79,  68,  48],\n",
       "        [ 44,  88,  12,  74],\n",
       "        [ 21,  12,  56, 101]], dtype=int64),\n",
       " array([[ 10,  79,  68,  48],\n",
       "        [ 44,  88,  12,  74],\n",
       "        [ 21,  12,  56, 101]], dtype=int64),\n",
       " array([[ 10,  79,  68,  48],\n",
       "        [ 44,  88,  12,  74],\n",
       "        [ 21,  12,  56, 101]], dtype=int64))"
      ]
     },
     "execution_count": 10,
     "metadata": {},
     "output_type": "execute_result"
    }
   ],
   "source": [
    "# 将 a 数组与一个一维数组 [1,2,3,4] 相加\n",
    "# 一维数组的形状会被广播以匹配 a 的形状\n",
    "b = np.array([1, 2, 3, 4])\n",
    "b1 = np.array([[1, 2, 3, 4]])\n",
    "b2 = np.array([[1, 2, 3, 4],[1, 2, 3, 4],[1, 2, 3, 4]])\n",
    "a + b, a + b1, a + b2"
   ]
  },
  {
   "cell_type": "markdown",
   "id": "adac988e-1f68-4dfa-a66f-7a6f7ae07691",
   "metadata": {},
   "source": [
    "结果是，一维数组 `[1, 2, 3, 4]` 被广播到每一行，与 `a` 的每一行相加。\n",
    "\n",
    "在另一个例子中，我们将 `a` 与一个形状为 `(3, 1)` 的二维数组进行相加。这里，二维数组沿着第二个维度（列）广播，以匹配 `a` 的形状。"
   ]
  },
  {
   "cell_type": "code",
   "execution_count": 6,
   "id": "70d54209-ddcf-4262-8b9e-a36666da6554",
   "metadata": {},
   "outputs": [
    {
     "data": {
      "text/plain": [
       "array([[ 10,  78,  66,  45],\n",
       "       [ 45,  88,  11,  72],\n",
       "       [ 23,  13,  56, 100]], dtype=int64)"
      ]
     },
     "execution_count": 6,
     "metadata": {},
     "output_type": "execute_result"
    }
   ],
   "source": [
    "# 将 a 数组与一个形状为 (3, 1) 的二维数组相加\n",
    "# 二维数组的形状会被广播以匹配 a 的形状\n",
    "a + [[1], [2], [3]]"
   ]
  },
  {
   "cell_type": "markdown",
   "id": "9ad7e034-5ee9-41f6-9a6a-7455b98b3c93",
   "metadata": {},
   "source": [
    "结果是，二维数组 `[[1], [2], [3]]` 被广播到每一列，与 `a` 的每一列相加。\n",
    "\n",
    "通过这些示例，我们可以看到 NumPy 如何灵活地处理不同形状的数组，并在算术运算中自动应用广播机制。这大大简化了数组操作，使得代码更加简洁易读。"
   ]
  },
  {
   "cell_type": "code",
   "execution_count": null,
   "id": "20cace08-f97b-4c4b-92b0-485a60cac7b9",
   "metadata": {},
   "outputs": [],
   "source": []
  }
 ],
 "metadata": {
  "kernelspec": {
   "display_name": "Python 3 (ipykernel)",
   "language": "python",
   "name": "python3"
  },
  "language_info": {
   "codemirror_mode": {
    "name": "ipython",
    "version": 3
   },
   "file_extension": ".py",
   "mimetype": "text/x-python",
   "name": "python",
   "nbconvert_exporter": "python",
   "pygments_lexer": "ipython3",
   "version": "3.9.18"
  }
 },
 "nbformat": 4,
 "nbformat_minor": 5
}
