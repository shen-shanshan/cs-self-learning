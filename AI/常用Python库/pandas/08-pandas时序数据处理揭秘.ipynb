{
 "cells": [
  {
   "cell_type": "markdown",
   "id": "0eeadff3-ba5f-46df-8edb-616c0e3f0be6",
   "metadata": {},
   "source": [
    "# pandas中的时序数据处理\n",
    "时序数据处理是数据分析和数据科学中的一个关键环节。Pandas 提供了强大的工具来处理时间序列数据。本章节将详细介绍 Pandas 中的时序数据处理方法。"
   ]
  },
  {
   "cell_type": "code",
   "execution_count": 2,
   "id": "4dad736f-f070-43e2-ba7a-c5c01940bd49",
   "metadata": {},
   "outputs": [],
   "source": [
    "import numpy as np\n",
    "import pandas as pd"
   ]
  },
  {
   "cell_type": "markdown",
   "id": "5f0d4adb-a9bb-4059-b521-6742f9487a96",
   "metadata": {},
   "source": [
    "## 时序中的基本对象\n",
    "\n",
    "时间序列数据是指那些以时间戳（日期和时间）为索引的数据。在 Pandas 中，我们主要使用以下几种时间对象：\n",
    "\n",
    "1. **时间戳（Timestamps）**: 特定的日期和时间。\n",
    "2. **时间差（Time deltas）**: 两个时间点之间的时间间隔。\n",
    "3. **时间段（Time spans）**: 一段时间的区间。\n",
    "4. **日期偏置（Date offsets）**: 特定的时间偏移量。\n",
    "\n",
    "### Timestamp的构造与属性\n",
    "\n",
    "`Timestamp` 是 Pandas 中表示单个时间点的基本类型。你可以使用不同的字符串格式来创建 `Timestamp` 对象："
   ]
  },
  {
   "cell_type": "code",
   "execution_count": 30,
   "id": "7205d829-e0b4-471f-97c8-42403f4658fb",
   "metadata": {},
   "outputs": [],
   "source": [
    "# 使用不同的日期格式\n",
    "ts1 = pd.Timestamp('2020-01-01')\n",
    "ts2 = pd.Timestamp('2020/01/01')\n",
    "ts3 = pd.Timestamp('2020, 01, 01')"
   ]
  },
  {
   "cell_type": "code",
   "execution_count": 32,
   "id": "dfbaf54c-0bd2-4698-8be0-7223117bf685",
   "metadata": {},
   "outputs": [
    {
     "data": {
      "text/plain": [
       "Timestamp('2020-01-01 00:00:00')"
      ]
     },
     "execution_count": 32,
     "metadata": {},
     "output_type": "execute_result"
    }
   ],
   "source": [
    "ts1"
   ]
  },
  {
   "cell_type": "code",
   "execution_count": 31,
   "id": "9ee943c7-bc4d-4ecd-9cf7-f569860edc98",
   "metadata": {},
   "outputs": [],
   "source": [
    "# 时间也可以被包括在内\n",
    "ts4 = pd.Timestamp('2020-01-01 08:10:30')"
   ]
  },
  {
   "cell_type": "markdown",
   "id": "8ec80255-62ab-4fc8-ad48-ff21dba332a3",
   "metadata": {},
   "source": [
    "你还可以从 `Timestamp` 对象中提取具体的日期和时间组件："
   ]
  },
  {
   "cell_type": "code",
   "execution_count": 4,
   "id": "b39ff387-b539-4e8c-8770-4e74dfcaf1b0",
   "metadata": {},
   "outputs": [],
   "source": [
    "# 获取年、月、日、小时等\n",
    "year = ts4.year\n",
    "month = ts4.month\n",
    "day = ts4.day\n",
    "hour = ts4.hour\n",
    "minute = ts4.minute\n",
    "second = ts4.second"
   ]
  },
  {
   "cell_type": "markdown",
   "id": "c8692df6-512e-4235-8664-fb0afcaf38e4",
   "metadata": {},
   "source": [
    "时间戳的最小精度为纳秒 (`ns`)。你可以使用 `pd.Timestamp.max` 和 `pd.Timestamp.min` 来查看 Pandas 支持的时间戳的范围："
   ]
  },
  {
   "cell_type": "code",
   "execution_count": 34,
   "id": "7450d864-8771-4959-98b1-baf023fde496",
   "metadata": {},
   "outputs": [
    {
     "data": {
      "text/plain": [
       "(Timestamp('2262-04-11 23:47:16.854775807'),\n",
       " Timestamp('1677-09-21 00:12:43.145224193'))"
      ]
     },
     "execution_count": 34,
     "metadata": {},
     "output_type": "execute_result"
    }
   ],
   "source": [
    "# 时间戳的范围\n",
    "max_timestamp = pd.Timestamp.max\n",
    "min_timestamp = pd.Timestamp.min\n",
    "max_timestamp,min_timestamp"
   ]
  },
  {
   "cell_type": "markdown",
   "id": "2af8f4a0-777b-42db-9658-31bb0b4012cc",
   "metadata": {},
   "source": [
    "### Datetime序列的生成\n",
    "\n",
    "你可以使用 `pd.to_datetime` 来将字符串、列表或者 `DataFrame` 的列转换为时间戳序列。这在处理实际数据时非常有用："
   ]
  },
  {
   "cell_type": "code",
   "execution_count": 35,
   "id": "72e40f64-77b5-448a-86c5-5def9951896c",
   "metadata": {},
   "outputs": [
    {
     "data": {
      "text/plain": [
       "DatetimeIndex(['2020-01-01', '2020-01-02', '2020-01-03'], dtype='datetime64[ns]', freq=None)"
      ]
     },
     "execution_count": 35,
     "metadata": {},
     "output_type": "execute_result"
    }
   ],
   "source": [
    "# 从字符串列表转换\n",
    "date_list = ['2020-01-01', '2020-01-02', '2020-01-03']\n",
    "datetime_series = pd.to_datetime(date_list)\n",
    "datetime_series"
   ]
  },
  {
   "cell_type": "code",
   "execution_count": 7,
   "id": "bba0d339-0d5f-4073-830c-0a3a6a859d01",
   "metadata": {},
   "outputs": [
    {
     "data": {
      "text/html": [
       "<div>\n",
       "<style scoped>\n",
       "    .dataframe tbody tr th:only-of-type {\n",
       "        vertical-align: middle;\n",
       "    }\n",
       "\n",
       "    .dataframe tbody tr th {\n",
       "        vertical-align: top;\n",
       "    }\n",
       "\n",
       "    .dataframe thead th {\n",
       "        text-align: right;\n",
       "    }\n",
       "</style>\n",
       "<table border=\"1\" class=\"dataframe\">\n",
       "  <thead>\n",
       "    <tr style=\"text-align: right;\">\n",
       "      <th></th>\n",
       "      <th>date</th>\n",
       "    </tr>\n",
       "  </thead>\n",
       "  <tbody>\n",
       "    <tr>\n",
       "      <th>0</th>\n",
       "      <td>2020-01-01</td>\n",
       "    </tr>\n",
       "    <tr>\n",
       "      <th>1</th>\n",
       "      <td>2020-01-02</td>\n",
       "    </tr>\n",
       "    <tr>\n",
       "      <th>2</th>\n",
       "      <td>2020-01-03</td>\n",
       "    </tr>\n",
       "  </tbody>\n",
       "</table>\n",
       "</div>"
      ],
      "text/plain": [
       "        date\n",
       "0 2020-01-01\n",
       "1 2020-01-02\n",
       "2 2020-01-03"
      ]
     },
     "execution_count": 7,
     "metadata": {},
     "output_type": "execute_result"
    }
   ],
   "source": [
    "# 从DataFrame的列转换\n",
    "df = pd.DataFrame({'date': ['2020-01-01', '2020-01-02', '2020-01-03']})\n",
    "df['date'] = pd.to_datetime(df['date'])\n",
    "df"
   ]
  },
  {
   "cell_type": "markdown",
   "id": "47986e53-a1c7-460d-8009-e91a63188e9c",
   "metadata": {},
   "source": [
    "如果时间格式不是标准格式，你可以使用 `format` 参数来指定正确的格式："
   ]
  },
  {
   "cell_type": "code",
   "execution_count": 36,
   "id": "27344fde-6b5f-4e72-9c87-25415beafa20",
   "metadata": {},
   "outputs": [
    {
     "data": {
      "text/plain": [
       "DatetimeIndex(['2020-01-01', '2020-01-02'], dtype='datetime64[ns]', freq=None)"
      ]
     },
     "execution_count": 36,
     "metadata": {},
     "output_type": "execute_result"
    }
   ],
   "source": [
    "# 使用特定的格式解析日期\n",
    "custom_dates = ['2020\\\\01\\\\01', '2020\\\\01\\\\02']\n",
    "datetime_series = pd.to_datetime(custom_dates, format='%Y\\\\%m\\\\%d')\n",
    "datetime_series"
   ]
  },
  {
   "cell_type": "markdown",
   "id": "9e0a05a9-897d-47dc-939a-335a39a9f843",
   "metadata": {},
   "source": [
    "你还可以使用 `pd.date_range` 来生成日期范围，这在创建时间序列数据时特别有用："
   ]
  },
  {
   "cell_type": "code",
   "execution_count": 9,
   "id": "5f6a4646-fbfd-49ad-a682-184fa197ecf8",
   "metadata": {},
   "outputs": [
    {
     "data": {
      "text/plain": [
       "DatetimeIndex(['2020-01-01', '2020-01-02', '2020-01-03', '2020-01-04',\n",
       "               '2020-01-05', '2020-01-06', '2020-01-07', '2020-01-08',\n",
       "               '2020-01-09', '2020-01-10'],\n",
       "              dtype='datetime64[ns]', freq='D')"
      ]
     },
     "execution_count": 9,
     "metadata": {},
     "output_type": "execute_result"
    }
   ],
   "source": [
    "# 生成一个日期范围\n",
    "date_range = pd.date_range(start='2020-01-01', end='2020-01-10', freq='D')\n",
    "date_range"
   ]
  },
  {
   "cell_type": "markdown",
   "id": "53261d20-e737-4355-8355-d606a2206fd8",
   "metadata": {},
   "source": [
    "`freq` 参数决定了日期范围的频率。例如，`'D'` 代表每天，`'W'` 代表每周，等等。"
   ]
  },
  {
   "cell_type": "markdown",
   "id": "21541ec5-eb54-401a-ac07-2223b47b550b",
   "metadata": {},
   "source": [
    "### dt对象\n",
    "\n",
    "在处理时间序列数据时，`dt` 访问器是一个非常有用的工具。它允许你对 `datetime64` 类型的 `Series` 对象进行多种时间相关的操作。"
   ]
  },
  {
   "cell_type": "code",
   "execution_count": 47,
   "id": "cf0b0acf-f509-4057-8754-b71fe7bc8adb",
   "metadata": {},
   "outputs": [
    {
     "data": {
      "text/plain": [
       "0   2020-01-01\n",
       "1   2020-01-02\n",
       "2   2020-01-03\n",
       "3   2020-01-04\n",
       "4   2020-01-05\n",
       "5   2020-01-06\n",
       "6   2020-01-07\n",
       "7   2020-01-08\n",
       "8   2020-01-09\n",
       "9   2020-01-10\n",
       "dtype: datetime64[ns]"
      ]
     },
     "execution_count": 47,
     "metadata": {},
     "output_type": "execute_result"
    }
   ],
   "source": [
    "# 创建一个日期范围\n",
    "s = pd.Series(pd.date_range('2020-01-01', periods=10, freq='D'))\n",
    "s"
   ]
  },
  {
   "cell_type": "code",
   "execution_count": 48,
   "id": "77b53751-ff84-46d4-8556-fa05814d4a38",
   "metadata": {},
   "outputs": [
    {
     "data": {
      "text/plain": [
       "0    January\n",
       "1    January\n",
       "2    January\n",
       "3    January\n",
       "4    January\n",
       "5    January\n",
       "6    January\n",
       "7    January\n",
       "8    January\n",
       "9    January\n",
       "dtype: object"
      ]
     },
     "execution_count": 48,
     "metadata": {},
     "output_type": "execute_result"
    }
   ],
   "source": [
    "# 使用 dt 访问器\n",
    "day_of_week = s.dt.dayofweek\n",
    "month_name = s.dt.month_name()\n",
    "month_name"
   ]
  },
  {
   "cell_type": "markdown",
   "id": "bd2c43b2-0a0c-47c3-b2f2-c567c0cfad7b",
   "metadata": {},
   "source": [
    "`dt` 访问器允许你执行多种操作，如提取日期的年份、月份、天、小时等，或者获取星期几、一年中的第几天等。"
   ]
  },
  {
   "cell_type": "markdown",
   "id": "1fa27076-0e6c-43f9-8d13-e6b4a598ffb9",
   "metadata": {},
   "source": [
    "### 时间戳的切片与索引\n",
    "\n",
    "在 Pandas 中，你可以使用标准的 Python 切片和索引语法来选取特定的日期和时间："
   ]
  },
  {
   "cell_type": "code",
   "execution_count": 49,
   "id": "baf74861-b850-4d30-a55e-c4ff46efb2f7",
   "metadata": {},
   "outputs": [
    {
     "data": {
      "text/plain": [
       "2020-01-01    0.849246\n",
       "2020-01-02    0.518603\n",
       "2020-01-03    0.832759\n",
       "2020-01-04    0.232308\n",
       "2020-01-05    0.021420\n",
       "2020-01-06    0.456149\n",
       "2020-01-07    0.988547\n",
       "2020-01-08    0.104968\n",
       "2020-01-09    0.471504\n",
       "2020-01-10    0.134094\n",
       "2020-01-11    0.876242\n",
       "2020-01-12    0.412401\n",
       "2020-01-13    0.385384\n",
       "2020-01-14    0.407658\n",
       "2020-01-15    0.562974\n",
       "2020-01-16    0.500331\n",
       "2020-01-17    0.214971\n",
       "2020-01-18    0.579254\n",
       "2020-01-19    0.332480\n",
       "2020-01-20    0.438437\n",
       "2020-01-21    0.020174\n",
       "2020-01-22    0.169307\n",
       "2020-01-23    0.704720\n",
       "2020-01-24    0.208713\n",
       "2020-01-25    0.769626\n",
       "2020-01-26    0.497388\n",
       "2020-01-27    0.727090\n",
       "2020-01-28    0.964194\n",
       "2020-01-29    0.580868\n",
       "2020-01-30    0.270407\n",
       "2020-01-31    0.270224\n",
       "2020-02-01    0.350730\n",
       "2020-02-02    0.512698\n",
       "2020-02-03    0.021205\n",
       "2020-02-04    0.335060\n",
       "2020-02-05    0.136939\n",
       "2020-02-06    0.508525\n",
       "2020-02-07    0.127281\n",
       "2020-02-08    0.655435\n",
       "2020-02-09    0.583510\n",
       "Freq: D, dtype: float64"
      ]
     },
     "execution_count": 49,
     "metadata": {},
     "output_type": "execute_result"
    }
   ],
   "source": [
    "# 创建一个时间序列\n",
    "s = pd.Series(np.random.rand(40), index=pd.date_range('2020-01-01', periods=40))\n",
    "s"
   ]
  },
  {
   "cell_type": "code",
   "execution_count": 53,
   "id": "1afaf672-9a71-44f6-9f72-49f7b713d8e7",
   "metadata": {},
   "outputs": [
    {
     "data": {
      "text/plain": [
       "2020-01-02    0.518603\n",
       "2020-01-03    0.832759\n",
       "2020-01-04    0.232308\n",
       "Freq: D, dtype: float64"
      ]
     },
     "execution_count": 53,
     "metadata": {},
     "output_type": "execute_result"
    }
   ],
   "source": [
    "# 使用日期字符串进行切片\n",
    "subset = s['2020-01-02':'2020-01-04']\n",
    "subset"
   ]
  },
  {
   "cell_type": "markdown",
   "id": "bea64a1f-3e48-48a5-af4f-64539b04f78b",
   "metadata": {},
   "source": [
    "你还可以使用年份或年份和月份来进行切片，Pandas 会自动解析这些字符串："
   ]
  },
  {
   "cell_type": "code",
   "execution_count": 55,
   "id": "d2df32d7-be4f-4fc1-b95c-623ae725fcb7",
   "metadata": {},
   "outputs": [
    {
     "data": {
      "text/plain": [
       "2020-01-01    0.849246\n",
       "2020-01-02    0.518603\n",
       "2020-01-03    0.832759\n",
       "2020-01-04    0.232308\n",
       "2020-01-05    0.021420\n",
       "2020-01-06    0.456149\n",
       "2020-01-07    0.988547\n",
       "2020-01-08    0.104968\n",
       "2020-01-09    0.471504\n",
       "2020-01-10    0.134094\n",
       "2020-01-11    0.876242\n",
       "2020-01-12    0.412401\n",
       "2020-01-13    0.385384\n",
       "2020-01-14    0.407658\n",
       "2020-01-15    0.562974\n",
       "2020-01-16    0.500331\n",
       "2020-01-17    0.214971\n",
       "2020-01-18    0.579254\n",
       "2020-01-19    0.332480\n",
       "2020-01-20    0.438437\n",
       "2020-01-21    0.020174\n",
       "2020-01-22    0.169307\n",
       "2020-01-23    0.704720\n",
       "2020-01-24    0.208713\n",
       "2020-01-25    0.769626\n",
       "2020-01-26    0.497388\n",
       "2020-01-27    0.727090\n",
       "2020-01-28    0.964194\n",
       "2020-01-29    0.580868\n",
       "2020-01-30    0.270407\n",
       "2020-01-31    0.270224\n",
       "2020-02-01    0.350730\n",
       "2020-02-02    0.512698\n",
       "2020-02-03    0.021205\n",
       "2020-02-04    0.335060\n",
       "2020-02-05    0.136939\n",
       "2020-02-06    0.508525\n",
       "2020-02-07    0.127281\n",
       "2020-02-08    0.655435\n",
       "2020-02-09    0.583510\n",
       "Freq: D, dtype: float64"
      ]
     },
     "execution_count": 55,
     "metadata": {},
     "output_type": "execute_result"
    }
   ],
   "source": [
    "# 选择整个月或年\n",
    "january_subset = s['2020-01']\n",
    "year_subset = s['2020']\n",
    "year_subset"
   ]
  },
  {
   "cell_type": "markdown",
   "id": "e094c7c2-4362-49e1-bb50-d55f41ec2d54",
   "metadata": {},
   "source": [
    "## 时间差（Timedelta）\n",
    "\n",
    "`Timedelta` 表示两个 `Timestamp` 对象之间的时间差。这在时间序列分析中非常常见，比如计算两个日期之间的天数或秒数。\n",
    "\n",
    "### Timedelta的构造\n",
    "\n",
    "你可以通过多种方式来创建 `Timedelta` 对象："
   ]
  },
  {
   "cell_type": "code",
   "execution_count": 56,
   "id": "00a78b71-3fcf-4230-9de5-287f6759f019",
   "metadata": {},
   "outputs": [
    {
     "data": {
      "text/plain": [
       "Timedelta('5 days 00:00:00')"
      ]
     },
     "execution_count": 56,
     "metadata": {},
     "output_type": "execute_result"
    }
   ],
   "source": [
    "# 直接创建\n",
    "td1 = pd.Timedelta(days=5)\n",
    "td2 = pd.Timedelta(weeks=2, hours=3)\n",
    "td1"
   ]
  },
  {
   "cell_type": "code",
   "execution_count": 57,
   "id": "0e6d3a9a-55f9-427b-ade7-6edf469f260d",
   "metadata": {},
   "outputs": [
    {
     "data": {
      "text/plain": [
       "Timedelta('2 days 03:00:00')"
      ]
     },
     "execution_count": 57,
     "metadata": {},
     "output_type": "execute_result"
    }
   ],
   "source": [
    "# 从字符串创建\n",
    "td3 = pd.Timedelta('2 days 3 hours')\n",
    "td3"
   ]
  },
  {
   "cell_type": "code",
   "execution_count": 58,
   "id": "08470234-42e8-4354-bd87-f145fde4cf5b",
   "metadata": {},
   "outputs": [
    {
     "data": {
      "text/plain": [
       "Timedelta('4 days 00:00:00')"
      ]
     },
     "execution_count": 58,
     "metadata": {},
     "output_type": "execute_result"
    }
   ],
   "source": [
    "# 通过计算两个时间戳得到\n",
    "td4 = pd.Timestamp('2020-01-05') - pd.Timestamp('2020-01-01')\n",
    "td4"
   ]
  },
  {
   "cell_type": "markdown",
   "id": "7a3d8297-e284-4914-8db3-fb009cf99cfc",
   "metadata": {},
   "source": [
    "### Timedelta的运算\n",
    "\n",
    "`Timedelta` 对象支持基本的算术运算。你可以将它们相加、相减或与标量进行乘法或除法运算："
   ]
  },
  {
   "cell_type": "code",
   "execution_count": 59,
   "id": "19e547df-a712-40fa-99db-afbc70ac2434",
   "metadata": {},
   "outputs": [],
   "source": [
    "# Timedelta运算\n",
    "td_total = td1 + td2\n",
    "td_diff = td2 - td1\n",
    "td_scaled = td3 * 2"
   ]
  },
  {
   "cell_type": "markdown",
   "id": "5c61e29d-1a3f-4964-9544-d9626cf5d97b",
   "metadata": {},
   "source": [
    "这些运算也可以应用在 `TimedeltaIndex` 或 `timedelta64[ns]` 类型的 `Series` 上。\n",
    "\n",
    "## 日期偏置（Date Offsets）\n",
    "\n",
    "日期偏置是 Pandas 中用于表示日期和时间的相对偏移量的对象。它们在财务分析和其他需要考虑工作日或特定节假日的场景中特别有用。\n",
    "\n",
    "### Offset对象的应用\n",
    "\n",
    "Pandas 提供了多种 `Offset` 对象来处理常见的日期偏置。例如，你可以使用 `BDay` 来表示工作日偏置，或使用 `MonthEnd`、`MonthBegin` 来表示月底或月初偏置："
   ]
  },
  {
   "cell_type": "code",
   "execution_count": 60,
   "id": "ef124809-342d-416c-81d4-ca2d6f97096c",
   "metadata": {},
   "outputs": [
    {
     "data": {
      "text/plain": [
       "Timestamp('2020-01-02 00:00:00')"
      ]
     },
     "execution_count": 60,
     "metadata": {},
     "output_type": "execute_result"
    }
   ],
   "source": [
    "# 从指定日期添加一个工作日\n",
    "next_bday = pd.Timestamp('2020-01-01') + pd.offsets.BDay(1)\n",
    "next_bday"
   ]
  },
  {
   "cell_type": "code",
   "execution_count": 40,
   "id": "44e1bb07-6305-47ce-ba8b-f1c84c781c93",
   "metadata": {},
   "outputs": [
    {
     "data": {
      "text/plain": [
       "Timestamp('2020-01-31 00:00:00')"
      ]
     },
     "execution_count": 40,
     "metadata": {},
     "output_type": "execute_result"
    }
   ],
   "source": [
    "# 找到下一个月底\n",
    "next_month_end = pd.Timestamp('2020-01-15') + pd.offsets.MonthEnd(1)\n",
    "next_month_end"
   ]
  },
  {
   "cell_type": "markdown",
   "id": "fca9dcb9-7658-4980-ad2a-21d458bb8d6c",
   "metadata": {},
   "source": [
    "## 时序数据的高级操作\n",
    "\n",
    "### 滑动窗口（Rolling Windows）\n",
    "\n",
    "滑动窗口是时间序列分析中的一个重要工具，特别是在计算移动平均或移动标准差时。Pandas 提供了 `rolling` 方法来支持这些操作："
   ]
  },
  {
   "cell_type": "code",
   "execution_count": 61,
   "id": "12166a22-23b6-4fe6-822f-4ace98f86c9d",
   "metadata": {},
   "outputs": [
    {
     "data": {
      "text/plain": [
       "2020-01-01     0\n",
       "2020-01-02     1\n",
       "2020-01-03     2\n",
       "2020-01-04     3\n",
       "2020-01-05     4\n",
       "2020-01-06     5\n",
       "2020-01-07     6\n",
       "2020-01-08     7\n",
       "2020-01-09     8\n",
       "2020-01-10     9\n",
       "2020-01-11    10\n",
       "2020-01-12    11\n",
       "2020-01-13    12\n",
       "2020-01-14    13\n",
       "2020-01-15    14\n",
       "2020-01-16    15\n",
       "2020-01-17    16\n",
       "2020-01-18    17\n",
       "2020-01-19    18\n",
       "2020-01-20    19\n",
       "2020-01-21    20\n",
       "2020-01-22    21\n",
       "2020-01-23    22\n",
       "2020-01-24    23\n",
       "2020-01-25    24\n",
       "2020-01-26    25\n",
       "2020-01-27    26\n",
       "2020-01-28    27\n",
       "2020-01-29    28\n",
       "2020-01-30    29\n",
       "2020-01-31    30\n",
       "2020-02-01    31\n",
       "2020-02-02    32\n",
       "2020-02-03    33\n",
       "2020-02-04    34\n",
       "2020-02-05    35\n",
       "2020-02-06    36\n",
       "2020-02-07    37\n",
       "2020-02-08    38\n",
       "2020-02-09    39\n",
       "Freq: D, dtype: int32"
      ]
     },
     "execution_count": 61,
     "metadata": {},
     "output_type": "execute_result"
    }
   ],
   "source": [
    "# 创建一个时间序列\n",
    "s = pd.Series(np.arange(40), index=pd.date_range('2020-01-01', periods=40))\n",
    "s"
   ]
  },
  {
   "cell_type": "code",
   "execution_count": 27,
   "id": "b1a4a91a-7b5f-41fc-8684-7ebdb74e73d3",
   "metadata": {},
   "outputs": [
    {
     "data": {
      "text/plain": [
       "2020-01-01     NaN\n",
       "2020-01-02     NaN\n",
       "2020-01-03     1.0\n",
       "2020-01-04     2.0\n",
       "2020-01-05     3.0\n",
       "2020-01-06     4.0\n",
       "2020-01-07     5.0\n",
       "2020-01-08     6.0\n",
       "2020-01-09     7.0\n",
       "2020-01-10     8.0\n",
       "2020-01-11     9.0\n",
       "2020-01-12    10.0\n",
       "2020-01-13    11.0\n",
       "2020-01-14    12.0\n",
       "2020-01-15    13.0\n",
       "2020-01-16    14.0\n",
       "2020-01-17    15.0\n",
       "2020-01-18    16.0\n",
       "2020-01-19    17.0\n",
       "2020-01-20    18.0\n",
       "2020-01-21    19.0\n",
       "2020-01-22    20.0\n",
       "2020-01-23    21.0\n",
       "2020-01-24    22.0\n",
       "2020-01-25    23.0\n",
       "2020-01-26    24.0\n",
       "2020-01-27    25.0\n",
       "2020-01-28    26.0\n",
       "2020-01-29    27.0\n",
       "2020-01-30    28.0\n",
       "2020-01-31    29.0\n",
       "2020-02-01    30.0\n",
       "2020-02-02    31.0\n",
       "2020-02-03    32.0\n",
       "2020-02-04    33.0\n",
       "2020-02-05    34.0\n",
       "2020-02-06    35.0\n",
       "2020-02-07    36.0\n",
       "2020-02-08    37.0\n",
       "2020-02-09    38.0\n",
       "Freq: D, dtype: float64"
      ]
     },
     "execution_count": 27,
     "metadata": {},
     "output_type": "execute_result"
    }
   ],
   "source": [
    "# 计算3天滑动平均\n",
    "rolling_avg = s.rolling(window=3).mean()\n",
    "rolling_avg"
   ]
  },
  {
   "cell_type": "markdown",
   "id": "424328bb-5e28-4ca5-bcdf-b1aa2ed1bb9f",
   "metadata": {},
   "source": [
    "### 重采样（Resampling）\n",
    "\n",
    "重采样是将时间序列从一个频率转换到另一个频率的过程。你可以使用 `resample` 方法来增加或减少数据频率："
   ]
  },
  {
   "cell_type": "code",
   "execution_count": 62,
   "id": "b8d4e436-eb41-4e8c-a336-3b1d8ac980e4",
   "metadata": {},
   "outputs": [],
   "source": [
    "# 将数据从日频率降到月频率\n",
    "monthly_resampled_data = s.resample('M').mean()"
   ]
  },
  {
   "cell_type": "code",
   "execution_count": 63,
   "id": "55cebe0b-5cb5-4847-bcca-ff14b670b20c",
   "metadata": {},
   "outputs": [
    {
     "data": {
      "text/plain": [
       "2020-01-31    15.0\n",
       "2020-02-29    35.0\n",
       "Freq: M, dtype: float64"
      ]
     },
     "execution_count": 63,
     "metadata": {},
     "output_type": "execute_result"
    }
   ],
   "source": [
    "monthly_resampled_data"
   ]
  },
  {
   "cell_type": "code",
   "execution_count": null,
   "id": "d1e7708a-adde-4dfb-b514-0a6be8d89869",
   "metadata": {},
   "outputs": [],
   "source": []
  }
 ],
 "metadata": {
  "kernelspec": {
   "display_name": "Python 3 (ipykernel)",
   "language": "python",
   "name": "python3"
  },
  "language_info": {
   "codemirror_mode": {
    "name": "ipython",
    "version": 3
   },
   "file_extension": ".py",
   "mimetype": "text/x-python",
   "name": "python",
   "nbconvert_exporter": "python",
   "pygments_lexer": "ipython3",
   "version": "3.9.18"
  }
 },
 "nbformat": 4,
 "nbformat_minor": 5
}
