{
 "cells": [
  {
   "cell_type": "markdown",
   "id": "61dda307-b8db-41f1-b5d8-062d3c5b6080",
   "metadata": {},
   "source": [
    "# pandas中的缺失值处理\n",
    "\n",
    "在数据分析的过程中，处理缺失数据是一个常见且重要的任务。缺失数据会影响数据的质量，导致分析结果不准确。Pandas 提供了一系列的功能来帮助我们识别、统计和处理缺失值。"
   ]
  },
  {
   "cell_type": "code",
   "execution_count": 3,
   "id": "6c30f376-4905-45f9-990a-296bb393174e",
   "metadata": {},
   "outputs": [],
   "source": [
    "import numpy as np\n",
    "import pandas as pd"
   ]
  },
  {
   "cell_type": "markdown",
   "id": "14eb1402-fc31-45b2-81c1-eca290ad94bc",
   "metadata": {},
   "source": [
    "## 缺失值的统计和删除\n",
    "\n",
    "### 缺失信息的统计\n",
    "\n",
    "在Pandas中，缺失值通常被表示为`NaN`（Not a Number）。为了确定数据中的缺失值，可以使用`isna()`或`isnull()`方法。这两个方法在功能上是等价的，可以帮助我们检测数据中的缺失值。"
   ]
  },
  {
   "cell_type": "code",
   "execution_count": 11,
   "id": "177df02e-321b-46dd-9133-368960dc5f3e",
   "metadata": {},
   "outputs": [
    {
     "data": {
      "text/html": [
       "<div>\n",
       "<style scoped>\n",
       "    .dataframe tbody tr th:only-of-type {\n",
       "        vertical-align: middle;\n",
       "    }\n",
       "\n",
       "    .dataframe tbody tr th {\n",
       "        vertical-align: top;\n",
       "    }\n",
       "\n",
       "    .dataframe thead th {\n",
       "        text-align: right;\n",
       "    }\n",
       "</style>\n",
       "<table border=\"1\" class=\"dataframe\">\n",
       "  <thead>\n",
       "    <tr style=\"text-align: right;\">\n",
       "      <th></th>\n",
       "      <th>t_dat</th>\n",
       "      <th>customer_id</th>\n",
       "      <th>article_id</th>\n",
       "      <th>price</th>\n",
       "      <th>sales_channel_id</th>\n",
       "      <th>product_code</th>\n",
       "      <th>prod_name</th>\n",
       "      <th>product_type_no</th>\n",
       "      <th>product_type_name</th>\n",
       "      <th>product_group_name</th>\n",
       "      <th>...</th>\n",
       "      <th>section_name</th>\n",
       "      <th>garment_group_no</th>\n",
       "      <th>garment_group_name</th>\n",
       "      <th>detail_desc</th>\n",
       "      <th>FN</th>\n",
       "      <th>Active</th>\n",
       "      <th>club_member_status</th>\n",
       "      <th>fashion_news_frequency</th>\n",
       "      <th>age</th>\n",
       "      <th>postal_code</th>\n",
       "    </tr>\n",
       "  </thead>\n",
       "  <tbody>\n",
       "    <tr>\n",
       "      <th>0</th>\n",
       "      <td>False</td>\n",
       "      <td>False</td>\n",
       "      <td>False</td>\n",
       "      <td>False</td>\n",
       "      <td>False</td>\n",
       "      <td>False</td>\n",
       "      <td>False</td>\n",
       "      <td>False</td>\n",
       "      <td>False</td>\n",
       "      <td>False</td>\n",
       "      <td>...</td>\n",
       "      <td>False</td>\n",
       "      <td>False</td>\n",
       "      <td>False</td>\n",
       "      <td>False</td>\n",
       "      <td>False</td>\n",
       "      <td>False</td>\n",
       "      <td>False</td>\n",
       "      <td>False</td>\n",
       "      <td>False</td>\n",
       "      <td>False</td>\n",
       "    </tr>\n",
       "    <tr>\n",
       "      <th>1</th>\n",
       "      <td>False</td>\n",
       "      <td>False</td>\n",
       "      <td>False</td>\n",
       "      <td>False</td>\n",
       "      <td>False</td>\n",
       "      <td>False</td>\n",
       "      <td>False</td>\n",
       "      <td>False</td>\n",
       "      <td>False</td>\n",
       "      <td>False</td>\n",
       "      <td>...</td>\n",
       "      <td>False</td>\n",
       "      <td>False</td>\n",
       "      <td>False</td>\n",
       "      <td>False</td>\n",
       "      <td>False</td>\n",
       "      <td>False</td>\n",
       "      <td>False</td>\n",
       "      <td>False</td>\n",
       "      <td>False</td>\n",
       "      <td>False</td>\n",
       "    </tr>\n",
       "    <tr>\n",
       "      <th>2</th>\n",
       "      <td>False</td>\n",
       "      <td>False</td>\n",
       "      <td>False</td>\n",
       "      <td>False</td>\n",
       "      <td>False</td>\n",
       "      <td>False</td>\n",
       "      <td>False</td>\n",
       "      <td>False</td>\n",
       "      <td>False</td>\n",
       "      <td>False</td>\n",
       "      <td>...</td>\n",
       "      <td>False</td>\n",
       "      <td>False</td>\n",
       "      <td>False</td>\n",
       "      <td>False</td>\n",
       "      <td>False</td>\n",
       "      <td>False</td>\n",
       "      <td>False</td>\n",
       "      <td>False</td>\n",
       "      <td>False</td>\n",
       "      <td>False</td>\n",
       "    </tr>\n",
       "    <tr>\n",
       "      <th>3</th>\n",
       "      <td>False</td>\n",
       "      <td>False</td>\n",
       "      <td>False</td>\n",
       "      <td>False</td>\n",
       "      <td>False</td>\n",
       "      <td>False</td>\n",
       "      <td>False</td>\n",
       "      <td>False</td>\n",
       "      <td>False</td>\n",
       "      <td>False</td>\n",
       "      <td>...</td>\n",
       "      <td>False</td>\n",
       "      <td>False</td>\n",
       "      <td>False</td>\n",
       "      <td>False</td>\n",
       "      <td>False</td>\n",
       "      <td>False</td>\n",
       "      <td>False</td>\n",
       "      <td>False</td>\n",
       "      <td>False</td>\n",
       "      <td>False</td>\n",
       "    </tr>\n",
       "    <tr>\n",
       "      <th>4</th>\n",
       "      <td>False</td>\n",
       "      <td>False</td>\n",
       "      <td>False</td>\n",
       "      <td>False</td>\n",
       "      <td>False</td>\n",
       "      <td>False</td>\n",
       "      <td>False</td>\n",
       "      <td>False</td>\n",
       "      <td>False</td>\n",
       "      <td>False</td>\n",
       "      <td>...</td>\n",
       "      <td>False</td>\n",
       "      <td>False</td>\n",
       "      <td>False</td>\n",
       "      <td>False</td>\n",
       "      <td>False</td>\n",
       "      <td>False</td>\n",
       "      <td>False</td>\n",
       "      <td>False</td>\n",
       "      <td>False</td>\n",
       "      <td>False</td>\n",
       "    </tr>\n",
       "  </tbody>\n",
       "</table>\n",
       "<p>5 rows × 35 columns</p>\n",
       "</div>"
      ],
      "text/plain": [
       "   t_dat  customer_id  article_id  price  sales_channel_id  product_code  \\\n",
       "0  False        False       False  False             False         False   \n",
       "1  False        False       False  False             False         False   \n",
       "2  False        False       False  False             False         False   \n",
       "3  False        False       False  False             False         False   \n",
       "4  False        False       False  False             False         False   \n",
       "\n",
       "   prod_name  product_type_no  product_type_name  product_group_name  ...  \\\n",
       "0      False            False              False               False  ...   \n",
       "1      False            False              False               False  ...   \n",
       "2      False            False              False               False  ...   \n",
       "3      False            False              False               False  ...   \n",
       "4      False            False              False               False  ...   \n",
       "\n",
       "   section_name  garment_group_no  garment_group_name  detail_desc     FN  \\\n",
       "0         False             False               False        False  False   \n",
       "1         False             False               False        False  False   \n",
       "2         False             False               False        False  False   \n",
       "3         False             False               False        False  False   \n",
       "4         False             False               False        False  False   \n",
       "\n",
       "   Active  club_member_status  fashion_news_frequency    age  postal_code  \n",
       "0   False               False                   False  False        False  \n",
       "1   False               False                   False  False        False  \n",
       "2   False               False                   False  False        False  \n",
       "3   False               False                   False  False        False  \n",
       "4   False               False                   False  False        False  \n",
       "\n",
       "[5 rows x 35 columns]"
      ]
     },
     "execution_count": 11,
     "metadata": {},
     "output_type": "execute_result"
    }
   ],
   "source": [
    "df = pd.read_csv('./data/pandas_starter.csv')\n",
    "df.isna().head()"
   ]
  },
  {
   "cell_type": "markdown",
   "id": "899dd096-6b85-4ea9-9304-b61700d52175",
   "metadata": {},
   "source": [
    "通过使用`mean()`方法，我们可以计算出每列缺失值的比例，这有助于我们了解数据缺失的严重程度。"
   ]
  },
  {
   "cell_type": "code",
   "execution_count": 12,
   "id": "20c37196-d145-435f-b953-9afd5f2cc91d",
   "metadata": {},
   "outputs": [
    {
     "data": {
      "text/plain": [
       "t_dat                           0.000000\n",
       "customer_id                     0.000000\n",
       "article_id                      0.000000\n",
       "price                           0.000000\n",
       "sales_channel_id                0.000000\n",
       "product_code                    0.000000\n",
       "prod_name                       0.000000\n",
       "product_type_no                 0.000000\n",
       "product_type_name               0.000000\n",
       "product_group_name              0.000000\n",
       "graphical_appearance_no         0.000000\n",
       "graphical_appearance_name       0.000000\n",
       "colour_group_code               0.000000\n",
       "colour_group_name               0.000000\n",
       "perceived_colour_value_id       0.000000\n",
       "perceived_colour_value_name     0.000000\n",
       "perceived_colour_master_id      0.000000\n",
       "perceived_colour_master_name    0.000000\n",
       "department_no                   0.000000\n",
       "department_name                 0.000000\n",
       "index_code                      0.000000\n",
       "index_name                      0.000000\n",
       "index_group_no                  0.000000\n",
       "index_group_name                0.000000\n",
       "section_no                      0.000000\n",
       "section_name                    0.000000\n",
       "garment_group_no                0.000000\n",
       "garment_group_name              0.000000\n",
       "detail_desc                     0.003351\n",
       "FN                              0.343861\n",
       "Active                          0.343861\n",
       "club_member_status              0.000000\n",
       "fashion_news_frequency          0.000000\n",
       "age                             0.000000\n",
       "postal_code                     0.000000\n",
       "dtype: float64"
      ]
     },
     "execution_count": 12,
     "metadata": {},
     "output_type": "execute_result"
    }
   ],
   "source": [
    "df.isna().mean()"
   ]
  },
  {
   "cell_type": "markdown",
   "id": "1bb48558-46a9-4995-a16d-9908a5498d15",
   "metadata": {},
   "source": [
    "若要查看特定列（如`Active`）缺失或非缺失的行，可以使用布尔索引："
   ]
  },
  {
   "cell_type": "code",
   "execution_count": 13,
   "id": "478db81a-772d-40a2-8946-51eff9f1eb29",
   "metadata": {},
   "outputs": [
    {
     "data": {
      "text/plain": [
       "0        False\n",
       "1        False\n",
       "2        False\n",
       "3        False\n",
       "4        False\n",
       "         ...  \n",
       "50719    False\n",
       "50720    False\n",
       "50721    False\n",
       "50722    False\n",
       "50723    False\n",
       "Name: Active, Length: 50724, dtype: bool"
      ]
     },
     "execution_count": 13,
     "metadata": {},
     "output_type": "execute_result"
    }
   ],
   "source": [
    "df['Active'].isna()"
   ]
  },
  {
   "cell_type": "code",
   "execution_count": 16,
   "id": "221d3990-f5dd-4657-960a-352a28625a11",
   "metadata": {},
   "outputs": [
    {
     "data": {
      "text/html": [
       "<div>\n",
       "<style scoped>\n",
       "    .dataframe tbody tr th:only-of-type {\n",
       "        vertical-align: middle;\n",
       "    }\n",
       "\n",
       "    .dataframe tbody tr th {\n",
       "        vertical-align: top;\n",
       "    }\n",
       "\n",
       "    .dataframe thead th {\n",
       "        text-align: right;\n",
       "    }\n",
       "</style>\n",
       "<table border=\"1\" class=\"dataframe\">\n",
       "  <thead>\n",
       "    <tr style=\"text-align: right;\">\n",
       "      <th></th>\n",
       "      <th>Active</th>\n",
       "    </tr>\n",
       "  </thead>\n",
       "  <tbody>\n",
       "    <tr>\n",
       "      <th>14</th>\n",
       "      <td>NaN</td>\n",
       "    </tr>\n",
       "    <tr>\n",
       "      <th>15</th>\n",
       "      <td>NaN</td>\n",
       "    </tr>\n",
       "    <tr>\n",
       "      <th>16</th>\n",
       "      <td>NaN</td>\n",
       "    </tr>\n",
       "    <tr>\n",
       "      <th>17</th>\n",
       "      <td>NaN</td>\n",
       "    </tr>\n",
       "    <tr>\n",
       "      <th>18</th>\n",
       "      <td>NaN</td>\n",
       "    </tr>\n",
       "  </tbody>\n",
       "</table>\n",
       "</div>"
      ],
      "text/plain": [
       "    Active\n",
       "14     NaN\n",
       "15     NaN\n",
       "16     NaN\n",
       "17     NaN\n",
       "18     NaN"
      ]
     },
     "execution_count": 16,
     "metadata": {},
     "output_type": "execute_result"
    }
   ],
   "source": [
    "df.loc[df['Active'].isna(),['Active']].head()"
   ]
  },
  {
   "cell_type": "markdown",
   "id": "1337d36f-5efa-4c1a-bcf8-f56795621a8d",
   "metadata": {},
   "source": [
    "为了检索出在多个列中全部缺失、至少有一个缺失或没有缺失的行，可以结合使用`isna()`, `notna()`与`any()`, `all()`方法："
   ]
  },
  {
   "cell_type": "code",
   "execution_count": 18,
   "id": "748bc8a1-4d7e-4c69-81c5-3554ac6659ce",
   "metadata": {},
   "outputs": [
    {
     "data": {
      "text/html": [
       "<div>\n",
       "<style scoped>\n",
       "    .dataframe tbody tr th:only-of-type {\n",
       "        vertical-align: middle;\n",
       "    }\n",
       "\n",
       "    .dataframe tbody tr th {\n",
       "        vertical-align: top;\n",
       "    }\n",
       "\n",
       "    .dataframe thead th {\n",
       "        text-align: right;\n",
       "    }\n",
       "</style>\n",
       "<table border=\"1\" class=\"dataframe\">\n",
       "  <thead>\n",
       "    <tr style=\"text-align: right;\">\n",
       "      <th></th>\n",
       "      <th>Active</th>\n",
       "      <th>detail_desc</th>\n",
       "      <th>FN</th>\n",
       "    </tr>\n",
       "  </thead>\n",
       "  <tbody>\n",
       "    <tr>\n",
       "      <th>14</th>\n",
       "      <td>NaN</td>\n",
       "      <td>NaN</td>\n",
       "      <td>NaN</td>\n",
       "    </tr>\n",
       "    <tr>\n",
       "      <th>688</th>\n",
       "      <td>NaN</td>\n",
       "      <td>NaN</td>\n",
       "      <td>NaN</td>\n",
       "    </tr>\n",
       "    <tr>\n",
       "      <th>865</th>\n",
       "      <td>NaN</td>\n",
       "      <td>NaN</td>\n",
       "      <td>NaN</td>\n",
       "    </tr>\n",
       "    <tr>\n",
       "      <th>875</th>\n",
       "      <td>NaN</td>\n",
       "      <td>NaN</td>\n",
       "      <td>NaN</td>\n",
       "    </tr>\n",
       "    <tr>\n",
       "      <th>957</th>\n",
       "      <td>NaN</td>\n",
       "      <td>NaN</td>\n",
       "      <td>NaN</td>\n",
       "    </tr>\n",
       "    <tr>\n",
       "      <th>...</th>\n",
       "      <td>...</td>\n",
       "      <td>...</td>\n",
       "      <td>...</td>\n",
       "    </tr>\n",
       "    <tr>\n",
       "      <th>27714</th>\n",
       "      <td>NaN</td>\n",
       "      <td>NaN</td>\n",
       "      <td>NaN</td>\n",
       "    </tr>\n",
       "    <tr>\n",
       "      <th>27715</th>\n",
       "      <td>NaN</td>\n",
       "      <td>NaN</td>\n",
       "      <td>NaN</td>\n",
       "    </tr>\n",
       "    <tr>\n",
       "      <th>34505</th>\n",
       "      <td>NaN</td>\n",
       "      <td>NaN</td>\n",
       "      <td>NaN</td>\n",
       "    </tr>\n",
       "    <tr>\n",
       "      <th>36026</th>\n",
       "      <td>NaN</td>\n",
       "      <td>NaN</td>\n",
       "      <td>NaN</td>\n",
       "    </tr>\n",
       "    <tr>\n",
       "      <th>42553</th>\n",
       "      <td>NaN</td>\n",
       "      <td>NaN</td>\n",
       "      <td>NaN</td>\n",
       "    </tr>\n",
       "  </tbody>\n",
       "</table>\n",
       "<p>73 rows × 3 columns</p>\n",
       "</div>"
      ],
      "text/plain": [
       "       Active detail_desc  FN\n",
       "14        NaN         NaN NaN\n",
       "688       NaN         NaN NaN\n",
       "865       NaN         NaN NaN\n",
       "875       NaN         NaN NaN\n",
       "957       NaN         NaN NaN\n",
       "...       ...         ...  ..\n",
       "27714     NaN         NaN NaN\n",
       "27715     NaN         NaN NaN\n",
       "34505     NaN         NaN NaN\n",
       "36026     NaN         NaN NaN\n",
       "42553     NaN         NaN NaN\n",
       "\n",
       "[73 rows x 3 columns]"
      ]
     },
     "execution_count": 18,
     "metadata": {},
     "output_type": "execute_result"
    }
   ],
   "source": [
    "sub_set = df[['Active', 'detail_desc', 'FN']]\n",
    "df.loc[sub_set.isna().all(axis=1),['Active', 'detail_desc', 'FN']] # 全部缺失"
   ]
  },
  {
   "cell_type": "code",
   "execution_count": 19,
   "id": "f58f4ea8-e1fa-4c95-9191-7da269321738",
   "metadata": {},
   "outputs": [
    {
     "data": {
      "text/html": [
       "<div>\n",
       "<style scoped>\n",
       "    .dataframe tbody tr th:only-of-type {\n",
       "        vertical-align: middle;\n",
       "    }\n",
       "\n",
       "    .dataframe tbody tr th {\n",
       "        vertical-align: top;\n",
       "    }\n",
       "\n",
       "    .dataframe thead th {\n",
       "        text-align: right;\n",
       "    }\n",
       "</style>\n",
       "<table border=\"1\" class=\"dataframe\">\n",
       "  <thead>\n",
       "    <tr style=\"text-align: right;\">\n",
       "      <th></th>\n",
       "      <th>Active</th>\n",
       "      <th>detail_desc</th>\n",
       "      <th>FN</th>\n",
       "    </tr>\n",
       "  </thead>\n",
       "  <tbody>\n",
       "    <tr>\n",
       "      <th>14</th>\n",
       "      <td>NaN</td>\n",
       "      <td>NaN</td>\n",
       "      <td>NaN</td>\n",
       "    </tr>\n",
       "    <tr>\n",
       "      <th>15</th>\n",
       "      <td>NaN</td>\n",
       "      <td>Short-sleeved top in soft jersey made from a m...</td>\n",
       "      <td>NaN</td>\n",
       "    </tr>\n",
       "    <tr>\n",
       "      <th>16</th>\n",
       "      <td>NaN</td>\n",
       "      <td>5-pocket ankle-length jeans in washed stretch ...</td>\n",
       "      <td>NaN</td>\n",
       "    </tr>\n",
       "    <tr>\n",
       "      <th>17</th>\n",
       "      <td>NaN</td>\n",
       "      <td>Satin blouse with a boat neck, yoke with decor...</td>\n",
       "      <td>NaN</td>\n",
       "    </tr>\n",
       "    <tr>\n",
       "      <th>18</th>\n",
       "      <td>NaN</td>\n",
       "      <td>5-pocket ankle-length jeans in washed stretch ...</td>\n",
       "      <td>NaN</td>\n",
       "    </tr>\n",
       "  </tbody>\n",
       "</table>\n",
       "</div>"
      ],
      "text/plain": [
       "    Active                                        detail_desc  FN\n",
       "14     NaN                                                NaN NaN\n",
       "15     NaN  Short-sleeved top in soft jersey made from a m... NaN\n",
       "16     NaN  5-pocket ankle-length jeans in washed stretch ... NaN\n",
       "17     NaN  Satin blouse with a boat neck, yoke with decor... NaN\n",
       "18     NaN  5-pocket ankle-length jeans in washed stretch ... NaN"
      ]
     },
     "execution_count": 19,
     "metadata": {},
     "output_type": "execute_result"
    }
   ],
   "source": [
    "df.loc[sub_set.isna().any(axis=1),['Active', 'detail_desc', 'FN']].head() # 至少有一个缺失"
   ]
  },
  {
   "cell_type": "code",
   "execution_count": 20,
   "id": "9b958a7d-66e0-421a-9b6f-f17c434bea37",
   "metadata": {},
   "outputs": [
    {
     "data": {
      "text/html": [
       "<div>\n",
       "<style scoped>\n",
       "    .dataframe tbody tr th:only-of-type {\n",
       "        vertical-align: middle;\n",
       "    }\n",
       "\n",
       "    .dataframe tbody tr th {\n",
       "        vertical-align: top;\n",
       "    }\n",
       "\n",
       "    .dataframe thead th {\n",
       "        text-align: right;\n",
       "    }\n",
       "</style>\n",
       "<table border=\"1\" class=\"dataframe\">\n",
       "  <thead>\n",
       "    <tr style=\"text-align: right;\">\n",
       "      <th></th>\n",
       "      <th>t_dat</th>\n",
       "      <th>customer_id</th>\n",
       "      <th>article_id</th>\n",
       "      <th>price</th>\n",
       "      <th>sales_channel_id</th>\n",
       "      <th>product_code</th>\n",
       "      <th>prod_name</th>\n",
       "      <th>product_type_no</th>\n",
       "      <th>product_type_name</th>\n",
       "      <th>product_group_name</th>\n",
       "      <th>...</th>\n",
       "      <th>section_name</th>\n",
       "      <th>garment_group_no</th>\n",
       "      <th>garment_group_name</th>\n",
       "      <th>detail_desc</th>\n",
       "      <th>FN</th>\n",
       "      <th>Active</th>\n",
       "      <th>club_member_status</th>\n",
       "      <th>fashion_news_frequency</th>\n",
       "      <th>age</th>\n",
       "      <th>postal_code</th>\n",
       "    </tr>\n",
       "  </thead>\n",
       "  <tbody>\n",
       "    <tr>\n",
       "      <th>0</th>\n",
       "      <td>2018-09-20</td>\n",
       "      <td>03d0011487606c37c1b1ed147fc72f285a50c05f00b971...</td>\n",
       "      <td>668766002</td>\n",
       "      <td>0.042356</td>\n",
       "      <td>2</td>\n",
       "      <td>668766</td>\n",
       "      <td>Roger</td>\n",
       "      <td>258</td>\n",
       "      <td>Blouse</td>\n",
       "      <td>Garment Upper body</td>\n",
       "      <td>...</td>\n",
       "      <td>Womens Casual</td>\n",
       "      <td>1010</td>\n",
       "      <td>Blouses</td>\n",
       "      <td>Blouse in an airy modal and cotton weave with ...</td>\n",
       "      <td>1.0</td>\n",
       "      <td>1.0</td>\n",
       "      <td>ACTIVE</td>\n",
       "      <td>Regularly</td>\n",
       "      <td>51.0</td>\n",
       "      <td>8db52856d17c197683efbc9d5ef2dc873aaf7062486b2d...</td>\n",
       "    </tr>\n",
       "    <tr>\n",
       "      <th>1</th>\n",
       "      <td>2018-09-20</td>\n",
       "      <td>03d0011487606c37c1b1ed147fc72f285a50c05f00b971...</td>\n",
       "      <td>652946001</td>\n",
       "      <td>0.050831</td>\n",
       "      <td>2</td>\n",
       "      <td>652946</td>\n",
       "      <td>&amp;DENIM Bootcut RW Speed</td>\n",
       "      <td>272</td>\n",
       "      <td>Trousers</td>\n",
       "      <td>Garment Lower body</td>\n",
       "      <td>...</td>\n",
       "      <td>Ladies Denim</td>\n",
       "      <td>1016</td>\n",
       "      <td>Trousers Denim</td>\n",
       "      <td>5-pocket jeans in washed stretch denim with a ...</td>\n",
       "      <td>1.0</td>\n",
       "      <td>1.0</td>\n",
       "      <td>ACTIVE</td>\n",
       "      <td>Regularly</td>\n",
       "      <td>51.0</td>\n",
       "      <td>8db52856d17c197683efbc9d5ef2dc873aaf7062486b2d...</td>\n",
       "    </tr>\n",
       "    <tr>\n",
       "      <th>2</th>\n",
       "      <td>2018-09-20</td>\n",
       "      <td>03d0011487606c37c1b1ed147fc72f285a50c05f00b971...</td>\n",
       "      <td>691275008</td>\n",
       "      <td>0.067780</td>\n",
       "      <td>2</td>\n",
       "      <td>691275</td>\n",
       "      <td>Waves blouse</td>\n",
       "      <td>258</td>\n",
       "      <td>Blouse</td>\n",
       "      <td>Garment Upper body</td>\n",
       "      <td>...</td>\n",
       "      <td>Womens Trend</td>\n",
       "      <td>1010</td>\n",
       "      <td>Blouses</td>\n",
       "      <td>Blouse in an airy jacquard weave with a small,...</td>\n",
       "      <td>1.0</td>\n",
       "      <td>1.0</td>\n",
       "      <td>ACTIVE</td>\n",
       "      <td>Regularly</td>\n",
       "      <td>51.0</td>\n",
       "      <td>8db52856d17c197683efbc9d5ef2dc873aaf7062486b2d...</td>\n",
       "    </tr>\n",
       "    <tr>\n",
       "      <th>3</th>\n",
       "      <td>2018-09-20</td>\n",
       "      <td>1320d4b3dd6481cde05bb80fb7ca37397f70470b9afb96...</td>\n",
       "      <td>501820043</td>\n",
       "      <td>0.016932</td>\n",
       "      <td>2</td>\n",
       "      <td>501820</td>\n",
       "      <td>SIRPA</td>\n",
       "      <td>252</td>\n",
       "      <td>Sweater</td>\n",
       "      <td>Garment Upper body</td>\n",
       "      <td>...</td>\n",
       "      <td>Divided Collection</td>\n",
       "      <td>1003</td>\n",
       "      <td>Knitwear</td>\n",
       "      <td>Jumper in a soft knit with a slightly wider ne...</td>\n",
       "      <td>1.0</td>\n",
       "      <td>1.0</td>\n",
       "      <td>ACTIVE</td>\n",
       "      <td>Regularly</td>\n",
       "      <td>54.0</td>\n",
       "      <td>da2dffc9d9cb6a1449dae3835ecb74cdf826ba152df3a0...</td>\n",
       "    </tr>\n",
       "    <tr>\n",
       "      <th>4</th>\n",
       "      <td>2018-09-20</td>\n",
       "      <td>1320d4b3dd6481cde05bb80fb7ca37397f70470b9afb96...</td>\n",
       "      <td>501820043</td>\n",
       "      <td>0.016932</td>\n",
       "      <td>2</td>\n",
       "      <td>501820</td>\n",
       "      <td>SIRPA</td>\n",
       "      <td>252</td>\n",
       "      <td>Sweater</td>\n",
       "      <td>Garment Upper body</td>\n",
       "      <td>...</td>\n",
       "      <td>Divided Collection</td>\n",
       "      <td>1003</td>\n",
       "      <td>Knitwear</td>\n",
       "      <td>Jumper in a soft knit with a slightly wider ne...</td>\n",
       "      <td>1.0</td>\n",
       "      <td>1.0</td>\n",
       "      <td>ACTIVE</td>\n",
       "      <td>Regularly</td>\n",
       "      <td>54.0</td>\n",
       "      <td>da2dffc9d9cb6a1449dae3835ecb74cdf826ba152df3a0...</td>\n",
       "    </tr>\n",
       "  </tbody>\n",
       "</table>\n",
       "<p>5 rows × 35 columns</p>\n",
       "</div>"
      ],
      "text/plain": [
       "        t_dat                                        customer_id  article_id  \\\n",
       "0  2018-09-20  03d0011487606c37c1b1ed147fc72f285a50c05f00b971...   668766002   \n",
       "1  2018-09-20  03d0011487606c37c1b1ed147fc72f285a50c05f00b971...   652946001   \n",
       "2  2018-09-20  03d0011487606c37c1b1ed147fc72f285a50c05f00b971...   691275008   \n",
       "3  2018-09-20  1320d4b3dd6481cde05bb80fb7ca37397f70470b9afb96...   501820043   \n",
       "4  2018-09-20  1320d4b3dd6481cde05bb80fb7ca37397f70470b9afb96...   501820043   \n",
       "\n",
       "      price  sales_channel_id  product_code                prod_name  \\\n",
       "0  0.042356                 2        668766                    Roger   \n",
       "1  0.050831                 2        652946  &DENIM Bootcut RW Speed   \n",
       "2  0.067780                 2        691275             Waves blouse   \n",
       "3  0.016932                 2        501820                    SIRPA   \n",
       "4  0.016932                 2        501820                    SIRPA   \n",
       "\n",
       "   product_type_no product_type_name  product_group_name  ...  \\\n",
       "0              258            Blouse  Garment Upper body  ...   \n",
       "1              272          Trousers  Garment Lower body  ...   \n",
       "2              258            Blouse  Garment Upper body  ...   \n",
       "3              252           Sweater  Garment Upper body  ...   \n",
       "4              252           Sweater  Garment Upper body  ...   \n",
       "\n",
       "         section_name garment_group_no  garment_group_name  \\\n",
       "0       Womens Casual             1010             Blouses   \n",
       "1        Ladies Denim             1016      Trousers Denim   \n",
       "2        Womens Trend             1010             Blouses   \n",
       "3  Divided Collection             1003            Knitwear   \n",
       "4  Divided Collection             1003            Knitwear   \n",
       "\n",
       "                                         detail_desc   FN Active  \\\n",
       "0  Blouse in an airy modal and cotton weave with ...  1.0    1.0   \n",
       "1  5-pocket jeans in washed stretch denim with a ...  1.0    1.0   \n",
       "2  Blouse in an airy jacquard weave with a small,...  1.0    1.0   \n",
       "3  Jumper in a soft knit with a slightly wider ne...  1.0    1.0   \n",
       "4  Jumper in a soft knit with a slightly wider ne...  1.0    1.0   \n",
       "\n",
       "   club_member_status fashion_news_frequency   age  \\\n",
       "0              ACTIVE              Regularly  51.0   \n",
       "1              ACTIVE              Regularly  51.0   \n",
       "2              ACTIVE              Regularly  51.0   \n",
       "3              ACTIVE              Regularly  54.0   \n",
       "4              ACTIVE              Regularly  54.0   \n",
       "\n",
       "                                         postal_code  \n",
       "0  8db52856d17c197683efbc9d5ef2dc873aaf7062486b2d...  \n",
       "1  8db52856d17c197683efbc9d5ef2dc873aaf7062486b2d...  \n",
       "2  8db52856d17c197683efbc9d5ef2dc873aaf7062486b2d...  \n",
       "3  da2dffc9d9cb6a1449dae3835ecb74cdf826ba152df3a0...  \n",
       "4  da2dffc9d9cb6a1449dae3835ecb74cdf826ba152df3a0...  \n",
       "\n",
       "[5 rows x 35 columns]"
      ]
     },
     "execution_count": 20,
     "metadata": {},
     "output_type": "execute_result"
    }
   ],
   "source": [
    "df[sub_set.notna().all(axis=1)].head() # 没有缺失"
   ]
  },
  {
   "cell_type": "markdown",
   "id": "ece34634-752a-4232-b144-62bb55ca919f",
   "metadata": {},
   "source": [
    "### 缺失信息的删除\n",
    "\n",
    "在某些情况下，我们可能会选择删除包含缺失值的行或列。Pandas提供了`dropna()`方法来进行这样的操作。这个方法可以基于不同的标准来删除含有缺失值的行或列。\n",
    "\n",
    "例如，删除`FN`或`Active`至少有一个缺失的行："
   ]
  },
  {
   "cell_type": "code",
   "execution_count": 23,
   "id": "432974e8-b61b-4e37-847f-f63f0710de0a",
   "metadata": {},
   "outputs": [
    {
     "data": {
      "text/plain": [
       "((33282, 35), (50724, 35))"
      ]
     },
     "execution_count": 23,
     "metadata": {},
     "output_type": "execute_result"
    }
   ],
   "source": [
    "res = df.dropna(how='all', subset=['FN', 'Active'])\n",
    "res.shape,df.shape"
   ]
  },
  {
   "cell_type": "markdown",
   "id": "a7cf3a77-bb0a-4d03-8531-a445166abfb7",
   "metadata": {},
   "source": [
    "## 缺失值的填充和插值\n",
    "\n",
    "### 利用fillna进行填充\n",
    "\n",
    "`fillna()`方法可以用来填充缺失值。这个方法的常用参数包括：`value`（填充值），`method`（填充方法，如`ffill`表示前向填充，`bfill`表示后向填充），以及`limit`（连续缺失值的最大填充次数）。\n",
    "\n",
    "下面是使用`fillna()`的一些例子："
   ]
  },
  {
   "cell_type": "code",
   "execution_count": 24,
   "id": "4af60fac-82fb-4a2d-836d-611a6bded62c",
   "metadata": {},
   "outputs": [
    {
     "data": {
      "text/plain": [
       "a    NaN\n",
       "a    1.0\n",
       "a    NaN\n",
       "b    NaN\n",
       "c    2.0\n",
       "d    NaN\n",
       "dtype: float64"
      ]
     },
     "execution_count": 24,
     "metadata": {},
     "output_type": "execute_result"
    }
   ],
   "source": [
    "s = pd.Series([np.nan, 1, np.nan, np.nan, 2, np.nan], list('aaabcd'))\n",
    "s"
   ]
  },
  {
   "cell_type": "code",
   "execution_count": 25,
   "id": "b6ad9b70-5345-4e02-92f7-6810d39fd1ce",
   "metadata": {},
   "outputs": [
    {
     "data": {
      "text/plain": [
       "a    NaN\n",
       "a    1.0\n",
       "a    1.0\n",
       "b    1.0\n",
       "c    2.0\n",
       "d    2.0\n",
       "dtype: float64"
      ]
     },
     "execution_count": 25,
     "metadata": {},
     "output_type": "execute_result"
    }
   ],
   "source": [
    "s.fillna(method='ffill') # 用前面的值向后填充"
   ]
  },
  {
   "cell_type": "code",
   "execution_count": 26,
   "id": "78ebcf4b-f063-406e-a43e-6ac505465d41",
   "metadata": {},
   "outputs": [
    {
     "data": {
      "text/plain": [
       "a    NaN\n",
       "a    1.0\n",
       "a    1.0\n",
       "b    NaN\n",
       "c    2.0\n",
       "d    2.0\n",
       "dtype: float64"
      ]
     },
     "execution_count": 26,
     "metadata": {},
     "output_type": "execute_result"
    }
   ],
   "source": [
    "s.fillna(method='ffill', limit=1) # 连续出现的缺失，最多填充一次"
   ]
  },
  {
   "cell_type": "code",
   "execution_count": 27,
   "id": "5058ee4a-2e99-46c8-9c56-8f46dcd72e85",
   "metadata": {},
   "outputs": [
    {
     "data": {
      "text/plain": [
       "a    1.5\n",
       "a    1.0\n",
       "a    1.5\n",
       "b    1.5\n",
       "c    2.0\n",
       "d    1.5\n",
       "dtype: float64"
      ]
     },
     "execution_count": 27,
     "metadata": {},
     "output_type": "execute_result"
    }
   ],
   "source": [
    "s.fillna(s.mean()) # 用平均值填充"
   ]
  },
  {
   "cell_type": "code",
   "execution_count": 28,
   "id": "7040018e-0b20-435c-9cd3-e4b4eb740aa2",
   "metadata": {},
   "outputs": [
    {
     "data": {
      "text/plain": [
       "a    0.0\n",
       "a    1.0\n",
       "a    0.0\n",
       "b    0.0\n",
       "c    2.0\n",
       "d    0.0\n",
       "dtype: float64"
      ]
     },
     "execution_count": 28,
     "metadata": {},
     "output_type": "execute_result"
    }
   ],
   "source": [
    "s.fillna(0) # 用0填充"
   ]
  },
  {
   "cell_type": "code",
   "execution_count": 29,
   "id": "846145fa-05ce-4b68-94cd-b58eb252fa83",
   "metadata": {},
   "outputs": [
    {
     "data": {
      "text/plain": [
       "a    100.0\n",
       "a      1.0\n",
       "a    100.0\n",
       "b      NaN\n",
       "c      2.0\n",
       "d    200.0\n",
       "dtype: float64"
      ]
     },
     "execution_count": 29,
     "metadata": {},
     "output_type": "execute_result"
    }
   ],
   "source": [
    "s.fillna({'a': 100, 'd': 200}) # 通过索引映射填充的值"
   ]
  },
  {
   "cell_type": "markdown",
   "id": "0b6fa4de-f6ea-4b79-b30e-0caa20f4bb43",
   "metadata": {},
   "source": [
    "### 插值函数\n",
    "\n",
    "#### 插值的基本概念\n",
    "\n",
    "插值是一种数学方法，用于估算给定数据集中缺失值的过程。在`pandas`中，`interpolate`函数是处理缺失数据的强大工具，它支持多种插值方法。插值的核心思想是利用已知点之间的关系来估计未知点的值。\n",
    "\n",
    "#### 常用的插值方法\n",
    "\n",
    "1. **线性插值**：这是最常见的插值方法，简单且应用广泛。它假设两个已知点之间的值变化是线性的，即直线形式。在两个已知点之间，缺失的值将通过直线上的相应点来估计。\n",
    "2. **最近邻插值**：这种方法将缺失值替换为距离最近的非缺失值。它不考虑周围值的模式或趋势，只是简单地“复制”最接近的有效数据。\n",
    "3. **索引插值**：这种方法在插值时考虑索引的大小。它适用于索引本身就是有意义的数据，如时间序列数据。在这种情况下，插值不仅仅是基于数值的顺序，还考虑了索引值的变化。\n",
    "\n",
    "#### 插值的实际应用\n",
    "\n",
    "让我们通过一些具体的例子来理解这些插值方法的运行原理。\n",
    "\n",
    "**线性插值示例**："
   ]
  },
  {
   "cell_type": "code",
   "execution_count": 30,
   "id": "46e255cc-f11e-46a2-8059-769301a99c6b",
   "metadata": {},
   "outputs": [
    {
     "data": {
      "text/plain": [
       "0     1.0\n",
       "1     NaN\n",
       "2     NaN\n",
       "3    10.0\n",
       "dtype: float64"
      ]
     },
     "execution_count": 30,
     "metadata": {},
     "output_type": "execute_result"
    }
   ],
   "source": [
    "s = pd.Series([1, np.nan, np.nan, 10])\n",
    "s"
   ]
  },
  {
   "cell_type": "code",
   "execution_count": 31,
   "id": "a550e52d-cf42-409e-9214-4c3dbabd8e9c",
   "metadata": {},
   "outputs": [
    {
     "data": {
      "text/plain": [
       "0     1.0\n",
       "1     4.0\n",
       "2     7.0\n",
       "3    10.0\n",
       "dtype: float64"
      ]
     },
     "execution_count": 31,
     "metadata": {},
     "output_type": "execute_result"
    }
   ],
   "source": [
    "s.interpolate()"
   ]
  },
  {
   "cell_type": "markdown",
   "id": "881d2dc9-3681-4ab5-976f-4daac8509ec1",
   "metadata": {},
   "source": [
    "这里，我们有一个简单的序列，其中包含两个缺失值。使用线性插值，`pandas`会计算1和10之间的线性路径，并据此估计中间的缺失值。结果将是在1和10之间等间隔的数值。"
   ]
  },
  {
   "cell_type": "markdown",
   "id": "48dafb54-e29e-4b67-8b63-89951cc4e64d",
   "metadata": {},
   "source": [
    "**最近邻插值示例**："
   ]
  },
  {
   "cell_type": "code",
   "execution_count": 32,
   "id": "1b538e4d-dd4f-40c2-b3d8-803ba61efdda",
   "metadata": {},
   "outputs": [
    {
     "data": {
      "text/plain": [
       "0     1.0\n",
       "1     1.0\n",
       "2    10.0\n",
       "3    10.0\n",
       "dtype: float64"
      ]
     },
     "execution_count": 32,
     "metadata": {},
     "output_type": "execute_result"
    }
   ],
   "source": [
    "s.interpolate(method='nearest')"
   ]
  },
  {
   "cell_type": "markdown",
   "id": "da55ac19-90c8-4337-b15e-1990f5a89a3e",
   "metadata": {},
   "source": [
    "在这个例子中，缺失值将被最近的有效值替换。第一个缺失值靠近1，因此会被填充为1；第二个缺失值同样会被替换为1，因为它离1更近。\n",
    "\n",
    "**索引插值示例**："
   ]
  },
  {
   "cell_type": "code",
   "execution_count": 34,
   "id": "a4911fb0-648e-4ba7-9837-1cd21866ef88",
   "metadata": {},
   "outputs": [
    {
     "data": {
      "text/plain": [
       "0       0.0\n",
       "1       NaN\n",
       "10    100.0\n",
       "dtype: float64"
      ]
     },
     "execution_count": 34,
     "metadata": {},
     "output_type": "execute_result"
    }
   ],
   "source": [
    "s = pd.Series([0, np.nan, 100], index=[0, 1, 10])\n",
    "s"
   ]
  },
  {
   "cell_type": "code",
   "execution_count": 35,
   "id": "205b76ec-1328-42b4-9284-b48c0e72105a",
   "metadata": {},
   "outputs": [
    {
     "data": {
      "text/plain": [
       "0       0.0\n",
       "1      10.0\n",
       "10    100.0\n",
       "dtype: float64"
      ]
     },
     "execution_count": 35,
     "metadata": {},
     "output_type": "execute_result"
    }
   ],
   "source": [
    "s.interpolate(method='index')"
   ]
  },
  {
   "cell_type": "markdown",
   "id": "6632dbaf-3bfc-4b6f-96ab-389ac39b4e18",
   "metadata": {},
   "source": [
    "在这里，我们的索引是0、1和10。索引插值会根据索引的比例来确定缺失值。由于索引1在0和10之间，插值后的值将接近0。"
   ]
  },
  {
   "cell_type": "code",
   "execution_count": null,
   "id": "535651b5-07dc-4f33-b119-bde13550a96f",
   "metadata": {},
   "outputs": [],
   "source": []
  }
 ],
 "metadata": {
  "kernelspec": {
   "display_name": "Python 3 (ipykernel)",
   "language": "python",
   "name": "python3"
  },
  "language_info": {
   "codemirror_mode": {
    "name": "ipython",
    "version": 3
   },
   "file_extension": ".py",
   "mimetype": "text/x-python",
   "name": "python",
   "nbconvert_exporter": "python",
   "pygments_lexer": "ipython3",
   "version": "3.9.18"
  }
 },
 "nbformat": 4,
 "nbformat_minor": 5
}
