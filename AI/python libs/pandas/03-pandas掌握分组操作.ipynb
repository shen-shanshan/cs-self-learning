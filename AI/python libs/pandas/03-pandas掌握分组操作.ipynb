{
 "cells": [
  {
   "cell_type": "markdown",
   "id": "712fa414-dcf6-4b7f-afe5-e9b492031a5b",
   "metadata": {
    "editable": true,
    "slideshow": {
     "slide_type": ""
    },
    "tags": []
   },
   "source": [
    "# pandas中的分组操作\n",
    "在数据分析中，分组操作是一种强大的数据摘要工具。通过分组，我们能够对数据集进行分类汇总和分析，这有助于我们理解数据的内在模式和关系。pandas提供的`groupby`功能是进行分组操作的核心。在本教程中，我们将深入探讨如何在pandas中使用分组，包括基本的分组操作、多重分组、以及如何使用聚合函数来提取分组后的统计信息。"
   ]
  },
  {
   "cell_type": "markdown",
   "id": "42712855-5b1d-4771-b4d6-785d046bc239",
   "metadata": {},
   "source": [
    "### 分组操作的基本概念\n",
    "\n",
    "在数据分析中，分组是一种非常重要的操作，它允许我们按照某些共同特征将数据划分为多个子集，并对每个子集执行特定的统计或计算操作。这种方法在各种数据分析任务中都非常常见，例如：\n",
    "\n",
    "- 根据**地区**分组，然后计算每个地区的**销售总额**。\n",
    "- 根据**品牌**分组，然后分析每个品牌的**市场份额**。\n",
    "- 根据**客户等级**分组，确定不同等级客户的**平均消费额**。\n",
    "\n",
    "这些场景说明了分组操作的一般模式，涉及到三个核心部分：**分组依据**（对哪个特征进行分组）、**数据来源**（要对哪些数据进行操作）、**操作及其返回结果**（要执行什么样的计算或统计任务）。\n",
    "\n",
    "在 Pandas 中，分组操作通常遵循以下模式：\n",
    "\n",
    "```\n",
    "df.groupby(分组依据)[数据来源].操作()\n",
    "```\n",
    "\n",
    "如果我们有一个关于H&M客户的数据集，并想要按照用户ID统计每个用户的消费总金额，代码如下："
   ]
  },
  {
   "cell_type": "code",
   "execution_count": 6,
   "id": "15377af4-bbd1-4259-9ad5-85b97a15f1e6",
   "metadata": {},
   "outputs": [
    {
     "data": {
      "text/plain": [
       "customer_id\n",
       "03d0011487606c37c1b1ed147fc72f285a50c05f00b9712e0fc3da400c864296    49.967169\n",
       "0bf4c6fd4e9d33f9bfb807bb78348cbf5c565846ff4006acf5c1b9aea77b0e54    30.655322\n",
       "0d4fb6fb46dfe2759bcf7bc80340e8915b207aa2f74b5b3c76f74d3ce28359e8    24.071203\n",
       "1320d4b3dd6481cde05bb80fb7ca37397f70470b9afb96aeca5d41175acaf836    38.350017\n",
       "157eee38676eebb003bf97407f26e369de192997ab3902c194ce2690f060ff50    28.113153\n",
       "15a075c3ea7b76dc31971a496c0d4b1f5f30170355eff7cedd4f4234c8c9402c    19.975017\n",
       "1df07f916d7f648458702bd0b612caee88f1fb4cd1b660fc79ca0c99d27b1293    26.836746\n",
       "1f09f1593c106b2b171e201a79e922f83ddacfdb690a0d8d382c2b7d03d0a5cb    19.664441\n",
       "26fbbc7fb66c96e4d7984443dffa6779b9ac1e7f9c59c3207a24eacdd74e0891    24.319847\n",
       "2df54f0d0653811fe06479c93905f3e6ecc6d07edf39d8b56e5b66c86182bedf    24.152373\n",
       "30d1e9b6378a74a740f64c3d34f1686693d0430b03c6cd602d58062e604373d0    34.289932\n",
       "3493c55a7fe252c84a9a03db338f5be7afbce1edbca12f3a908fac9b983692f2    16.290254\n",
       "4308983955108b3af43ec57f0557211e44462a5633238351fff14c8b51f16093    22.431644\n",
       "49beaacac0c7801c2ce2d189efe525fe80b5d37e46ed05b50a4cd88e34d0748f    30.126814\n",
       "55d15396193dfd45836af3a6269a079efea339e875eff42cc0c228b002548a9d    38.234102\n",
       "67931690bdf18d2e328854ae772cd5ce2505fdc11164693998b13e706db0bb56    26.698339\n",
       "6881f635c5be0550646522a81a07d942ee71fcf603397d7908b76b1df2298745    34.583746\n",
       "689f4eda82fdf3d9bfe8e524bbd0d931c4d7690f2234d3e48779f924aaf4103d    31.282153\n",
       "6980555e2eaa19a3f9f8df02e983a8e50abddf6e49cc6310ee45cce60284b62f    35.858695\n",
       "6cc121e5cc202d2bf344ffe795002bdbf87178054bcda2e57161f0ef810a4b55    47.247797\n",
       "716d31c400d20613322bf8a2ddfc621604ea9756c054de47e8220d2ad94f5e78    28.224407\n",
       "77db96923d20d40532eba0020b55cd91eb51358885c2d698a2805e79481f64a1    40.794898\n",
       "7f0ac4394297dc4a885d3b9277ba526cbbfbf7fb7cae465b256ed8e55b864f03    33.350831\n",
       "82a2b96739347895758330d4d1001ab5abbbad43c7bbfb31eef08ef25b52f366    33.720254\n",
       "84c34f4f564db1f437943c77af41f83bf6fd7c01701cbb050070369176905712    35.433966\n",
       "863f0e03da282ae32a76775ce55d8a4605a85c84a26066e1ad0e9469e8c40e68    41.414102\n",
       "898ede9fb639eb2aedb2d1d433eea958817e2bbb9f94524b3a0709af6fb5257e    32.422729\n",
       "8df45859ccd71ef1e48e2ee9d1c65d5728c31c46ae957d659fa4e5c3af6cc076    39.759712\n",
       "9478a9e051336b0373b07172ef96ed923cb50e0d54a7e3998250c9f5ccad2382    16.814220\n",
       "950159306933d969b06b43f21a92a29fd37ed81ed8786af2dee5f6a22f8b553c    27.552559\n",
       "a65f77281a528bf5c1e9f270141d601d116e1df33bf9df512f495ee06647a9cc    50.921186\n",
       "a76cf5ea515d09f22b7fe3e8ea3c1944316bd6264a90e26cef126242ef3c5e11    26.419729\n",
       "ac078972395fc6edd27d6db647ec2fcf149cefd4c2fae6b5076a9fa7d2124406    16.958746\n",
       "ae414fa70eb3c2ae0ec1640bbdf588531c8d034dfc5c06000e19601be6cd34fd    22.616153\n",
       "b14bfba3ae0da5af6e9711059773acf713cd7bb9a2c940ddf570affb715988a0    20.144186\n",
       "b4db5e5259234574edfff958e170fe3a5e13b6f146752ca066abca3c156acc71    47.662000\n",
       "be1981ab818cf4ef6765b2ecaea7a2cbf14ccd6e8a7ee985513d9e8e53c6d91b    57.676407\n",
       "c140410d72a41ee5e2e3ba3d7f5a860f337f1b5e41c27cf9bda5517c8774f8fa    34.510153\n",
       "c3bbcf0011725dd1012eef2f6f16e28bc3d0eb2b25a4b7c9f4f98cf97821d83d    27.609169\n",
       "cd04ec2726dd58a8c753e0d6423e57716fd9ebcf2f14ed6012e7e5bea016b4d6    41.327051\n",
       "d80ed4ababfa96812e22b911629e6bcbf5093769051ea447e2b696ac98a3dae9    39.821627\n",
       "da4991d090dbc1bc54c0538104ef2d5dc46ac40b2b0764294a2f7465c586dc5a    26.384203\n",
       "e238725cbff3774b711407cc000f42c0ddabf6b07eb0e311ffb5fc72e862a34b    37.145966\n",
       "e34f8aa5e7c8c258523ea3e5f5f13168b6c21a9e8bffccd515dd5cef56126efb    21.797542\n",
       "e55d5ddb3a0c3fb1b4df8edbf526ba12989ab2a852c72774e3f3338cbbb3335e    27.052932\n",
       "e6498c7514c61d3c24669f49753dc83fdff3ec1ba13902dd9184c959d8f0b249    26.234492\n",
       "e7c0ff2f724293c09bf3ba498c8c49b001040374fab1cdf2d6fe6017de089eba    21.375458\n",
       "e97c3a6c680cd3569df10f901a61fdffaf8f70300f6adf6e266b80c87d54245a    41.482051\n",
       "efaafb08a00e63ce561a67c31c1ab7e720d4f394a78c4705518dc02084a29172    34.191458\n",
       "f137c16fd175271922dad4006565503952f24750a57388fe24970a218c62de6a    41.688661\n",
       "Name: price, dtype: float64"
      ]
     },
     "execution_count": 6,
     "metadata": {},
     "output_type": "execute_result"
    }
   ],
   "source": [
    "import numpy as np\n",
    "import pandas as pd\n",
    "\n",
    "df = pd.read_csv('./data/pandas_starter.csv')\n",
    "df.groupby('customer_id')['price'].sum()"
   ]
  },
  {
   "cell_type": "markdown",
   "id": "8aa8fa85-fa51-4e5f-b232-8527a5b9809e",
   "metadata": {},
   "source": [
    "### 分组依据的本质\n",
    "前面提到的若干例子都是以单一维度进行分组的，比如根据`customer_id`，如果现在需要根据多个维度进行分组，该如何做？事实上，只需在`groupby`中传入相应列名构成的列表即可。例如，现希望根据`customer_id`和`sales_channel_id`进行分组，统计`price`的均值就可以如下写出："
   ]
  },
  {
   "cell_type": "code",
   "execution_count": 7,
   "id": "b538498c-4f07-4615-bfb4-9988a8f9fcce",
   "metadata": {},
   "outputs": [
    {
     "data": {
      "text/plain": [
       "customer_id                                                       sales_channel_id\n",
       "03d0011487606c37c1b1ed147fc72f285a50c05f00b9712e0fc3da400c864296  1                    1.549780\n",
       "                                                                  2                   48.417390\n",
       "0bf4c6fd4e9d33f9bfb807bb78348cbf5c565846ff4006acf5c1b9aea77b0e54  1                    0.264237\n",
       "                                                                  2                   30.391085\n",
       "0d4fb6fb46dfe2759bcf7bc80340e8915b207aa2f74b5b3c76f74d3ce28359e8  1                    4.772763\n",
       "                                                                                        ...    \n",
       "e97c3a6c680cd3569df10f901a61fdffaf8f70300f6adf6e266b80c87d54245a  1                    5.707610\n",
       "                                                                  2                   35.774441\n",
       "efaafb08a00e63ce561a67c31c1ab7e720d4f394a78c4705518dc02084a29172  1                    4.512847\n",
       "                                                                  2                   29.678610\n",
       "f137c16fd175271922dad4006565503952f24750a57388fe24970a218c62de6a  2                   41.688661\n",
       "Name: price, Length: 88, dtype: float64"
      ]
     },
     "execution_count": 7,
     "metadata": {},
     "output_type": "execute_result"
    }
   ],
   "source": [
    "df.groupby(['customer_id', 'sales_channel_id'])['price'].sum()"
   ]
  },
  {
   "cell_type": "markdown",
   "id": "b48377d6-608b-45c8-b3fa-e97d39193325",
   "metadata": {},
   "source": [
    "目前为止，`groupby`的分组依据都是直接可以从列中按照名字获取的，那如果希望通过一定的复杂逻辑来分组，首先应该先写出分组条件："
   ]
  },
  {
   "cell_type": "code",
   "execution_count": 8,
   "id": "fa5d8c01-9b79-4648-81e8-d6e2169a8202",
   "metadata": {},
   "outputs": [],
   "source": [
    "condition = df['age']>30"
   ]
  },
  {
   "cell_type": "code",
   "execution_count": 9,
   "id": "86385f34-b288-4d36-8f99-41c4c8a584bb",
   "metadata": {},
   "outputs": [
    {
     "data": {
      "text/plain": [
       "0        True\n",
       "1        True\n",
       "2        True\n",
       "3        True\n",
       "4        True\n",
       "         ... \n",
       "50719    True\n",
       "50720    True\n",
       "50721    True\n",
       "50722    True\n",
       "50723    True\n",
       "Name: age, Length: 50724, dtype: bool"
      ]
     },
     "execution_count": 9,
     "metadata": {},
     "output_type": "execute_result"
    }
   ],
   "source": [
    "condition"
   ]
  },
  {
   "cell_type": "code",
   "execution_count": 10,
   "id": "5fd6f2d3-a578-442c-a177-efccd7ed6e59",
   "metadata": {},
   "outputs": [
    {
     "data": {
      "text/plain": [
       "age\n",
       "False    0.030844\n",
       "True     0.031707\n",
       "Name: price, dtype: float64"
      ]
     },
     "execution_count": 10,
     "metadata": {},
     "output_type": "execute_result"
    }
   ],
   "source": [
    "df.groupby(condition)['price'].mean()"
   ]
  },
  {
   "cell_type": "markdown",
   "id": "b5bf162b-225c-40d7-86cb-9a65425cddc7",
   "metadata": {},
   "source": [
    "从索引可以看出，其实最后产生的结果就是按照条件列表中元素的值（此处是`True`和`False`）来分组，下面用随机传入字母序列来验证这一想法："
   ]
  },
  {
   "cell_type": "code",
   "execution_count": 11,
   "id": "891e8d16-f576-4dea-8b66-3a56e258ed6f",
   "metadata": {},
   "outputs": [
    {
     "data": {
      "text/plain": [
       "array(['a', 'b', 'b', ..., 'c', 'b', 'b'], dtype='<U1')"
      ]
     },
     "execution_count": 11,
     "metadata": {},
     "output_type": "execute_result"
    }
   ],
   "source": [
    "item = np.random.choice(list('abc'), df.shape[0])\n",
    "item"
   ]
  },
  {
   "cell_type": "code",
   "execution_count": 12,
   "id": "9c7c0a26-27ac-4efb-9045-8a94fcc694a5",
   "metadata": {},
   "outputs": [
    {
     "data": {
      "text/plain": [
       "a    0.031617\n",
       "b    0.031543\n",
       "c    0.031211\n",
       "Name: price, dtype: float64"
      ]
     },
     "execution_count": 12,
     "metadata": {},
     "output_type": "execute_result"
    }
   ],
   "source": [
    "item = np.random.choice(list('abc'), df.shape[0])\n",
    "df.groupby(item)['price'].mean()"
   ]
  },
  {
   "cell_type": "markdown",
   "id": "59eacd43-49ed-4d00-9a39-e0dd69d69873",
   "metadata": {},
   "source": [
    "此处的索引就是原先item中的元素，如果传入多个序列进入`groupby`，那么最后分组的依据就是这两个序列对应行的唯一组合："
   ]
  },
  {
   "cell_type": "code",
   "execution_count": 13,
   "id": "96e12e3a-a43d-468b-8301-6083d0cf7ba8",
   "metadata": {},
   "outputs": [
    {
     "data": {
      "text/plain": [
       "age     \n",
       "False  a    0.030977\n",
       "       b    0.031027\n",
       "       c    0.030533\n",
       "True   a    0.031872\n",
       "       b    0.031750\n",
       "       c    0.031493\n",
       "Name: price, dtype: float64"
      ]
     },
     "execution_count": 13,
     "metadata": {},
     "output_type": "execute_result"
    }
   ],
   "source": [
    "df.groupby([condition, item])['price'].mean()"
   ]
  },
  {
   "cell_type": "markdown",
   "id": "24601465-96e6-4da1-a6a3-8c4cf97d69b0",
   "metadata": {},
   "source": [
    "### Groupby对象\n",
    "当我们调用`df.groupby()`时，实际上创建了一个`GroupBy`对象。这个对象有许多方法和属性，可以帮助我们执行分组操作。\n",
    "\n",
    "创建一个GroupBy对象："
   ]
  },
  {
   "cell_type": "code",
   "execution_count": 14,
   "id": "0c8879ff-288a-41a6-aef1-b9409af12af9",
   "metadata": {},
   "outputs": [
    {
     "data": {
      "text/plain": [
       "<pandas.core.groupby.generic.DataFrameGroupBy object at 0x0000022E5760EA90>"
      ]
     },
     "execution_count": 14,
     "metadata": {},
     "output_type": "execute_result"
    }
   ],
   "source": [
    "gb = df.groupby(['customer_id', 'sales_channel_id'])\n",
    "gb"
   ]
  },
  {
   "cell_type": "markdown",
   "id": "26d66346-5ee5-4043-ab18-9a6534c634d3",
   "metadata": {},
   "source": [
    "通过`ngroups`属性，可以得到分组个数："
   ]
  },
  {
   "cell_type": "code",
   "execution_count": 15,
   "id": "ba7394ad-2147-44a0-ae62-6a2686fbfd16",
   "metadata": {},
   "outputs": [
    {
     "data": {
      "text/plain": [
       "88"
      ]
     },
     "execution_count": 15,
     "metadata": {},
     "output_type": "execute_result"
    }
   ],
   "source": [
    "gb.ngroups"
   ]
  },
  {
   "cell_type": "markdown",
   "id": "493d6204-b0d8-433c-a206-4bc50f9d73b6",
   "metadata": {},
   "source": [
    "通过`groups`属性，可以返回从$\\color{#FF0000}{组名}$映射到$\\color{#FF0000}{组索引列表}$的字典："
   ]
  },
  {
   "cell_type": "code",
   "execution_count": 16,
   "id": "4456977a-b985-4534-a627-b5cd03f2872b",
   "metadata": {},
   "outputs": [
    {
     "data": {
      "text/plain": [
       "dict_keys([('03d0011487606c37c1b1ed147fc72f285a50c05f00b9712e0fc3da400c864296', 1), ('03d0011487606c37c1b1ed147fc72f285a50c05f00b9712e0fc3da400c864296', 2), ('0bf4c6fd4e9d33f9bfb807bb78348cbf5c565846ff4006acf5c1b9aea77b0e54', 1), ('0bf4c6fd4e9d33f9bfb807bb78348cbf5c565846ff4006acf5c1b9aea77b0e54', 2), ('0d4fb6fb46dfe2759bcf7bc80340e8915b207aa2f74b5b3c76f74d3ce28359e8', 1), ('0d4fb6fb46dfe2759bcf7bc80340e8915b207aa2f74b5b3c76f74d3ce28359e8', 2), ('1320d4b3dd6481cde05bb80fb7ca37397f70470b9afb96aeca5d41175acaf836', 1), ('1320d4b3dd6481cde05bb80fb7ca37397f70470b9afb96aeca5d41175acaf836', 2), ('157eee38676eebb003bf97407f26e369de192997ab3902c194ce2690f060ff50', 1), ('157eee38676eebb003bf97407f26e369de192997ab3902c194ce2690f060ff50', 2), ('15a075c3ea7b76dc31971a496c0d4b1f5f30170355eff7cedd4f4234c8c9402c', 1), ('15a075c3ea7b76dc31971a496c0d4b1f5f30170355eff7cedd4f4234c8c9402c', 2), ('1df07f916d7f648458702bd0b612caee88f1fb4cd1b660fc79ca0c99d27b1293', 1), ('1df07f916d7f648458702bd0b612caee88f1fb4cd1b660fc79ca0c99d27b1293', 2), ('1f09f1593c106b2b171e201a79e922f83ddacfdb690a0d8d382c2b7d03d0a5cb', 1), ('1f09f1593c106b2b171e201a79e922f83ddacfdb690a0d8d382c2b7d03d0a5cb', 2), ('26fbbc7fb66c96e4d7984443dffa6779b9ac1e7f9c59c3207a24eacdd74e0891', 2), ('2df54f0d0653811fe06479c93905f3e6ecc6d07edf39d8b56e5b66c86182bedf', 1), ('2df54f0d0653811fe06479c93905f3e6ecc6d07edf39d8b56e5b66c86182bedf', 2), ('30d1e9b6378a74a740f64c3d34f1686693d0430b03c6cd602d58062e604373d0', 1), ('30d1e9b6378a74a740f64c3d34f1686693d0430b03c6cd602d58062e604373d0', 2), ('3493c55a7fe252c84a9a03db338f5be7afbce1edbca12f3a908fac9b983692f2', 1), ('3493c55a7fe252c84a9a03db338f5be7afbce1edbca12f3a908fac9b983692f2', 2), ('4308983955108b3af43ec57f0557211e44462a5633238351fff14c8b51f16093', 1), ('4308983955108b3af43ec57f0557211e44462a5633238351fff14c8b51f16093', 2), ('49beaacac0c7801c2ce2d189efe525fe80b5d37e46ed05b50a4cd88e34d0748f', 1), ('49beaacac0c7801c2ce2d189efe525fe80b5d37e46ed05b50a4cd88e34d0748f', 2), ('55d15396193dfd45836af3a6269a079efea339e875eff42cc0c228b002548a9d', 2), ('67931690bdf18d2e328854ae772cd5ce2505fdc11164693998b13e706db0bb56', 1), ('67931690bdf18d2e328854ae772cd5ce2505fdc11164693998b13e706db0bb56', 2), ('6881f635c5be0550646522a81a07d942ee71fcf603397d7908b76b1df2298745', 1), ('6881f635c5be0550646522a81a07d942ee71fcf603397d7908b76b1df2298745', 2), ('689f4eda82fdf3d9bfe8e524bbd0d931c4d7690f2234d3e48779f924aaf4103d', 2), ('6980555e2eaa19a3f9f8df02e983a8e50abddf6e49cc6310ee45cce60284b62f', 1), ('6980555e2eaa19a3f9f8df02e983a8e50abddf6e49cc6310ee45cce60284b62f', 2), ('6cc121e5cc202d2bf344ffe795002bdbf87178054bcda2e57161f0ef810a4b55', 1), ('6cc121e5cc202d2bf344ffe795002bdbf87178054bcda2e57161f0ef810a4b55', 2), ('716d31c400d20613322bf8a2ddfc621604ea9756c054de47e8220d2ad94f5e78', 1), ('716d31c400d20613322bf8a2ddfc621604ea9756c054de47e8220d2ad94f5e78', 2), ('77db96923d20d40532eba0020b55cd91eb51358885c2d698a2805e79481f64a1', 1), ('77db96923d20d40532eba0020b55cd91eb51358885c2d698a2805e79481f64a1', 2), ('7f0ac4394297dc4a885d3b9277ba526cbbfbf7fb7cae465b256ed8e55b864f03', 2), ('82a2b96739347895758330d4d1001ab5abbbad43c7bbfb31eef08ef25b52f366', 1), ('82a2b96739347895758330d4d1001ab5abbbad43c7bbfb31eef08ef25b52f366', 2), ('84c34f4f564db1f437943c77af41f83bf6fd7c01701cbb050070369176905712', 2), ('863f0e03da282ae32a76775ce55d8a4605a85c84a26066e1ad0e9469e8c40e68', 1), ('863f0e03da282ae32a76775ce55d8a4605a85c84a26066e1ad0e9469e8c40e68', 2), ('898ede9fb639eb2aedb2d1d433eea958817e2bbb9f94524b3a0709af6fb5257e', 1), ('898ede9fb639eb2aedb2d1d433eea958817e2bbb9f94524b3a0709af6fb5257e', 2), ('8df45859ccd71ef1e48e2ee9d1c65d5728c31c46ae957d659fa4e5c3af6cc076', 2), ('9478a9e051336b0373b07172ef96ed923cb50e0d54a7e3998250c9f5ccad2382', 1), ('9478a9e051336b0373b07172ef96ed923cb50e0d54a7e3998250c9f5ccad2382', 2), ('950159306933d969b06b43f21a92a29fd37ed81ed8786af2dee5f6a22f8b553c', 1), ('950159306933d969b06b43f21a92a29fd37ed81ed8786af2dee5f6a22f8b553c', 2), ('a65f77281a528bf5c1e9f270141d601d116e1df33bf9df512f495ee06647a9cc', 1), ('a65f77281a528bf5c1e9f270141d601d116e1df33bf9df512f495ee06647a9cc', 2), ('a76cf5ea515d09f22b7fe3e8ea3c1944316bd6264a90e26cef126242ef3c5e11', 1), ('a76cf5ea515d09f22b7fe3e8ea3c1944316bd6264a90e26cef126242ef3c5e11', 2), ('ac078972395fc6edd27d6db647ec2fcf149cefd4c2fae6b5076a9fa7d2124406', 1), ('ac078972395fc6edd27d6db647ec2fcf149cefd4c2fae6b5076a9fa7d2124406', 2), ('ae414fa70eb3c2ae0ec1640bbdf588531c8d034dfc5c06000e19601be6cd34fd', 1), ('ae414fa70eb3c2ae0ec1640bbdf588531c8d034dfc5c06000e19601be6cd34fd', 2), ('b14bfba3ae0da5af6e9711059773acf713cd7bb9a2c940ddf570affb715988a0', 1), ('b14bfba3ae0da5af6e9711059773acf713cd7bb9a2c940ddf570affb715988a0', 2), ('b4db5e5259234574edfff958e170fe3a5e13b6f146752ca066abca3c156acc71', 1), ('b4db5e5259234574edfff958e170fe3a5e13b6f146752ca066abca3c156acc71', 2), ('be1981ab818cf4ef6765b2ecaea7a2cbf14ccd6e8a7ee985513d9e8e53c6d91b', 1), ('be1981ab818cf4ef6765b2ecaea7a2cbf14ccd6e8a7ee985513d9e8e53c6d91b', 2), ('c140410d72a41ee5e2e3ba3d7f5a860f337f1b5e41c27cf9bda5517c8774f8fa', 1), ('c140410d72a41ee5e2e3ba3d7f5a860f337f1b5e41c27cf9bda5517c8774f8fa', 2), ('c3bbcf0011725dd1012eef2f6f16e28bc3d0eb2b25a4b7c9f4f98cf97821d83d', 2), ('cd04ec2726dd58a8c753e0d6423e57716fd9ebcf2f14ed6012e7e5bea016b4d6', 2), ('d80ed4ababfa96812e22b911629e6bcbf5093769051ea447e2b696ac98a3dae9', 2), ('da4991d090dbc1bc54c0538104ef2d5dc46ac40b2b0764294a2f7465c586dc5a', 2), ('e238725cbff3774b711407cc000f42c0ddabf6b07eb0e311ffb5fc72e862a34b', 1), ('e238725cbff3774b711407cc000f42c0ddabf6b07eb0e311ffb5fc72e862a34b', 2), ('e34f8aa5e7c8c258523ea3e5f5f13168b6c21a9e8bffccd515dd5cef56126efb', 1), ('e34f8aa5e7c8c258523ea3e5f5f13168b6c21a9e8bffccd515dd5cef56126efb', 2), ('e55d5ddb3a0c3fb1b4df8edbf526ba12989ab2a852c72774e3f3338cbbb3335e', 1), ('e55d5ddb3a0c3fb1b4df8edbf526ba12989ab2a852c72774e3f3338cbbb3335e', 2), ('e6498c7514c61d3c24669f49753dc83fdff3ec1ba13902dd9184c959d8f0b249', 2), ('e7c0ff2f724293c09bf3ba498c8c49b001040374fab1cdf2d6fe6017de089eba', 1), ('e7c0ff2f724293c09bf3ba498c8c49b001040374fab1cdf2d6fe6017de089eba', 2), ('e97c3a6c680cd3569df10f901a61fdffaf8f70300f6adf6e266b80c87d54245a', 1), ('e97c3a6c680cd3569df10f901a61fdffaf8f70300f6adf6e266b80c87d54245a', 2), ('efaafb08a00e63ce561a67c31c1ab7e720d4f394a78c4705518dc02084a29172', 1), ('efaafb08a00e63ce561a67c31c1ab7e720d4f394a78c4705518dc02084a29172', 2), ('f137c16fd175271922dad4006565503952f24750a57388fe24970a218c62de6a', 2)])"
      ]
     },
     "execution_count": 16,
     "metadata": {},
     "output_type": "execute_result"
    }
   ],
   "source": [
    "res = gb.groups\n",
    "res.keys() # 字典的值由于是索引，元素个数过多，此处只展示字典的键"
   ]
  },
  {
   "cell_type": "markdown",
   "id": "07e440dc-719e-428e-8f7c-f555d4ddfe95",
   "metadata": {},
   "source": [
    "## 聚合函数\n",
    "\n",
    "### 内置聚合函数\n",
    "\n",
    "在`GroupBy`对象上已经定义了许多内置的聚合函数，这些函数通常经过优化，能够提供更快的性能。这些函数按照返回标量值的原则，包括：`max`, `min`, `mean`, `median`, `count`, `all`, `any`, `idxmax`, `idxmin`, `mad`, `nunique`, `skew`, `quantile`, `sum`, `std`, `var`, `sem`, `size`, `prod`等。\n",
    "\n",
    "例如，我们可以获取每个年龄组的最大价格："
   ]
  },
  {
   "cell_type": "code",
   "execution_count": 17,
   "id": "d6c40e93-a7e3-4a58-9ded-ca633a0d093c",
   "metadata": {},
   "outputs": [],
   "source": [
    "gb = df.groupby('age')['price']"
   ]
  },
  {
   "cell_type": "code",
   "execution_count": 18,
   "id": "aa4579ff-c9c9-4cd5-a4b1-69d217db069b",
   "metadata": {},
   "outputs": [
    {
     "data": {
      "text/plain": [
       "age\n",
       "22.0    0.118627\n",
       "23.0    0.167797\n",
       "24.0    0.101678\n",
       "25.0    0.252542\n",
       "26.0    0.101678\n",
       "27.0    0.506780\n",
       "28.0    0.218644\n",
       "30.0    0.098288\n",
       "31.0    0.303390\n",
       "32.0    0.337288\n",
       "33.0    0.303390\n",
       "36.0    0.239898\n",
       "40.0    0.174915\n",
       "42.0    0.101678\n",
       "43.0    0.167797\n",
       "44.0    0.152525\n",
       "45.0    0.167797\n",
       "46.0    0.167797\n",
       "47.0    0.167797\n",
       "49.0    0.152525\n",
       "51.0    0.337288\n",
       "52.0    0.201695\n",
       "53.0    0.422034\n",
       "54.0    0.167797\n",
       "55.0    0.118627\n",
       "58.0    0.085169\n",
       "59.0    0.213390\n",
       "60.0    0.218644\n",
       "61.0    0.218644\n",
       "64.0    0.084729\n",
       "67.0    0.084729\n",
       "68.0    0.252542\n",
       "70.0    0.252542\n",
       "Name: price, dtype: float64"
      ]
     },
     "execution_count": 18,
     "metadata": {},
     "output_type": "execute_result"
    }
   ],
   "source": [
    "gb.max()"
   ]
  },
  {
   "cell_type": "code",
   "execution_count": 19,
   "id": "1c085026-bf97-477a-af52-4facb6ebcfdb",
   "metadata": {},
   "outputs": [
    {
     "data": {
      "text/plain": [
       "age\n",
       "22.0    0.050831\n",
       "23.0    0.067780\n",
       "24.0    0.050831\n",
       "25.0    0.059305\n",
       "26.0    0.064605\n",
       "27.0    0.118627\n",
       "28.0    0.067780\n",
       "30.0    0.050831\n",
       "31.0    0.067780\n",
       "32.0    0.067780\n",
       "33.0    0.072017\n",
       "36.0    0.067780\n",
       "40.0    0.054220\n",
       "42.0    0.067780\n",
       "43.0    0.067780\n",
       "44.0    0.064136\n",
       "45.0    0.067780\n",
       "46.0    0.064847\n",
       "47.0    0.095102\n",
       "49.0    0.059305\n",
       "51.0    0.084729\n",
       "52.0    0.084729\n",
       "53.0    0.084729\n",
       "54.0    0.081339\n",
       "55.0    0.059305\n",
       "58.0    0.038475\n",
       "59.0    0.059305\n",
       "60.0    0.067780\n",
       "61.0    0.084729\n",
       "64.0    0.050831\n",
       "67.0    0.034080\n",
       "68.0    0.067780\n",
       "70.0    0.135576\n",
       "Name: price, dtype: float64"
      ]
     },
     "execution_count": 19,
     "metadata": {},
     "output_type": "execute_result"
    }
   ],
   "source": [
    "gb.quantile(0.95)"
   ]
  },
  {
   "cell_type": "markdown",
   "id": "05e6732e-8fac-4806-8458-c7b3bb14353a",
   "metadata": {},
   "source": [
    "### agg方法\n",
    "\n",
    "虽然`GroupBy`对象提供了多个便捷的聚合方法，但有时我们需要更灵活的操作，比如：\n",
    "\n",
    "* 同时使用多个聚合函数\n",
    "* 对特定列使用特定的聚合函数\n",
    "* 使用自定义的聚合函数\n",
    "* 在聚合前自定义结果列名\n",
    "\n",
    "`agg`方法可以帮助我们解决这些问题：\n",
    "\n",
    "【a】同时使用多个函数\n",
    "\n",
    "使用多个聚合函数时，将它们作为列表传递给`agg`方法："
   ]
  },
  {
   "cell_type": "code",
   "execution_count": 21,
   "id": "d0fe5550-cd41-4218-800a-79bc1506ce20",
   "metadata": {},
   "outputs": [
    {
     "data": {
      "text/html": [
       "<div>\n",
       "<style scoped>\n",
       "    .dataframe tbody tr th:only-of-type {\n",
       "        vertical-align: middle;\n",
       "    }\n",
       "\n",
       "    .dataframe tbody tr th {\n",
       "        vertical-align: top;\n",
       "    }\n",
       "\n",
       "    .dataframe thead tr th {\n",
       "        text-align: left;\n",
       "    }\n",
       "\n",
       "    .dataframe thead tr:last-of-type th {\n",
       "        text-align: right;\n",
       "    }\n",
       "</style>\n",
       "<table border=\"1\" class=\"dataframe\">\n",
       "  <thead>\n",
       "    <tr>\n",
       "      <th></th>\n",
       "      <th colspan=\"3\" halign=\"left\">price</th>\n",
       "      <th colspan=\"3\" halign=\"left\">age</th>\n",
       "    </tr>\n",
       "    <tr>\n",
       "      <th></th>\n",
       "      <th>min</th>\n",
       "      <th>max</th>\n",
       "      <th>mean</th>\n",
       "      <th>min</th>\n",
       "      <th>max</th>\n",
       "      <th>mean</th>\n",
       "    </tr>\n",
       "    <tr>\n",
       "      <th>article_id</th>\n",
       "      <th></th>\n",
       "      <th></th>\n",
       "      <th></th>\n",
       "      <th></th>\n",
       "      <th></th>\n",
       "      <th></th>\n",
       "    </tr>\n",
       "  </thead>\n",
       "  <tbody>\n",
       "    <tr>\n",
       "      <th>108775015</th>\n",
       "      <td>0.006763</td>\n",
       "      <td>0.008458</td>\n",
       "      <td>0.007612</td>\n",
       "      <td>28.0</td>\n",
       "      <td>61.0</td>\n",
       "      <td>41.125000</td>\n",
       "    </tr>\n",
       "    <tr>\n",
       "      <th>108775044</th>\n",
       "      <td>0.006763</td>\n",
       "      <td>0.008458</td>\n",
       "      <td>0.008119</td>\n",
       "      <td>22.0</td>\n",
       "      <td>51.0</td>\n",
       "      <td>40.600000</td>\n",
       "    </tr>\n",
       "    <tr>\n",
       "      <th>110065001</th>\n",
       "      <td>0.025407</td>\n",
       "      <td>0.025407</td>\n",
       "      <td>0.025407</td>\n",
       "      <td>23.0</td>\n",
       "      <td>55.0</td>\n",
       "      <td>48.600000</td>\n",
       "    </tr>\n",
       "    <tr>\n",
       "      <th>110065011</th>\n",
       "      <td>0.010831</td>\n",
       "      <td>0.025407</td>\n",
       "      <td>0.017746</td>\n",
       "      <td>31.0</td>\n",
       "      <td>58.0</td>\n",
       "      <td>48.600000</td>\n",
       "    </tr>\n",
       "    <tr>\n",
       "      <th>111565001</th>\n",
       "      <td>0.008458</td>\n",
       "      <td>0.008458</td>\n",
       "      <td>0.008458</td>\n",
       "      <td>22.0</td>\n",
       "      <td>22.0</td>\n",
       "      <td>22.000000</td>\n",
       "    </tr>\n",
       "    <tr>\n",
       "      <th>...</th>\n",
       "      <td>...</td>\n",
       "      <td>...</td>\n",
       "      <td>...</td>\n",
       "      <td>...</td>\n",
       "      <td>...</td>\n",
       "      <td>...</td>\n",
       "    </tr>\n",
       "    <tr>\n",
       "      <th>946763001</th>\n",
       "      <td>0.033881</td>\n",
       "      <td>0.033881</td>\n",
       "      <td>0.033881</td>\n",
       "      <td>70.0</td>\n",
       "      <td>70.0</td>\n",
       "      <td>70.000000</td>\n",
       "    </tr>\n",
       "    <tr>\n",
       "      <th>946795001</th>\n",
       "      <td>0.042356</td>\n",
       "      <td>0.042356</td>\n",
       "      <td>0.042356</td>\n",
       "      <td>23.0</td>\n",
       "      <td>23.0</td>\n",
       "      <td>23.000000</td>\n",
       "    </tr>\n",
       "    <tr>\n",
       "      <th>947509001</th>\n",
       "      <td>0.030492</td>\n",
       "      <td>0.030492</td>\n",
       "      <td>0.030492</td>\n",
       "      <td>32.0</td>\n",
       "      <td>33.0</td>\n",
       "      <td>32.333333</td>\n",
       "    </tr>\n",
       "    <tr>\n",
       "      <th>952267001</th>\n",
       "      <td>0.016932</td>\n",
       "      <td>0.016932</td>\n",
       "      <td>0.016932</td>\n",
       "      <td>68.0</td>\n",
       "      <td>68.0</td>\n",
       "      <td>68.000000</td>\n",
       "    </tr>\n",
       "    <tr>\n",
       "      <th>956217002</th>\n",
       "      <td>0.059305</td>\n",
       "      <td>0.059305</td>\n",
       "      <td>0.059305</td>\n",
       "      <td>31.0</td>\n",
       "      <td>31.0</td>\n",
       "      <td>31.000000</td>\n",
       "    </tr>\n",
       "  </tbody>\n",
       "</table>\n",
       "<p>22334 rows × 6 columns</p>\n",
       "</div>"
      ],
      "text/plain": [
       "               price                       age                 \n",
       "                 min       max      mean   min   max       mean\n",
       "article_id                                                     \n",
       "108775015   0.006763  0.008458  0.007612  28.0  61.0  41.125000\n",
       "108775044   0.006763  0.008458  0.008119  22.0  51.0  40.600000\n",
       "110065001   0.025407  0.025407  0.025407  23.0  55.0  48.600000\n",
       "110065011   0.010831  0.025407  0.017746  31.0  58.0  48.600000\n",
       "111565001   0.008458  0.008458  0.008458  22.0  22.0  22.000000\n",
       "...              ...       ...       ...   ...   ...        ...\n",
       "946763001   0.033881  0.033881  0.033881  70.0  70.0  70.000000\n",
       "946795001   0.042356  0.042356  0.042356  23.0  23.0  23.000000\n",
       "947509001   0.030492  0.030492  0.030492  32.0  33.0  32.333333\n",
       "952267001   0.016932  0.016932  0.016932  68.0  68.0  68.000000\n",
       "956217002   0.059305  0.059305  0.059305  31.0  31.0  31.000000\n",
       "\n",
       "[22334 rows x 6 columns]"
      ]
     },
     "execution_count": 21,
     "metadata": {},
     "output_type": "execute_result"
    }
   ],
   "source": [
    "gb = df.groupby('article_id')[['price','age']]\n",
    "gb.agg(['min','max','mean'])"
   ]
  },
  {
   "cell_type": "markdown",
   "id": "43e5099d-55b5-409c-900e-2c2c62d7b691",
   "metadata": {},
   "source": [
    "【b】对特定的列使用特定的聚合函数\n",
    "\n",
    "当我们需要对不同的列使用不同的聚合函数时，可以传递一个字典到`agg`方法："
   ]
  },
  {
   "cell_type": "code",
   "execution_count": 29,
   "id": "2ad71440-4458-4ebb-82f1-be13c0be69ad",
   "metadata": {},
   "outputs": [
    {
     "data": {
      "text/html": [
       "<div>\n",
       "<style scoped>\n",
       "    .dataframe tbody tr th:only-of-type {\n",
       "        vertical-align: middle;\n",
       "    }\n",
       "\n",
       "    .dataframe tbody tr th {\n",
       "        vertical-align: top;\n",
       "    }\n",
       "\n",
       "    .dataframe thead tr th {\n",
       "        text-align: left;\n",
       "    }\n",
       "\n",
       "    .dataframe thead tr:last-of-type th {\n",
       "        text-align: right;\n",
       "    }\n",
       "</style>\n",
       "<table border=\"1\" class=\"dataframe\">\n",
       "  <thead>\n",
       "    <tr>\n",
       "      <th></th>\n",
       "      <th colspan=\"2\" halign=\"left\">price</th>\n",
       "      <th>age</th>\n",
       "    </tr>\n",
       "    <tr>\n",
       "      <th></th>\n",
       "      <th>min</th>\n",
       "      <th>max</th>\n",
       "      <th>median</th>\n",
       "    </tr>\n",
       "    <tr>\n",
       "      <th>article_id</th>\n",
       "      <th></th>\n",
       "      <th></th>\n",
       "      <th></th>\n",
       "    </tr>\n",
       "  </thead>\n",
       "  <tbody>\n",
       "    <tr>\n",
       "      <th>108775015</th>\n",
       "      <td>0.006763</td>\n",
       "      <td>0.008458</td>\n",
       "      <td>46.0</td>\n",
       "    </tr>\n",
       "    <tr>\n",
       "      <th>108775044</th>\n",
       "      <td>0.006763</td>\n",
       "      <td>0.008458</td>\n",
       "      <td>46.0</td>\n",
       "    </tr>\n",
       "    <tr>\n",
       "      <th>110065001</th>\n",
       "      <td>0.025407</td>\n",
       "      <td>0.025407</td>\n",
       "      <td>55.0</td>\n",
       "    </tr>\n",
       "    <tr>\n",
       "      <th>110065011</th>\n",
       "      <td>0.010831</td>\n",
       "      <td>0.025407</td>\n",
       "      <td>55.0</td>\n",
       "    </tr>\n",
       "    <tr>\n",
       "      <th>111565001</th>\n",
       "      <td>0.008458</td>\n",
       "      <td>0.008458</td>\n",
       "      <td>22.0</td>\n",
       "    </tr>\n",
       "    <tr>\n",
       "      <th>...</th>\n",
       "      <td>...</td>\n",
       "      <td>...</td>\n",
       "      <td>...</td>\n",
       "    </tr>\n",
       "    <tr>\n",
       "      <th>946763001</th>\n",
       "      <td>0.033881</td>\n",
       "      <td>0.033881</td>\n",
       "      <td>70.0</td>\n",
       "    </tr>\n",
       "    <tr>\n",
       "      <th>946795001</th>\n",
       "      <td>0.042356</td>\n",
       "      <td>0.042356</td>\n",
       "      <td>23.0</td>\n",
       "    </tr>\n",
       "    <tr>\n",
       "      <th>947509001</th>\n",
       "      <td>0.030492</td>\n",
       "      <td>0.030492</td>\n",
       "      <td>32.0</td>\n",
       "    </tr>\n",
       "    <tr>\n",
       "      <th>952267001</th>\n",
       "      <td>0.016932</td>\n",
       "      <td>0.016932</td>\n",
       "      <td>68.0</td>\n",
       "    </tr>\n",
       "    <tr>\n",
       "      <th>956217002</th>\n",
       "      <td>0.059305</td>\n",
       "      <td>0.059305</td>\n",
       "      <td>31.0</td>\n",
       "    </tr>\n",
       "  </tbody>\n",
       "</table>\n",
       "<p>22334 rows × 3 columns</p>\n",
       "</div>"
      ],
      "text/plain": [
       "               price              age\n",
       "                 min       max median\n",
       "article_id                           \n",
       "108775015   0.006763  0.008458   46.0\n",
       "108775044   0.006763  0.008458   46.0\n",
       "110065001   0.025407  0.025407   55.0\n",
       "110065011   0.010831  0.025407   55.0\n",
       "111565001   0.008458  0.008458   22.0\n",
       "...              ...       ...    ...\n",
       "946763001   0.033881  0.033881   70.0\n",
       "946795001   0.042356  0.042356   23.0\n",
       "947509001   0.030492  0.030492   32.0\n",
       "952267001   0.016932  0.016932   68.0\n",
       "956217002   0.059305  0.059305   31.0\n",
       "\n",
       "[22334 rows x 3 columns]"
      ]
     },
     "execution_count": 29,
     "metadata": {},
     "output_type": "execute_result"
    }
   ],
   "source": [
    "gb.agg({'price':['min','max'], 'age':'median'})"
   ]
  },
  {
   "cell_type": "markdown",
   "id": "ae30f707-d7bd-49b9-b4c9-7497b8f5dcad",
   "metadata": {},
   "source": [
    "【c】使用自定义的聚合函数\n",
    "\n",
    "`agg` 方法还允许使用自定义函数进行聚合。这在内置的聚合函数无法满足特定需求时非常有用："
   ]
  },
  {
   "cell_type": "code",
   "execution_count": 30,
   "id": "cdfd4ce0-cc85-4784-bf03-e8511997fe04",
   "metadata": {},
   "outputs": [
    {
     "data": {
      "text/html": [
       "<div>\n",
       "<style scoped>\n",
       "    .dataframe tbody tr th:only-of-type {\n",
       "        vertical-align: middle;\n",
       "    }\n",
       "\n",
       "    .dataframe tbody tr th {\n",
       "        vertical-align: top;\n",
       "    }\n",
       "\n",
       "    .dataframe thead th {\n",
       "        text-align: right;\n",
       "    }\n",
       "</style>\n",
       "<table border=\"1\" class=\"dataframe\">\n",
       "  <thead>\n",
       "    <tr style=\"text-align: right;\">\n",
       "      <th></th>\n",
       "      <th>price</th>\n",
       "      <th>age</th>\n",
       "    </tr>\n",
       "    <tr>\n",
       "      <th>article_id</th>\n",
       "      <th></th>\n",
       "      <th></th>\n",
       "    </tr>\n",
       "  </thead>\n",
       "  <tbody>\n",
       "    <tr>\n",
       "      <th>108775015</th>\n",
       "      <td>0.001695</td>\n",
       "      <td>41.125000</td>\n",
       "    </tr>\n",
       "    <tr>\n",
       "      <th>108775044</th>\n",
       "      <td>0.001695</td>\n",
       "      <td>40.600000</td>\n",
       "    </tr>\n",
       "    <tr>\n",
       "      <th>110065001</th>\n",
       "      <td>0.000000</td>\n",
       "      <td>48.600000</td>\n",
       "    </tr>\n",
       "    <tr>\n",
       "      <th>110065011</th>\n",
       "      <td>0.014576</td>\n",
       "      <td>48.600000</td>\n",
       "    </tr>\n",
       "    <tr>\n",
       "      <th>111565001</th>\n",
       "      <td>0.000000</td>\n",
       "      <td>22.000000</td>\n",
       "    </tr>\n",
       "    <tr>\n",
       "      <th>...</th>\n",
       "      <td>...</td>\n",
       "      <td>...</td>\n",
       "    </tr>\n",
       "    <tr>\n",
       "      <th>946763001</th>\n",
       "      <td>0.000000</td>\n",
       "      <td>70.000000</td>\n",
       "    </tr>\n",
       "    <tr>\n",
       "      <th>946795001</th>\n",
       "      <td>0.000000</td>\n",
       "      <td>23.000000</td>\n",
       "    </tr>\n",
       "    <tr>\n",
       "      <th>947509001</th>\n",
       "      <td>0.000000</td>\n",
       "      <td>32.333333</td>\n",
       "    </tr>\n",
       "    <tr>\n",
       "      <th>952267001</th>\n",
       "      <td>0.000000</td>\n",
       "      <td>68.000000</td>\n",
       "    </tr>\n",
       "    <tr>\n",
       "      <th>956217002</th>\n",
       "      <td>0.000000</td>\n",
       "      <td>31.000000</td>\n",
       "    </tr>\n",
       "  </tbody>\n",
       "</table>\n",
       "<p>22334 rows × 2 columns</p>\n",
       "</div>"
      ],
      "text/plain": [
       "               price        age\n",
       "article_id                     \n",
       "108775015   0.001695  41.125000\n",
       "108775044   0.001695  40.600000\n",
       "110065001   0.000000  48.600000\n",
       "110065011   0.014576  48.600000\n",
       "111565001   0.000000  22.000000\n",
       "...              ...        ...\n",
       "946763001   0.000000  70.000000\n",
       "946795001   0.000000  23.000000\n",
       "947509001   0.000000  32.333333\n",
       "952267001   0.000000  68.000000\n",
       "956217002   0.000000  31.000000\n",
       "\n",
       "[22334 rows x 2 columns]"
      ]
     },
     "execution_count": 30,
     "metadata": {},
     "output_type": "execute_result"
    }
   ],
   "source": [
    "# 自定义聚合函数\n",
    "def range_func(series):\n",
    "    return series.max() - series.min()\n",
    "\n",
    "# 应用自定义聚合函数\n",
    "agg_custom = gb.agg({'price': range_func, 'age': 'mean'})\n",
    "agg_custom"
   ]
  },
  {
   "cell_type": "markdown",
   "id": "a10f9d15-114e-4bb2-ad45-2b99ee893e1f",
   "metadata": {},
   "source": [
    "在这个例子中，我们定义了一个 `range_func` 函数来计算价格的范围（最大值减最小值），并将其应用于 `price` 列，同时计算 `age` 列的平均值。"
   ]
  },
  {
   "cell_type": "markdown",
   "id": "996ab211-24a5-4df7-b8c4-c153a9d9075a",
   "metadata": {},
   "source": [
    "【d】在聚合前自定义结果列名\n",
    "\n",
    "如果希望在聚合之前指定结果的列名，可以在聚合函数中使用元组。这样可以在结果 DataFrame 中直接得到更有意义的列名："
   ]
  },
  {
   "cell_type": "code",
   "execution_count": 33,
   "id": "724629ef-3732-44ea-814a-e4201bbf5f3b",
   "metadata": {},
   "outputs": [
    {
     "data": {
      "text/html": [
       "<div>\n",
       "<style scoped>\n",
       "    .dataframe tbody tr th:only-of-type {\n",
       "        vertical-align: middle;\n",
       "    }\n",
       "\n",
       "    .dataframe tbody tr th {\n",
       "        vertical-align: top;\n",
       "    }\n",
       "\n",
       "    .dataframe thead th {\n",
       "        text-align: right;\n",
       "    }\n",
       "</style>\n",
       "<table border=\"1\" class=\"dataframe\">\n",
       "  <thead>\n",
       "    <tr style=\"text-align: right;\">\n",
       "      <th></th>\n",
       "      <th>price_range</th>\n",
       "      <th>age_average</th>\n",
       "      <th>age_max</th>\n",
       "    </tr>\n",
       "    <tr>\n",
       "      <th>article_id</th>\n",
       "      <th></th>\n",
       "      <th></th>\n",
       "      <th></th>\n",
       "    </tr>\n",
       "  </thead>\n",
       "  <tbody>\n",
       "    <tr>\n",
       "      <th>108775015</th>\n",
       "      <td>0.001695</td>\n",
       "      <td>41.125000</td>\n",
       "      <td>61.0</td>\n",
       "    </tr>\n",
       "    <tr>\n",
       "      <th>108775044</th>\n",
       "      <td>0.001695</td>\n",
       "      <td>40.600000</td>\n",
       "      <td>51.0</td>\n",
       "    </tr>\n",
       "    <tr>\n",
       "      <th>110065001</th>\n",
       "      <td>0.000000</td>\n",
       "      <td>48.600000</td>\n",
       "      <td>55.0</td>\n",
       "    </tr>\n",
       "    <tr>\n",
       "      <th>110065011</th>\n",
       "      <td>0.014576</td>\n",
       "      <td>48.600000</td>\n",
       "      <td>58.0</td>\n",
       "    </tr>\n",
       "    <tr>\n",
       "      <th>111565001</th>\n",
       "      <td>0.000000</td>\n",
       "      <td>22.000000</td>\n",
       "      <td>22.0</td>\n",
       "    </tr>\n",
       "    <tr>\n",
       "      <th>...</th>\n",
       "      <td>...</td>\n",
       "      <td>...</td>\n",
       "      <td>...</td>\n",
       "    </tr>\n",
       "    <tr>\n",
       "      <th>946763001</th>\n",
       "      <td>0.000000</td>\n",
       "      <td>70.000000</td>\n",
       "      <td>70.0</td>\n",
       "    </tr>\n",
       "    <tr>\n",
       "      <th>946795001</th>\n",
       "      <td>0.000000</td>\n",
       "      <td>23.000000</td>\n",
       "      <td>23.0</td>\n",
       "    </tr>\n",
       "    <tr>\n",
       "      <th>947509001</th>\n",
       "      <td>0.000000</td>\n",
       "      <td>32.333333</td>\n",
       "      <td>33.0</td>\n",
       "    </tr>\n",
       "    <tr>\n",
       "      <th>952267001</th>\n",
       "      <td>0.000000</td>\n",
       "      <td>68.000000</td>\n",
       "      <td>68.0</td>\n",
       "    </tr>\n",
       "    <tr>\n",
       "      <th>956217002</th>\n",
       "      <td>0.000000</td>\n",
       "      <td>31.000000</td>\n",
       "      <td>31.0</td>\n",
       "    </tr>\n",
       "  </tbody>\n",
       "</table>\n",
       "<p>22334 rows × 3 columns</p>\n",
       "</div>"
      ],
      "text/plain": [
       "            price_range  age_average  age_max\n",
       "article_id                                   \n",
       "108775015      0.001695    41.125000     61.0\n",
       "108775044      0.001695    40.600000     51.0\n",
       "110065001      0.000000    48.600000     55.0\n",
       "110065011      0.014576    48.600000     58.0\n",
       "111565001      0.000000    22.000000     22.0\n",
       "...                 ...          ...      ...\n",
       "946763001      0.000000    70.000000     70.0\n",
       "946795001      0.000000    23.000000     23.0\n",
       "947509001      0.000000    32.333333     33.0\n",
       "952267001      0.000000    68.000000     68.0\n",
       "956217002      0.000000    31.000000     31.0\n",
       "\n",
       "[22334 rows x 3 columns]"
      ]
     },
     "execution_count": 33,
     "metadata": {},
     "output_type": "execute_result"
    }
   ],
   "source": [
    "# 使用元组自定义结果列名\n",
    "agg_named = gb.agg(price_range=('price', range_func),\n",
    "                   age_average=('age', 'mean'),\n",
    "                   age_max=('age','max'))\n",
    "agg_named"
   ]
  },
  {
   "cell_type": "code",
   "execution_count": null,
   "id": "6fee5e29-47c4-434b-bf36-fa68bd70961b",
   "metadata": {},
   "outputs": [],
   "source": []
  }
 ],
 "metadata": {
  "kernelspec": {
   "display_name": "Python 3 (ipykernel)",
   "language": "python",
   "name": "python3"
  },
  "language_info": {
   "codemirror_mode": {
    "name": "ipython",
    "version": 3
   },
   "file_extension": ".py",
   "mimetype": "text/x-python",
   "name": "python",
   "nbconvert_exporter": "python",
   "pygments_lexer": "ipython3",
   "version": "3.9.18"
  }
 },
 "nbformat": 4,
 "nbformat_minor": 5
}
